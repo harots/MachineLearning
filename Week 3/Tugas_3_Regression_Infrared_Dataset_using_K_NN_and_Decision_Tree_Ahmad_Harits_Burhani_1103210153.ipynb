{
  "nbformat": 4,
  "nbformat_minor": 0,
  "metadata": {
    "colab": {
      "provenance": []
    },
    "kernelspec": {
      "name": "python3",
      "display_name": "Python 3"
    },
    "language_info": {
      "name": "python"
    }
  },
  "cells": [
    {
      "cell_type": "code",
      "execution_count": 2,
      "metadata": {
        "colab": {
          "base_uri": "https://localhost:8080/"
        },
        "id": "2irFYUpboGan",
        "outputId": "482fff99-35fa-47e9-c271-c408f51b8b67"
      },
      "outputs": [
        {
          "output_type": "stream",
          "name": "stdout",
          "text": [
            "   Gender    Age                  Ethnicity  T_atm  Humidity  Distance  \\\n",
            "0    Male  41-50                      White   24.0      28.0       0.8   \n",
            "1  Female  31-40  Black or African-American   24.0      26.0       0.8   \n",
            "2  Female  21-30                      White   24.0      26.0       0.8   \n",
            "3  Female  21-30  Black or African-American   24.0      27.0       0.8   \n",
            "4    Male  18-20                      White   24.0      27.0       0.8   \n",
            "\n",
            "   T_offset1  Max1R13_1  Max1L13_1  aveAllR13_1  ...  T_FHRC1  T_FHLC1  \\\n",
            "0     0.7025    35.0300    35.3775      34.4000  ...  33.4775  33.3725   \n",
            "1     0.7800    34.5500    34.5200      33.9300  ...  34.0550  33.6775   \n",
            "2     0.8625    35.6525    35.5175      34.2775  ...  34.8275  34.6475   \n",
            "3     0.9300    35.2225    35.6125      34.3850  ...  34.4225  34.6550   \n",
            "4     0.8950    35.5450    35.6650      34.9100  ...  35.1600  34.3975   \n",
            "\n",
            "   T_FHBC1  T_FHTC1  T_FH_Max1  T_FHC_Max1   T_Max1    T_OR1  T_OR_Max1  \\\n",
            "0  33.4925  33.0025    34.5300     34.0075  35.6925  35.6350    35.6525   \n",
            "1  33.9700  34.0025    34.6825     34.6600  35.1750  35.0925    35.1075   \n",
            "2  34.8200  34.6700    35.3450     35.2225  35.9125  35.8600    35.8850   \n",
            "3  34.3025  34.9175    35.6025     35.3150  35.7200  34.9650    34.9825   \n",
            "4  34.6700  33.8275    35.4175     35.3725  35.8950  35.5875    35.6175   \n",
            "\n",
            "   aveOralM  \n",
            "0     36.59  \n",
            "1     37.19  \n",
            "2     37.34  \n",
            "3     37.09  \n",
            "4     37.04  \n",
            "\n",
            "[5 rows x 34 columns]\n"
          ]
        }
      ],
      "source": [
        "from sklearn.model_selection import train_test_split\n",
        "from sklearn.preprocessing import LabelEncoder\n",
        "from sklearn.neighbors import KNeighborsRegressor\n",
        "from sklearn.tree import DecisionTreeRegressor\n",
        "from sklearn.metrics import mean_squared_error, r2_score\n",
        "from sklearn.impute import SimpleImputer\n",
        "import numpy as np\n",
        "import pandas as pd\n",
        "\n",
        "# URL ke file CSV mentah\n",
        "url = 'https://raw.githubusercontent.com/farrelrassya/teachingMLDL/main/02.%20Deep%20Learning/Dataset/Infrared.csv'\n",
        "\n",
        "# Membaca CSV ke dalam DataFrame\n",
        "data = pd.read_csv(url)\n",
        "\n",
        "# Menampilkan 5 baris pertama dari DataFrame\n",
        "print(data.head())"
      ]
    },
    {
      "cell_type": "code",
      "source": [
        "# Encode categorical columns\n",
        "label_encoders = {}\n",
        "for col in ['Gender', 'Age', 'Ethnicity']:\n",
        "    le = LabelEncoder()\n",
        "    data[col] = le.fit_transform(data[col])\n",
        "    label_encoders[col] = le\n",
        "\n",
        "# Fitur dan target\n",
        "X = data.drop(columns=['aveOralM'])\n",
        "y = data['aveOralM']\n",
        "\n",
        "# Split train test\n",
        "X_train, X_test, y_train, y_test = train_test_split(X, y, test_size=0.2, random_state=42)\n",
        "\n",
        "# Imputation using SimpleImputer # Create an instance of SimpleImputer\n",
        "imputer = SimpleImputer(strategy='mean')  # Replace NaN with the mean of the column\n",
        "\n",
        "# Fit the imputer on the training data and transform both training and testing data\n",
        "X_train = imputer.fit_transform(X_train)\n",
        "X_test = imputer.transform(X_test)\n",
        "\n",
        "# Model KNN\n",
        "knn = KNeighborsRegressor(n_neighbors=5)\n",
        "knn.fit(X_train, y_train) # Now, X_train should not contain any NaN values\n",
        "y_pred_knn = knn.predict(X_test)\n",
        "\n",
        "# Model Decision Tree\n",
        "tree = DecisionTreeRegressor(random_state=42)\n",
        "tree.fit(X_train, y_train)\n",
        "y_pred_tree = tree.predict(X_test)\n",
        "\n",
        "# Evaluasi\n",
        "def evaluate(y_true, y_pred):\n",
        "    mse = mean_squared_error(y_true, y_pred)\n",
        "    rmse = np.sqrt(mse)\n",
        "    r2 = r2_score(y_true, y_pred)\n",
        "    return mse, rmse, r2\n",
        "\n",
        "mse_knn, rmse_knn, r2_knn = evaluate(y_test, y_pred_knn)\n",
        "mse_tree, rmse_tree, r2_tree = evaluate(y_test, y_pred_tree)\n",
        "\n",
        "print(\"KNN:\")\n",
        "print(\"MSE:\", mse_knn)\n",
        "print(\"RMSE:\", rmse_knn)\n",
        "print(\"R^2 :\", r2_knn)\n",
        "\n",
        "print(\"\\nDecision Tree:\")\n",
        "print(\"MSE:\", mse_tree)\n",
        "print(\"RMSE:\", rmse_tree)\n",
        "print(\"R^2 :\", r2_tree)"
      ],
      "metadata": {
        "colab": {
          "base_uri": "https://localhost:8080/"
        },
        "id": "1yvUbdmhoy2W",
        "outputId": "74719804-3e6e-4f5e-bc8d-fc0f279e87ff"
      },
      "execution_count": 3,
      "outputs": [
        {
          "output_type": "stream",
          "name": "stdout",
          "text": [
            "KNN:\n",
            "MSE: 0.09551862745098053\n",
            "RMSE: 0.3090608798456714\n",
            "R^2 : 0.5463852464347939\n",
            "\n",
            "Decision Tree:\n",
            "MSE: 0.12099264705882369\n",
            "RMSE: 0.3478399733481241\n",
            "R^2 : 0.4254099829171397\n"
          ]
        }
      ]
    },
    {
      "cell_type": "markdown",
      "source": [
        "1. MSE (Mean Squared Error)\n",
        "\n",
        "![image.png](data:image/png;base64,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)\n",
        "\n",
        "Semakin kecil nilai MSE, semakin baik model karena prediksinya mendekati nilai aktual."
      ],
      "metadata": {
        "id": "ZxY1cJgcpRKa"
      }
    },
    {
      "cell_type": "markdown",
      "source": [],
      "metadata": {
        "id": "v-pOs9YvpodC"
      }
    },
    {
      "cell_type": "markdown",
      "source": [
        "2. RMSE (Root Mean Squared Error)\n",
        "\n",
        "![image.png](data:image/png;base64,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)\n",
        "\n",
        "Memberikan satuan yang sama dengan target (aveOralM) — lebih mudah diinterpretasikan."
      ],
      "metadata": {
        "id": "2VSAvBtnpq_Y"
      }
    },
    {
      "cell_type": "markdown",
      "source": [
        "3. R² (R-Squared)\n",
        "\n",
        "![image.png](data:image/png;base64,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)\n",
        "\n",
        "Mengukur seberapa baik variabilitas target dijelaskan oleh model. Nilai mendekati 1 lebih bagus."
      ],
      "metadata": {
        "id": "oftUdK83pvr5"
      }
    }
  ]
}