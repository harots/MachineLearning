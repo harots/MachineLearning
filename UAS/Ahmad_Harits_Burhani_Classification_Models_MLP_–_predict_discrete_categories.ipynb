{
  "nbformat": 4,
  "nbformat_minor": 0,
  "metadata": {
    "colab": {
      "provenance": []
    },
    "kernelspec": {
      "name": "python3",
      "display_name": "Python 3"
    },
    "language_info": {
      "name": "python"
    }
  },
  "cells": [
    {
      "cell_type": "markdown",
      "source": [
        "# **Regresi UTS Telkom**"
      ],
      "metadata": {
        "id": "A_L4ujRaYggG"
      }
    },
    {
      "cell_type": "code",
      "execution_count": 37,
      "metadata": {
        "colab": {
          "base_uri": "https://localhost:8080/"
        },
        "id": "hJ6a67i0YSIn",
        "outputId": "bccda274-a404-45b3-d414-7b9040fb0ad5"
      },
      "outputs": [
        {
          "output_type": "execute_result",
          "data": {
            "text/plain": [
              "<torch._C.Generator at 0x78a672b36eb0>"
            ]
          },
          "metadata": {},
          "execution_count": 37
        }
      ],
      "source": [
        "# Import library dasar\n",
        "import pandas as pd\n",
        "import numpy as np\n",
        "import matplotlib.pyplot as plt\n",
        "import seaborn as sns\n",
        "import gdown\n",
        "import warnings\n",
        "\n",
        "# Import dari scikit-learn\n",
        "from sklearn.model_selection import train_test_split\n",
        "from sklearn.preprocessing import StandardScaler, OneHotEncoder\n",
        "from sklearn.compose import ColumnTransformer\n",
        "from sklearn.pipeline import Pipeline\n",
        "from sklearn.metrics import (accuracy_score, classification_report,\n",
        "                             confusion_matrix, f1_score)\n",
        "\n",
        "# Import dari TensorFlow & Keras\n",
        "import tensorflow as tf\n",
        "from tensorflow import keras\n",
        "from tensorflow.keras import layers\n",
        "from tensorflow.keras.utils import to_categorical\n",
        "\n",
        "# Import dari PyTorch\n",
        "import torch\n",
        "import torch.nn as nn\n",
        "from torch.utils.data import Dataset, DataLoader, TensorDataset\n",
        "\n",
        "# Pengaturan\n",
        "warnings.filterwarnings('ignore')\n",
        "np.random.seed(42)\n",
        "tf.random.set_seed(42)\n",
        "torch.manual_seed(42)\n"
      ]
    },
    {
      "cell_type": "code",
      "source": [
        "# 1. Muat data dari Google Drive\n",
        "url = 'https://drive.google.com/uc?id=1au6HqbGWpBCszFFBjZ4YmdpnqhThnTlU'\n",
        "output = 'KlasifikasiUTS.csv'\n",
        "gdown.download(url, output, quiet=False)\n",
        "df = pd.read_csv(output)\n",
        "\n",
        "# 2. Pembersihan data dasar\n",
        "df = df.drop_duplicates()\n",
        "df = df.dropna()\n",
        "\n",
        "# 3. Asumsi: Kolom target adalah kolom terakhir\n",
        "target_col = df.columns[-1]\n",
        "X = df.drop(columns=[target_col])\n",
        "y = df[target_col]\n",
        "\n",
        "# Cek jumlah kelas dan distribusinya\n",
        "n_classes = y.nunique()\n",
        "print(f\"Tugas ini adalah klasifikasi dengan {n_classes} kelas.\")\n",
        "print(\"\\nDistribusi kelas pada target:\")\n",
        "print(y.value_counts())\n",
        "\n",
        "# 4. Split dataset menjadi data latih dan data uji\n",
        "X_train, X_test, y_train, y_test = train_test_split(\n",
        "    X, y, test_size=0.2, random_state=42, stratify=y) # stratify untuk menjaga proporsi kelas"
      ],
      "metadata": {
        "colab": {
          "base_uri": "https://localhost:8080/"
        },
        "id": "CFIVNkR9ZQ5t",
        "outputId": "cd3758c6-b947-4fae-ead5-8d96e02df490"
      },
      "execution_count": 39,
      "outputs": [
        {
          "output_type": "stream",
          "name": "stderr",
          "text": [
            "Downloading...\n",
            "From (original): https://drive.google.com/uc?id=1au6HqbGWpBCszFFBjZ4YmdpnqhThnTlU\n",
            "From (redirected): https://drive.google.com/uc?id=1au6HqbGWpBCszFFBjZ4YmdpnqhThnTlU&confirm=t&uuid=9fcf8ac2-b0f4-4b55-a353-f4c3fc35084e\n",
            "To: /content/KlasifikasiUTS.csv\n",
            "100%|██████████| 151M/151M [00:00<00:00, 156MB/s]\n"
          ]
        },
        {
          "output_type": "stream",
          "name": "stdout",
          "text": [
            "Tugas ini adalah klasifikasi dengan 2 kelas.\n",
            "\n",
            "Distribusi kelas pada target:\n",
            "Class\n",
            "0    283253\n",
            "1       473\n",
            "Name: count, dtype: int64\n"
          ]
        }
      ]
    },
    {
      "cell_type": "code",
      "source": [
        "# Identifikasi fitur kategorikal dan numerikal\n",
        "cat_cols = X.select_dtypes(include=['object', 'category']).columns\n",
        "num_cols = X.select_dtypes(include=['number']).columns\n",
        "\n",
        "# Buat pipeline preprocessing untuk fitur X\n",
        "preprocessor = ColumnTransformer(\n",
        "    transformers=[\n",
        "        ('num', StandardScaler(), num_cols),\n",
        "        ('cat', OneHotEncoder(handle_unknown='ignore'), cat_cols)\n",
        "    ],\n",
        "    remainder='passthrough'\n",
        ")\n",
        "\n",
        "# Terapkan pipeline ke data latih dan uji\n",
        "X_train_proc = preprocessor.fit_transform(X_train)\n",
        "X_test_proc = preprocessor.transform(X_test)\n",
        "\n",
        "# Ubah label y menjadi format one-hot encoding\n",
        "# Misal: 3 kelas -> label '2' menjadi [0, 0, 1]\n",
        "y_train_encoded = to_categorical(y_train, num_classes=n_classes)\n",
        "y_test_encoded = to_categorical(y_test, num_classes=n_classes)\n",
        "\n",
        "\n",
        "print(\"Pra-pemrosesan selesai.\")\n",
        "print(f\"Bentuk X_train setelah diproses: {X_train_proc.shape}\")\n",
        "print(f\"Bentuk y_train setelah di-encode: {y_train_encoded.shape}\")"
      ],
      "metadata": {
        "colab": {
          "base_uri": "https://localhost:8080/"
        },
        "id": "ICxBsHYMaLwj",
        "outputId": "bb784b30-d0d5-4f57-d54d-4ddd7e68cff2"
      },
      "execution_count": 40,
      "outputs": [
        {
          "output_type": "stream",
          "name": "stdout",
          "text": [
            "Pra-pemrosesan selesai.\n",
            "Bentuk X_train setelah diproses: (226980, 30)\n",
            "Bentuk y_train setelah di-encode: (226980, 2)\n"
          ]
        }
      ]
    },
    {
      "cell_type": "code",
      "source": [
        "def build_tf_classifier(input_shape, num_classes):\n",
        "    \"\"\"Membangun model MLP TensorFlow untuk klasifikasi.\"\"\"\n",
        "    model = keras.Sequential([\n",
        "        layers.Input(shape=(input_shape,)),\n",
        "        layers.Dense(128, activation='relu', kernel_regularizer=keras.regularizers.l2(1e-4)),\n",
        "        layers.BatchNormalization(),\n",
        "        layers.Dropout(0.4),\n",
        "        layers.Dense(64, activation='relu'),\n",
        "        layers.BatchNormalization(),\n",
        "        layers.Dropout(0.3),\n",
        "        # --- PERUBAHAN PENTING ---\n",
        "        # Layer output disesuaikan untuk klasifikasi multi-kelas\n",
        "        layers.Dense(num_classes, activation='softmax')\n",
        "    ])\n",
        "\n",
        "    # Kompilasi model dengan loss dan metrik untuk klasifikasi\n",
        "    model.compile(\n",
        "        optimizer=keras.optimizers.Adam(learning_rate=1e-3),\n",
        "        loss='categorical_crossentropy', # Loss untuk klasifikasi\n",
        "        metrics=['accuracy'] # Metrik untuk klasifikasi\n",
        "    )\n",
        "    return model\n",
        "\n",
        "# Bangun model\n",
        "model_tf = build_tf_classifier(X_train_proc.shape[1], n_classes)\n",
        "model_tf.summary()\n",
        "\n",
        "# Callbacks\n",
        "early_stop = keras.callbacks.EarlyStopping(monitor='val_accuracy', patience=10, restore_best_weights=True)\n",
        "lr_schedule = keras.callbacks.ReduceLROnPlateau(monitor='val_loss', factor=0.2, patience=5)\n",
        "\n",
        "# Latih model\n",
        "history_tf = model_tf.fit(\n",
        "    X_train_proc, y_train_encoded,\n",
        "    validation_split=0.2,\n",
        "    epochs=50, # Epochs dikurangi agar cepat\n",
        "    batch_size=32,\n",
        "    callbacks=[early_stop, lr_schedule],\n",
        "    verbose=2\n",
        ")"
      ],
      "metadata": {
        "colab": {
          "base_uri": "https://localhost:8080/",
          "height": 826
        },
        "id": "-X6UYkmZcb-A",
        "outputId": "11f9802c-7218-4bfb-f967-98db2717e291"
      },
      "execution_count": 42,
      "outputs": [
        {
          "output_type": "display_data",
          "data": {
            "text/plain": [
              "\u001b[1mModel: \"sequential_3\"\u001b[0m\n"
            ],
            "text/html": [
              "<pre style=\"white-space:pre;overflow-x:auto;line-height:normal;font-family:Menlo,'DejaVu Sans Mono',consolas,'Courier New',monospace\"><span style=\"font-weight: bold\">Model: \"sequential_3\"</span>\n",
              "</pre>\n"
            ]
          },
          "metadata": {}
        },
        {
          "output_type": "display_data",
          "data": {
            "text/plain": [
              "┏━━━━━━━━━━━━━━━━━━━━━━━━━━━━━━━━━┳━━━━━━━━━━━━━━━━━━━━━━━━┳━━━━━━━━━━━━━━━┓\n",
              "┃\u001b[1m \u001b[0m\u001b[1mLayer (type)                   \u001b[0m\u001b[1m \u001b[0m┃\u001b[1m \u001b[0m\u001b[1mOutput Shape          \u001b[0m\u001b[1m \u001b[0m┃\u001b[1m \u001b[0m\u001b[1m      Param #\u001b[0m\u001b[1m \u001b[0m┃\n",
              "┡━━━━━━━━━━━━━━━━━━━━━━━━━━━━━━━━━╇━━━━━━━━━━━━━━━━━━━━━━━━╇━━━━━━━━━━━━━━━┩\n",
              "│ dense_9 (\u001b[38;5;33mDense\u001b[0m)                 │ (\u001b[38;5;45mNone\u001b[0m, \u001b[38;5;34m128\u001b[0m)            │         \u001b[38;5;34m3,968\u001b[0m │\n",
              "├─────────────────────────────────┼────────────────────────┼───────────────┤\n",
              "│ batch_normalization_6           │ (\u001b[38;5;45mNone\u001b[0m, \u001b[38;5;34m128\u001b[0m)            │           \u001b[38;5;34m512\u001b[0m │\n",
              "│ (\u001b[38;5;33mBatchNormalization\u001b[0m)            │                        │               │\n",
              "├─────────────────────────────────┼────────────────────────┼───────────────┤\n",
              "│ dropout_6 (\u001b[38;5;33mDropout\u001b[0m)             │ (\u001b[38;5;45mNone\u001b[0m, \u001b[38;5;34m128\u001b[0m)            │             \u001b[38;5;34m0\u001b[0m │\n",
              "├─────────────────────────────────┼────────────────────────┼───────────────┤\n",
              "│ dense_10 (\u001b[38;5;33mDense\u001b[0m)                │ (\u001b[38;5;45mNone\u001b[0m, \u001b[38;5;34m64\u001b[0m)             │         \u001b[38;5;34m8,256\u001b[0m │\n",
              "├─────────────────────────────────┼────────────────────────┼───────────────┤\n",
              "│ batch_normalization_7           │ (\u001b[38;5;45mNone\u001b[0m, \u001b[38;5;34m64\u001b[0m)             │           \u001b[38;5;34m256\u001b[0m │\n",
              "│ (\u001b[38;5;33mBatchNormalization\u001b[0m)            │                        │               │\n",
              "├─────────────────────────────────┼────────────────────────┼───────────────┤\n",
              "│ dropout_7 (\u001b[38;5;33mDropout\u001b[0m)             │ (\u001b[38;5;45mNone\u001b[0m, \u001b[38;5;34m64\u001b[0m)             │             \u001b[38;5;34m0\u001b[0m │\n",
              "├─────────────────────────────────┼────────────────────────┼───────────────┤\n",
              "│ dense_11 (\u001b[38;5;33mDense\u001b[0m)                │ (\u001b[38;5;45mNone\u001b[0m, \u001b[38;5;34m2\u001b[0m)              │           \u001b[38;5;34m130\u001b[0m │\n",
              "└─────────────────────────────────┴────────────────────────┴───────────────┘\n"
            ],
            "text/html": [
              "<pre style=\"white-space:pre;overflow-x:auto;line-height:normal;font-family:Menlo,'DejaVu Sans Mono',consolas,'Courier New',monospace\">┏━━━━━━━━━━━━━━━━━━━━━━━━━━━━━━━━━┳━━━━━━━━━━━━━━━━━━━━━━━━┳━━━━━━━━━━━━━━━┓\n",
              "┃<span style=\"font-weight: bold\"> Layer (type)                    </span>┃<span style=\"font-weight: bold\"> Output Shape           </span>┃<span style=\"font-weight: bold\">       Param # </span>┃\n",
              "┡━━━━━━━━━━━━━━━━━━━━━━━━━━━━━━━━━╇━━━━━━━━━━━━━━━━━━━━━━━━╇━━━━━━━━━━━━━━━┩\n",
              "│ dense_9 (<span style=\"color: #0087ff; text-decoration-color: #0087ff\">Dense</span>)                 │ (<span style=\"color: #00d7ff; text-decoration-color: #00d7ff\">None</span>, <span style=\"color: #00af00; text-decoration-color: #00af00\">128</span>)            │         <span style=\"color: #00af00; text-decoration-color: #00af00\">3,968</span> │\n",
              "├─────────────────────────────────┼────────────────────────┼───────────────┤\n",
              "│ batch_normalization_6           │ (<span style=\"color: #00d7ff; text-decoration-color: #00d7ff\">None</span>, <span style=\"color: #00af00; text-decoration-color: #00af00\">128</span>)            │           <span style=\"color: #00af00; text-decoration-color: #00af00\">512</span> │\n",
              "│ (<span style=\"color: #0087ff; text-decoration-color: #0087ff\">BatchNormalization</span>)            │                        │               │\n",
              "├─────────────────────────────────┼────────────────────────┼───────────────┤\n",
              "│ dropout_6 (<span style=\"color: #0087ff; text-decoration-color: #0087ff\">Dropout</span>)             │ (<span style=\"color: #00d7ff; text-decoration-color: #00d7ff\">None</span>, <span style=\"color: #00af00; text-decoration-color: #00af00\">128</span>)            │             <span style=\"color: #00af00; text-decoration-color: #00af00\">0</span> │\n",
              "├─────────────────────────────────┼────────────────────────┼───────────────┤\n",
              "│ dense_10 (<span style=\"color: #0087ff; text-decoration-color: #0087ff\">Dense</span>)                │ (<span style=\"color: #00d7ff; text-decoration-color: #00d7ff\">None</span>, <span style=\"color: #00af00; text-decoration-color: #00af00\">64</span>)             │         <span style=\"color: #00af00; text-decoration-color: #00af00\">8,256</span> │\n",
              "├─────────────────────────────────┼────────────────────────┼───────────────┤\n",
              "│ batch_normalization_7           │ (<span style=\"color: #00d7ff; text-decoration-color: #00d7ff\">None</span>, <span style=\"color: #00af00; text-decoration-color: #00af00\">64</span>)             │           <span style=\"color: #00af00; text-decoration-color: #00af00\">256</span> │\n",
              "│ (<span style=\"color: #0087ff; text-decoration-color: #0087ff\">BatchNormalization</span>)            │                        │               │\n",
              "├─────────────────────────────────┼────────────────────────┼───────────────┤\n",
              "│ dropout_7 (<span style=\"color: #0087ff; text-decoration-color: #0087ff\">Dropout</span>)             │ (<span style=\"color: #00d7ff; text-decoration-color: #00d7ff\">None</span>, <span style=\"color: #00af00; text-decoration-color: #00af00\">64</span>)             │             <span style=\"color: #00af00; text-decoration-color: #00af00\">0</span> │\n",
              "├─────────────────────────────────┼────────────────────────┼───────────────┤\n",
              "│ dense_11 (<span style=\"color: #0087ff; text-decoration-color: #0087ff\">Dense</span>)                │ (<span style=\"color: #00d7ff; text-decoration-color: #00d7ff\">None</span>, <span style=\"color: #00af00; text-decoration-color: #00af00\">2</span>)              │           <span style=\"color: #00af00; text-decoration-color: #00af00\">130</span> │\n",
              "└─────────────────────────────────┴────────────────────────┴───────────────┘\n",
              "</pre>\n"
            ]
          },
          "metadata": {}
        },
        {
          "output_type": "display_data",
          "data": {
            "text/plain": [
              "\u001b[1m Total params: \u001b[0m\u001b[38;5;34m13,122\u001b[0m (51.26 KB)\n"
            ],
            "text/html": [
              "<pre style=\"white-space:pre;overflow-x:auto;line-height:normal;font-family:Menlo,'DejaVu Sans Mono',consolas,'Courier New',monospace\"><span style=\"font-weight: bold\"> Total params: </span><span style=\"color: #00af00; text-decoration-color: #00af00\">13,122</span> (51.26 KB)\n",
              "</pre>\n"
            ]
          },
          "metadata": {}
        },
        {
          "output_type": "display_data",
          "data": {
            "text/plain": [
              "\u001b[1m Trainable params: \u001b[0m\u001b[38;5;34m12,738\u001b[0m (49.76 KB)\n"
            ],
            "text/html": [
              "<pre style=\"white-space:pre;overflow-x:auto;line-height:normal;font-family:Menlo,'DejaVu Sans Mono',consolas,'Courier New',monospace\"><span style=\"font-weight: bold\"> Trainable params: </span><span style=\"color: #00af00; text-decoration-color: #00af00\">12,738</span> (49.76 KB)\n",
              "</pre>\n"
            ]
          },
          "metadata": {}
        },
        {
          "output_type": "display_data",
          "data": {
            "text/plain": [
              "\u001b[1m Non-trainable params: \u001b[0m\u001b[38;5;34m384\u001b[0m (1.50 KB)\n"
            ],
            "text/html": [
              "<pre style=\"white-space:pre;overflow-x:auto;line-height:normal;font-family:Menlo,'DejaVu Sans Mono',consolas,'Courier New',monospace\"><span style=\"font-weight: bold\"> Non-trainable params: </span><span style=\"color: #00af00; text-decoration-color: #00af00\">384</span> (1.50 KB)\n",
              "</pre>\n"
            ]
          },
          "metadata": {}
        },
        {
          "output_type": "stream",
          "name": "stdout",
          "text": [
            "Epoch 1/50\n",
            "5675/5675 - 18s - 3ms/step - accuracy: 0.9905 - loss: 0.0330 - val_accuracy: 0.9995 - val_loss: 0.0113 - learning_rate: 1.0000e-03\n",
            "Epoch 2/50\n",
            "5675/5675 - 15s - 3ms/step - accuracy: 0.9993 - loss: 0.0069 - val_accuracy: 0.9995 - val_loss: 0.0083 - learning_rate: 1.0000e-03\n",
            "Epoch 3/50\n",
            "5675/5675 - 23s - 4ms/step - accuracy: 0.9992 - loss: 0.0056 - val_accuracy: 0.9995 - val_loss: 0.0068 - learning_rate: 1.0000e-03\n",
            "Epoch 4/50\n",
            "5675/5675 - 17s - 3ms/step - accuracy: 0.9992 - loss: 0.0051 - val_accuracy: 0.9995 - val_loss: 0.0076 - learning_rate: 1.0000e-03\n",
            "Epoch 5/50\n",
            "5675/5675 - 25s - 4ms/step - accuracy: 0.9993 - loss: 0.0048 - val_accuracy: 0.9993 - val_loss: 0.0081 - learning_rate: 1.0000e-03\n",
            "Epoch 6/50\n",
            "5675/5675 - 35s - 6ms/step - accuracy: 0.9993 - loss: 0.0046 - val_accuracy: 0.9994 - val_loss: 0.0073 - learning_rate: 1.0000e-03\n",
            "Epoch 7/50\n",
            "5675/5675 - 20s - 4ms/step - accuracy: 0.9993 - loss: 0.0047 - val_accuracy: 0.9995 - val_loss: 0.0072 - learning_rate: 1.0000e-03\n",
            "Epoch 8/50\n",
            "5675/5675 - 19s - 3ms/step - accuracy: 0.9993 - loss: 0.0045 - val_accuracy: 0.9995 - val_loss: 0.0077 - learning_rate: 1.0000e-03\n",
            "Epoch 9/50\n",
            "5675/5675 - 19s - 3ms/step - accuracy: 0.9993 - loss: 0.0038 - val_accuracy: 0.9994 - val_loss: 0.0078 - learning_rate: 2.0000e-04\n",
            "Epoch 10/50\n",
            "5675/5675 - 17s - 3ms/step - accuracy: 0.9994 - loss: 0.0035 - val_accuracy: 0.9994 - val_loss: 0.0085 - learning_rate: 2.0000e-04\n",
            "Epoch 11/50\n",
            "5675/5675 - 15s - 3ms/step - accuracy: 0.9994 - loss: 0.0033 - val_accuracy: 0.9994 - val_loss: 0.0075 - learning_rate: 2.0000e-04\n"
          ]
        }
      ]
    },
    {
      "cell_type": "code",
      "source": [
        "class ClassifierMLP(nn.Module):\n",
        "    def __init__(self, input_dim, num_classes):\n",
        "        super().__init__()\n",
        "        self.net = nn.Sequential(\n",
        "            nn.Linear(input_dim, 128),\n",
        "            nn.BatchNorm1d(128),\n",
        "            nn.ReLU(),\n",
        "            nn.Dropout(0.4),\n",
        "            nn.Linear(128, 64),\n",
        "            nn.BatchNorm1d(64),\n",
        "            nn.ReLU(),\n",
        "            nn.Dropout(0.3),\n",
        "            # --- PERUBAHAN PENTING ---\n",
        "            nn.Linear(64, num_classes) # Tidak perlu softmax, karena CrossEntropyLoss sudah include\n",
        "        )\n",
        "\n",
        "    def forward(self, x):\n",
        "        return self.net(x)\n",
        "\n",
        "# Persiapan data untuk PyTorch\n",
        "# CrossEntropyLoss di PyTorch lebih suka target dalam bentuk integer, bukan one-hot\n",
        "train_ds = TensorDataset(torch.tensor(X_train_proc, dtype=torch.float32),\n",
        "                         torch.tensor(y_train.values, dtype=torch.long))\n",
        "train_loader = DataLoader(train_ds, batch_size=32, shuffle=True)\n",
        "\n",
        "test_ds = TensorDataset(torch.tensor(X_test_proc, dtype=torch.float32),\n",
        "                        torch.tensor(y_test.values, dtype=torch.long))\n",
        "test_loader = DataLoader(test_ds, batch_size=64)\n",
        "\n",
        "\n",
        "# Inisialisasi model, loss, dan optimizer\n",
        "device = torch.device('cuda' if torch.cuda.is_available() else 'cpu')\n",
        "model_pt = ClassifierMLP(X_train_proc.shape[1], n_classes).to(device)\n",
        "criterion = nn.CrossEntropyLoss() # Loss untuk klasifikasi\n",
        "optimizer = torch.optim.Adam(model_pt.parameters(), lr=1e-3)\n",
        "\n",
        "# Training loop\n",
        "for epoch in range(20):\n",
        "    model_pt.train()\n",
        "    for xb, yb in train_loader:\n",
        "        xb, yb = xb.to(device), yb.to(device)\n",
        "        preds = model_pt(xb)\n",
        "        loss = criterion(preds, yb)\n",
        "\n",
        "        optimizer.zero_grad()\n",
        "        loss.backward()\n",
        "        optimizer.step()\n",
        "\n",
        "print(\"Pelatihan PyTorch Selesai.\")"
      ],
      "metadata": {
        "colab": {
          "base_uri": "https://localhost:8080/"
        },
        "id": "nvu6dsuIfTfN",
        "outputId": "1b5c0ed8-e1ce-437e-9a5a-1af4449d3e59"
      },
      "execution_count": 43,
      "outputs": [
        {
          "output_type": "stream",
          "name": "stdout",
          "text": [
            "Pelatihan PyTorch Selesai.\n"
          ]
        }
      ]
    },
    {
      "cell_type": "code",
      "source": [
        "# --- Evaluasi TensorFlow ---\n",
        "y_pred_proba_tf = model_tf.predict(X_test_proc)\n",
        "y_pred_tf = np.argmax(y_pred_proba_tf, axis=1)\n",
        "\n",
        "print(\"--- Laporan Klasifikasi TensorFlow ---\")\n",
        "print(classification_report(y_test, y_pred_tf))\n",
        "\n",
        "# --- Evaluasi PyTorch ---\n",
        "model_pt.eval()\n",
        "y_pred_pt_list = []\n",
        "with torch.no_grad():\n",
        "    for xb, _ in test_loader:\n",
        "        xb = xb.to(device)\n",
        "        preds = model_pt(xb)\n",
        "        y_pred_pt_list.append(torch.argmax(preds, dim=1).cpu())\n",
        "y_pred_pt = torch.cat(y_pred_pt_list).numpy()\n",
        "\n",
        "print(\"\\n--- Laporan Klasifikasi PyTorch ---\")\n",
        "print(classification_report(y_test, y_pred_pt))\n",
        "\n",
        "\n",
        "# --- Visualisasi Confusion Matrix ---\n",
        "fig, axes = plt.subplots(1, 2, figsize=(16, 6))\n",
        "fig.suptitle('Confusion Matrix untuk Kedua Model', fontsize=16, fontweight='bold')\n",
        "\n",
        "# Confusion Matrix TensorFlow\n",
        "cm_tf = confusion_matrix(y_test, y_pred_tf)\n",
        "sns.heatmap(cm_tf, annot=True, fmt='d', cmap='Blues', ax=axes[0])\n",
        "axes[0].set_title('TensorFlow', fontweight='bold')\n",
        "axes[0].set_xlabel('Prediksi')\n",
        "axes[0].set_ylabel('Aktual')\n",
        "\n",
        "# Confusion Matrix PyTorch\n",
        "cm_pt = confusion_matrix(y_test, y_pred_pt)\n",
        "sns.heatmap(cm_pt, annot=True, fmt='d', cmap='Oranges', ax=axes[1])\n",
        "axes[1].set_title('PyTorch', fontweight='bold')\n",
        "axes[1].set_xlabel('Prediksi')\n",
        "axes[1].set_ylabel('Aktual')\n",
        "\n",
        "plt.tight_layout(rect=[0, 0, 1, 0.95])\n",
        "plt.show()"
      ],
      "metadata": {
        "id": "niUfu_Nl8K-t",
        "outputId": "e669c827-97fe-4f8f-a91b-4e0eeac787a5",
        "colab": {
          "base_uri": "https://localhost:8080/",
          "height": 782
        }
      },
      "execution_count": 44,
      "outputs": [
        {
          "output_type": "stream",
          "name": "stdout",
          "text": [
            "\u001b[1m1774/1774\u001b[0m \u001b[32m━━━━━━━━━━━━━━━━━━━━\u001b[0m\u001b[37m\u001b[0m \u001b[1m3s\u001b[0m 2ms/step\n",
            "--- Laporan Klasifikasi TensorFlow ---\n",
            "              precision    recall  f1-score   support\n",
            "\n",
            "           0       1.00      1.00      1.00     56651\n",
            "           1       0.87      0.77      0.82        95\n",
            "\n",
            "    accuracy                           1.00     56746\n",
            "   macro avg       0.93      0.88      0.91     56746\n",
            "weighted avg       1.00      1.00      1.00     56746\n",
            "\n",
            "\n",
            "--- Laporan Klasifikasi PyTorch ---\n",
            "              precision    recall  f1-score   support\n",
            "\n",
            "           0       1.00      1.00      1.00     56651\n",
            "           1       0.89      0.75      0.81        95\n",
            "\n",
            "    accuracy                           1.00     56746\n",
            "   macro avg       0.94      0.87      0.91     56746\n",
            "weighted avg       1.00      1.00      1.00     56746\n",
            "\n"
          ]
        },
        {
          "output_type": "display_data",
          "data": {
            "text/plain": [
              "<Figure size 1600x600 with 4 Axes>"
            ],
            "image/png": "[encoded data removed]"
          },
          "metadata": {}
        }
      ]
    },
    {
      "cell_type": "markdown",
      "source": [
        "#**Penjelasan Teori**\n",
        "\n",
        "1. Pre Processing:\n",
        "  * Cleaning Missing Values\n",
        "  * Normalise numerical feature with StandardScaler\n",
        "  * Encode categorical feature with One-Hot Encoding\n",
        "\n",
        "2. Multilayer Perceptron\n",
        "  * TensorFlow\n",
        "  * PyTorch\n",
        "\n",
        "3. Evaluate\n",
        "  * MSE = Mean Squared Error\n",
        "  ![{53D8419B-5B1E-470F-9741-76FCC75AEC3F}.png](data:image/png;base64,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)\n",
        "  * RMSE = Root Mean Squared Error\n",
        "  ![{E672D0DD-53AC-46A0-86B7-8BAF25B398E3}.png](data:image/png;base64,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)\n",
        "  * R2 Score = Coeficient Determination\n",
        "  ![{9E6EE9F6-18DB-42B7-B455-76B9C0B65DD8}.png](data:image/png;base64,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)\n",
        "\n",
        "4. Visualisation\n",
        "\n",
        "5. Conclusion\n",
        "  * MLP Deep Learning is efective on non-linear learning\n",
        "  * The use of Regularisation, Dropout, and BatchNorm helps reduce overfitting\n",
        "  * TensorFlow and PyTorch are performing similarly"
      ],
      "metadata": {
        "id": "7bcRkM408flY"
      }
    }
  ]
}