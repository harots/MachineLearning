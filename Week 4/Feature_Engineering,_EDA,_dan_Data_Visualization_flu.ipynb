{
  "nbformat": 4,
  "nbformat_minor": 0,
  "metadata": {
    "colab": {
      "provenance": []
    },
    "kernelspec": {
      "name": "python3",
      "display_name": "Python 3"
    },
    "language_info": {
      "name": "python"
    }
  },
  "cells": [
    {
      "cell_type": "code",
      "execution_count": 263,
      "metadata": {
        "id": "dHY2KeuHvS_f"
      },
      "outputs": [],
      "source": [
        "import numpy as np\n",
        "import pandas as pd\n",
        "import seaborn as sns\n",
        "\n",
        "from matplotlib import pyplot as plt\n",
        "import missingno as msno\n",
        "from datetime import date\n",
        "from sklearn.metrics import accuracy_score\n",
        "from sklearn.model_selection import train_test_split\n",
        "from sklearn.neighbors import LocalOutlierFactor\n",
        "from sklearn.preprocessing import MinMaxScaler, LabelEncoder, StandardScaler, RobustScaler\n",
        "from sklearn.ensemble import RandomForestClassifier\n",
        "from sklearn.metrics import accuracy_score, precision_score, recall_score, f1_score, roc_auc_score, roc_curve, confusion_matrix, classification_report"
      ]
    },
    {
      "cell_type": "code",
      "source": [
        "url = 'https://raw.githubusercontent.com/farrelrassya/teachingMLDL/main/01.%20Machine%20Learning/04.%20Week%204/Datasets/flu.csv'\n",
        "\n",
        "df = pd.read_csv(url)\n",
        "df.head()"
      ],
      "metadata": {
        "colab": {
          "base_uri": "https://localhost:8080/",
          "height": 226
        },
        "id": "Z5BIW9WwvXmr",
        "outputId": "a7f04ebe-280f-46a6-99bf-b4f8cffc3a98"
      },
      "execution_count": 264,
      "outputs": [
        {
          "output_type": "execute_result",
          "data": {
            "text/plain": [
              "  Diagnosis InitialPCRDiagnosis    Age Sex  neutrophil  serumLevelsOfWhiteBloodCell  lymphocytes CReactiveProteinLevels  DurationOfIllness CTscanResults RiskFactors GroundGlassOpacity Diarrhea Fever Coughing ShortnessOfBreath SoreThroat NauseaVomitting  Temperature Fatigue\n",
              "0      H1N1                 NaN 67.000   F         NaN                          NaN          NaN                    NaN                NaN           NaN         NaN                NaN      NaN   Yes      Yes               NaN         No             NaN       38.111      No\n",
              "1      H1N1                 NaN 29.000   M         NaN                          NaN          NaN                    NaN                NaN           NaN         NaN                NaN      NaN   NaN      NaN               NaN        NaN             NaN          NaN     NaN\n",
              "2      H1N1                 NaN 22.000   F         NaN                          NaN          NaN                    NaN                NaN           NaN         NaN                NaN      NaN   NaN      NaN               NaN        NaN             NaN          NaN     NaN\n",
              "3      H1N1                 NaN 20.000   F         NaN                          NaN          NaN                    NaN                NaN           NaN      immuno                NaN      NaN   Yes      Yes               NaN         No             NaN       36.556     Yes\n",
              "4      H1N1                 NaN 21.000   M         NaN                          NaN          NaN                    NaN                NaN           NaN         NaN                NaN      NaN   NaN      NaN               NaN        NaN             NaN          NaN     NaN"
            ],
            "text/html": [
              "\n",
              "  <div id=\"df-f90e51e2-cf74-4129-ad10-01669df65d56\" class=\"colab-df-container\">\n",
              "    <div>\n",
              "<style scoped>\n",
              "    .dataframe tbody tr th:only-of-type {\n",
              "        vertical-align: middle;\n",
              "    }\n",
              "\n",
              "    .dataframe tbody tr th {\n",
              "        vertical-align: top;\n",
              "    }\n",
              "\n",
              "    .dataframe thead th {\n",
              "        text-align: right;\n",
              "    }\n",
              "</style>\n",
              "<table border=\"1\" class=\"dataframe\">\n",
              "  <thead>\n",
              "    <tr style=\"text-align: right;\">\n",
              "      <th></th>\n",
              "      <th>Diagnosis</th>\n",
              "      <th>InitialPCRDiagnosis</th>\n",
              "      <th>Age</th>\n",
              "      <th>Sex</th>\n",
              "      <th>neutrophil</th>\n",
              "      <th>serumLevelsOfWhiteBloodCell</th>\n",
              "      <th>lymphocytes</th>\n",
              "      <th>CReactiveProteinLevels</th>\n",
              "      <th>DurationOfIllness</th>\n",
              "      <th>CTscanResults</th>\n",
              "      <th>RiskFactors</th>\n",
              "      <th>GroundGlassOpacity</th>\n",
              "      <th>Diarrhea</th>\n",
              "      <th>Fever</th>\n",
              "      <th>Coughing</th>\n",
              "      <th>ShortnessOfBreath</th>\n",
              "      <th>SoreThroat</th>\n",
              "      <th>NauseaVomitting</th>\n",
              "      <th>Temperature</th>\n",
              "      <th>Fatigue</th>\n",
              "    </tr>\n",
              "  </thead>\n",
              "  <tbody>\n",
              "    <tr>\n",
              "      <th>0</th>\n",
              "      <td>H1N1</td>\n",
              "      <td>NaN</td>\n",
              "      <td>67.000</td>\n",
              "      <td>F</td>\n",
              "      <td>NaN</td>\n",
              "      <td>NaN</td>\n",
              "      <td>NaN</td>\n",
              "      <td>NaN</td>\n",
              "      <td>NaN</td>\n",
              "      <td>NaN</td>\n",
              "      <td>NaN</td>\n",
              "      <td>NaN</td>\n",
              "      <td>NaN</td>\n",
              "      <td>Yes</td>\n",
              "      <td>Yes</td>\n",
              "      <td>NaN</td>\n",
              "      <td>No</td>\n",
              "      <td>NaN</td>\n",
              "      <td>38.111</td>\n",
              "      <td>No</td>\n",
              "    </tr>\n",
              "    <tr>\n",
              "      <th>1</th>\n",
              "      <td>H1N1</td>\n",
              "      <td>NaN</td>\n",
              "      <td>29.000</td>\n",
              "      <td>M</td>\n",
              "      <td>NaN</td>\n",
              "      <td>NaN</td>\n",
              "      <td>NaN</td>\n",
              "      <td>NaN</td>\n",
              "      <td>NaN</td>\n",
              "      <td>NaN</td>\n",
              "      <td>NaN</td>\n",
              "      <td>NaN</td>\n",
              "      <td>NaN</td>\n",
              "      <td>NaN</td>\n",
              "      <td>NaN</td>\n",
              "      <td>NaN</td>\n",
              "      <td>NaN</td>\n",
              "      <td>NaN</td>\n",
              "      <td>NaN</td>\n",
              "      <td>NaN</td>\n",
              "    </tr>\n",
              "    <tr>\n",
              "      <th>2</th>\n",
              "      <td>H1N1</td>\n",
              "      <td>NaN</td>\n",
              "      <td>22.000</td>\n",
              "      <td>F</td>\n",
              "      <td>NaN</td>\n",
              "      <td>NaN</td>\n",
              "      <td>NaN</td>\n",
              "      <td>NaN</td>\n",
              "      <td>NaN</td>\n",
              "      <td>NaN</td>\n",
              "      <td>NaN</td>\n",
              "      <td>NaN</td>\n",
              "      <td>NaN</td>\n",
              "      <td>NaN</td>\n",
              "      <td>NaN</td>\n",
              "      <td>NaN</td>\n",
              "      <td>NaN</td>\n",
              "      <td>NaN</td>\n",
              "      <td>NaN</td>\n",
              "      <td>NaN</td>\n",
              "    </tr>\n",
              "    <tr>\n",
              "      <th>3</th>\n",
              "      <td>H1N1</td>\n",
              "      <td>NaN</td>\n",
              "      <td>20.000</td>\n",
              "      <td>F</td>\n",
              "      <td>NaN</td>\n",
              "      <td>NaN</td>\n",
              "      <td>NaN</td>\n",
              "      <td>NaN</td>\n",
              "      <td>NaN</td>\n",
              "      <td>NaN</td>\n",
              "      <td>immuno</td>\n",
              "      <td>NaN</td>\n",
              "      <td>NaN</td>\n",
              "      <td>Yes</td>\n",
              "      <td>Yes</td>\n",
              "      <td>NaN</td>\n",
              "      <td>No</td>\n",
              "      <td>NaN</td>\n",
              "      <td>36.556</td>\n",
              "      <td>Yes</td>\n",
              "    </tr>\n",
              "    <tr>\n",
              "      <th>4</th>\n",
              "      <td>H1N1</td>\n",
              "      <td>NaN</td>\n",
              "      <td>21.000</td>\n",
              "      <td>M</td>\n",
              "      <td>NaN</td>\n",
              "      <td>NaN</td>\n",
              "      <td>NaN</td>\n",
              "      <td>NaN</td>\n",
              "      <td>NaN</td>\n",
              "      <td>NaN</td>\n",
              "      <td>NaN</td>\n",
              "      <td>NaN</td>\n",
              "      <td>NaN</td>\n",
              "      <td>NaN</td>\n",
              "      <td>NaN</td>\n",
              "      <td>NaN</td>\n",
              "      <td>NaN</td>\n",
              "      <td>NaN</td>\n",
              "      <td>NaN</td>\n",
              "      <td>NaN</td>\n",
              "    </tr>\n",
              "  </tbody>\n",
              "</table>\n",
              "</div>\n",
              "    <div class=\"colab-df-buttons\">\n",
              "\n",
              "  <div class=\"colab-df-container\">\n",
              "    <button class=\"colab-df-convert\" onclick=\"convertToInteractive('df-f90e51e2-cf74-4129-ad10-01669df65d56')\"\n",
              "            title=\"Convert this dataframe to an interactive table.\"\n",
              "            style=\"display:none;\">\n",
              "\n",
              "  <svg xmlns=\"http://www.w3.org/2000/svg\" height=\"24px\" viewBox=\"0 -960 960 960\">\n",
              "    <path d=\"M120-120v-720h720v720H120Zm60-500h600v-160H180v160Zm220 220h160v-160H400v160Zm0 220h160v-160H400v160ZM180-400h160v-160H180v160Zm440 0h160v-160H620v160ZM180-180h160v-160H180v160Zm440 0h160v-160H620v160Z\"/>\n",
              "  </svg>\n",
              "    </button>\n",
              "\n",
              "  <style>\n",
              "    .colab-df-container {\n",
              "      display:flex;\n",
              "      gap: 12px;\n",
              "    }\n",
              "\n",
              "    .colab-df-convert {\n",
              "      background-color: #E8F0FE;\n",
              "      border: none;\n",
              "      border-radius: 50%;\n",
              "      cursor: pointer;\n",
              "      display: none;\n",
              "      fill: #1967D2;\n",
              "      height: 32px;\n",
              "      padding: 0 0 0 0;\n",
              "      width: 32px;\n",
              "    }\n",
              "\n",
              "    .colab-df-convert:hover {\n",
              "      background-color: #E2EBFA;\n",
              "      box-shadow: 0px 1px 2px rgba(60, 64, 67, 0.3), 0px 1px 3px 1px rgba(60, 64, 67, 0.15);\n",
              "      fill: #174EA6;\n",
              "    }\n",
              "\n",
              "    .colab-df-buttons div {\n",
              "      margin-bottom: 4px;\n",
              "    }\n",
              "\n",
              "    [theme=dark] .colab-df-convert {\n",
              "      background-color: #3B4455;\n",
              "      fill: #D2E3FC;\n",
              "    }\n",
              "\n",
              "    [theme=dark] .colab-df-convert:hover {\n",
              "      background-color: #434B5C;\n",
              "      box-shadow: 0px 1px 3px 1px rgba(0, 0, 0, 0.15);\n",
              "      filter: drop-shadow(0px 1px 2px rgba(0, 0, 0, 0.3));\n",
              "      fill: #FFFFFF;\n",
              "    }\n",
              "  </style>\n",
              "\n",
              "    <script>\n",
              "      const buttonEl =\n",
              "        document.querySelector('#df-f90e51e2-cf74-4129-ad10-01669df65d56 button.colab-df-convert');\n",
              "      buttonEl.style.display =\n",
              "        google.colab.kernel.accessAllowed ? 'block' : 'none';\n",
              "\n",
              "      async function convertToInteractive(key) {\n",
              "        const element = document.querySelector('#df-f90e51e2-cf74-4129-ad10-01669df65d56');\n",
              "        const dataTable =\n",
              "          await google.colab.kernel.invokeFunction('convertToInteractive',\n",
              "                                                    [key], {});\n",
              "        if (!dataTable) return;\n",
              "\n",
              "        const docLinkHtml = 'Like what you see? Visit the ' +\n",
              "          '<a target=\"_blank\" href=https://colab.research.google.com/notebooks/data_table.ipynb>data table notebook</a>'\n",
              "          + ' to learn more about interactive tables.';\n",
              "        element.innerHTML = '';\n",
              "        dataTable['output_type'] = 'display_data';\n",
              "        await google.colab.output.renderOutput(dataTable, element);\n",
              "        const docLink = document.createElement('div');\n",
              "        docLink.innerHTML = docLinkHtml;\n",
              "        element.appendChild(docLink);\n",
              "      }\n",
              "    </script>\n",
              "  </div>\n",
              "\n",
              "\n",
              "    <div id=\"df-4355ee79-4c81-40a3-bea9-8218b7023ca2\">\n",
              "      <button class=\"colab-df-quickchart\" onclick=\"quickchart('df-4355ee79-4c81-40a3-bea9-8218b7023ca2')\"\n",
              "                title=\"Suggest charts\"\n",
              "                style=\"display:none;\">\n",
              "\n",
              "<svg xmlns=\"http://www.w3.org/2000/svg\" height=\"24px\"viewBox=\"0 0 24 24\"\n",
              "     width=\"24px\">\n",
              "    <g>\n",
              "        <path d=\"M19 3H5c-1.1 0-2 .9-2 2v14c0 1.1.9 2 2 2h14c1.1 0 2-.9 2-2V5c0-1.1-.9-2-2-2zM9 17H7v-7h2v7zm4 0h-2V7h2v10zm4 0h-2v-4h2v4z\"/>\n",
              "    </g>\n",
              "</svg>\n",
              "      </button>\n",
              "\n",
              "<style>\n",
              "  .colab-df-quickchart {\n",
              "      --bg-color: #E8F0FE;\n",
              "      --fill-color: #1967D2;\n",
              "      --hover-bg-color: #E2EBFA;\n",
              "      --hover-fill-color: #174EA6;\n",
              "      --disabled-fill-color: #AAA;\n",
              "      --disabled-bg-color: #DDD;\n",
              "  }\n",
              "\n",
              "  [theme=dark] .colab-df-quickchart {\n",
              "      --bg-color: #3B4455;\n",
              "      --fill-color: #D2E3FC;\n",
              "      --hover-bg-color: #434B5C;\n",
              "      --hover-fill-color: #FFFFFF;\n",
              "      --disabled-bg-color: #3B4455;\n",
              "      --disabled-fill-color: #666;\n",
              "  }\n",
              "\n",
              "  .colab-df-quickchart {\n",
              "    background-color: var(--bg-color);\n",
              "    border: none;\n",
              "    border-radius: 50%;\n",
              "    cursor: pointer;\n",
              "    display: none;\n",
              "    fill: var(--fill-color);\n",
              "    height: 32px;\n",
              "    padding: 0;\n",
              "    width: 32px;\n",
              "  }\n",
              "\n",
              "  .colab-df-quickchart:hover {\n",
              "    background-color: var(--hover-bg-color);\n",
              "    box-shadow: 0 1px 2px rgba(60, 64, 67, 0.3), 0 1px 3px 1px rgba(60, 64, 67, 0.15);\n",
              "    fill: var(--button-hover-fill-color);\n",
              "  }\n",
              "\n",
              "  .colab-df-quickchart-complete:disabled,\n",
              "  .colab-df-quickchart-complete:disabled:hover {\n",
              "    background-color: var(--disabled-bg-color);\n",
              "    fill: var(--disabled-fill-color);\n",
              "    box-shadow: none;\n",
              "  }\n",
              "\n",
              "  .colab-df-spinner {\n",
              "    border: 2px solid var(--fill-color);\n",
              "    border-color: transparent;\n",
              "    border-bottom-color: var(--fill-color);\n",
              "    animation:\n",
              "      spin 1s steps(1) infinite;\n",
              "  }\n",
              "\n",
              "  @keyframes spin {\n",
              "    0% {\n",
              "      border-color: transparent;\n",
              "      border-bottom-color: var(--fill-color);\n",
              "      border-left-color: var(--fill-color);\n",
              "    }\n",
              "    20% {\n",
              "      border-color: transparent;\n",
              "      border-left-color: var(--fill-color);\n",
              "      border-top-color: var(--fill-color);\n",
              "    }\n",
              "    30% {\n",
              "      border-color: transparent;\n",
              "      border-left-color: var(--fill-color);\n",
              "      border-top-color: var(--fill-color);\n",
              "      border-right-color: var(--fill-color);\n",
              "    }\n",
              "    40% {\n",
              "      border-color: transparent;\n",
              "      border-right-color: var(--fill-color);\n",
              "      border-top-color: var(--fill-color);\n",
              "    }\n",
              "    60% {\n",
              "      border-color: transparent;\n",
              "      border-right-color: var(--fill-color);\n",
              "    }\n",
              "    80% {\n",
              "      border-color: transparent;\n",
              "      border-right-color: var(--fill-color);\n",
              "      border-bottom-color: var(--fill-color);\n",
              "    }\n",
              "    90% {\n",
              "      border-color: transparent;\n",
              "      border-bottom-color: var(--fill-color);\n",
              "    }\n",
              "  }\n",
              "</style>\n",
              "\n",
              "      <script>\n",
              "        async function quickchart(key) {\n",
              "          const quickchartButtonEl =\n",
              "            document.querySelector('#' + key + ' button');\n",
              "          quickchartButtonEl.disabled = true;  // To prevent multiple clicks.\n",
              "          quickchartButtonEl.classList.add('colab-df-spinner');\n",
              "          try {\n",
              "            const charts = await google.colab.kernel.invokeFunction(\n",
              "                'suggestCharts', [key], {});\n",
              "          } catch (error) {\n",
              "            console.error('Error during call to suggestCharts:', error);\n",
              "          }\n",
              "          quickchartButtonEl.classList.remove('colab-df-spinner');\n",
              "          quickchartButtonEl.classList.add('colab-df-quickchart-complete');\n",
              "        }\n",
              "        (() => {\n",
              "          let quickchartButtonEl =\n",
              "            document.querySelector('#df-4355ee79-4c81-40a3-bea9-8218b7023ca2 button');\n",
              "          quickchartButtonEl.style.display =\n",
              "            google.colab.kernel.accessAllowed ? 'block' : 'none';\n",
              "        })();\n",
              "      </script>\n",
              "    </div>\n",
              "\n",
              "    </div>\n",
              "  </div>\n"
            ],
            "application/vnd.google.colaboratory.intrinsic+json": {
              "type": "dataframe",
              "variable_name": "df",
              "summary": "{\n  \"name\": \"df\",\n  \"rows\": 1482,\n  \"fields\": [\n    {\n      \"column\": \"Diagnosis\",\n      \"properties\": {\n        \"dtype\": \"category\",\n        \"num_unique_values\": 2,\n        \"samples\": [\n          \"COVID19\",\n          \"H1N1\"\n        ],\n        \"semantic_type\": \"\",\n        \"description\": \"\"\n      }\n    },\n    {\n      \"column\": \"InitialPCRDiagnosis\",\n      \"properties\": {\n        \"dtype\": \"category\",\n        \"num_unique_values\": 2,\n        \"samples\": [\n          \"No\",\n          \"Yes\"\n        ],\n        \"semantic_type\": \"\",\n        \"description\": \"\"\n      }\n    },\n    {\n      \"column\": \"Age\",\n      \"properties\": {\n        \"dtype\": \"number\",\n        \"std\": 21.48798185026294,\n        \"min\": 0.0,\n        \"max\": 88.0,\n        \"num_unique_values\": 109,\n        \"samples\": [\n          2.33,\n          56.0\n        ],\n        \"semantic_type\": \"\",\n        \"description\": \"\"\n      }\n    },\n    {\n      \"column\": \"Sex\",\n      \"properties\": {\n        \"dtype\": \"category\",\n        \"num_unique_values\": 2,\n        \"samples\": [\n          \"M\",\n          \"F\"\n        ],\n        \"semantic_type\": \"\",\n        \"description\": \"\"\n      }\n    },\n    {\n      \"column\": \"neutrophil\",\n      \"properties\": {\n        \"dtype\": \"number\",\n        \"std\": 12.690130560438183,\n        \"min\": 0.446,\n        \"max\": 93.0,\n        \"num_unique_values\": 91,\n        \"samples\": [\n          0.702,\n          2.55\n        ],\n        \"semantic_type\": \"\",\n        \"description\": \"\"\n      }\n    },\n    {\n      \"column\": \"serumLevelsOfWhiteBloodCell\",\n      \"properties\": {\n        \"dtype\": \"number\",\n        \"std\": 4.346667930101118,\n        \"min\": 0.5,\n        \"max\": 36.07,\n        \"num_unique_values\": 127,\n        \"samples\": [\n          7.97,\n          6.0\n        ],\n        \"semantic_type\": \"\",\n        \"description\": \"\"\n      }\n    },\n    {\n      \"column\": \"lymphocytes\",\n      \"properties\": {\n        \"dtype\": \"number\",\n        \"std\": 3.956668320131661,\n        \"min\": 0.13,\n        \"max\": 30.6,\n        \"num_unique_values\": 116,\n        \"samples\": [\n          0.7,\n          1.22\n        ],\n        \"semantic_type\": \"\",\n        \"description\": \"\"\n      }\n    },\n    {\n      \"column\": \"CReactiveProteinLevels\",\n      \"properties\": {\n        \"dtype\": \"category\",\n        \"num_unique_values\": 120,\n        \"samples\": [\n          \"1.6\",\n          \"99.6\"\n        ],\n        \"semantic_type\": \"\",\n        \"description\": \"\"\n      }\n    },\n    {\n      \"column\": \"DurationOfIllness\",\n      \"properties\": {\n        \"dtype\": \"number\",\n        \"std\": 9.043170689163103,\n        \"min\": 1.0,\n        \"max\": 37.0,\n        \"num_unique_values\": 30,\n        \"samples\": [\n          32.0,\n          6.0\n        ],\n        \"semantic_type\": \"\",\n        \"description\": \"\"\n      }\n    },\n    {\n      \"column\": \"CTscanResults\",\n      \"properties\": {\n        \"dtype\": \"category\",\n        \"num_unique_values\": 2,\n        \"samples\": [\n          \"No\",\n          \"Yes\"\n        ],\n        \"semantic_type\": \"\",\n        \"description\": \"\"\n      }\n    },\n    {\n      \"column\": \"RiskFactors\",\n      \"properties\": {\n        \"dtype\": \"category\",\n        \"num_unique_values\": 63,\n        \"samples\": [\n          \"Heart Disease,Renal Disease\",\n          \"hypothyroidism\"\n        ],\n        \"semantic_type\": \"\",\n        \"description\": \"\"\n      }\n    },\n    {\n      \"column\": \"GroundGlassOpacity\",\n      \"properties\": {\n        \"dtype\": \"category\",\n        \"num_unique_values\": 2,\n        \"samples\": [\n          \"No\",\n          \"Yes\"\n        ],\n        \"semantic_type\": \"\",\n        \"description\": \"\"\n      }\n    },\n    {\n      \"column\": \"Diarrhea\",\n      \"properties\": {\n        \"dtype\": \"category\",\n        \"num_unique_values\": 2,\n        \"samples\": [\n          \"Yes\",\n          \"No\"\n        ],\n        \"semantic_type\": \"\",\n        \"description\": \"\"\n      }\n    },\n    {\n      \"column\": \"Fever\",\n      \"properties\": {\n        \"dtype\": \"category\",\n        \"num_unique_values\": 2,\n        \"samples\": [\n          \"No\",\n          \"Yes\"\n        ],\n        \"semantic_type\": \"\",\n        \"description\": \"\"\n      }\n    },\n    {\n      \"column\": \"Coughing\",\n      \"properties\": {\n        \"dtype\": \"category\",\n        \"num_unique_values\": 2,\n        \"samples\": [\n          \"No\",\n          \"Yes\"\n        ],\n        \"semantic_type\": \"\",\n        \"description\": \"\"\n      }\n    },\n    {\n      \"column\": \"ShortnessOfBreath\",\n      \"properties\": {\n        \"dtype\": \"category\",\n        \"num_unique_values\": 2,\n        \"samples\": [\n          \"Yes\",\n          \"No\"\n        ],\n        \"semantic_type\": \"\",\n        \"description\": \"\"\n      }\n    },\n    {\n      \"column\": \"SoreThroat\",\n      \"properties\": {\n        \"dtype\": \"category\",\n        \"num_unique_values\": 2,\n        \"samples\": [\n          \"Yes\",\n          \"No\"\n        ],\n        \"semantic_type\": \"\",\n        \"description\": \"\"\n      }\n    },\n    {\n      \"column\": \"NauseaVomitting\",\n      \"properties\": {\n        \"dtype\": \"category\",\n        \"num_unique_values\": 2,\n        \"samples\": [\n          \"Yes\",\n          \"No\"\n        ],\n        \"semantic_type\": \"\",\n        \"description\": \"\"\n      }\n    },\n    {\n      \"column\": \"Temperature\",\n      \"properties\": {\n        \"dtype\": \"number\",\n        \"std\": 1.0944675156801715,\n        \"min\": 35.72222222,\n        \"max\": 42.22222222,\n        \"num_unique_values\": 135,\n        \"samples\": [\n          41.11111111,\n          35.72222222\n        ],\n        \"semantic_type\": \"\",\n        \"description\": \"\"\n      }\n    },\n    {\n      \"column\": \"Fatigue\",\n      \"properties\": {\n        \"dtype\": \"category\",\n        \"num_unique_values\": 2,\n        \"samples\": [\n          \"Yes\",\n          \"No\"\n        ],\n        \"semantic_type\": \"\",\n        \"description\": \"\"\n      }\n    }\n  ]\n}"
            }
          },
          "metadata": {},
          "execution_count": 264
        }
      ]
    },
    {
      "cell_type": "markdown",
      "source": [
        "# **Exploratory Data Analysis**"
      ],
      "metadata": {
        "id": "RBBft2jEy62A"
      }
    },
    {
      "cell_type": "code",
      "source": [
        "pd.set_option('display.max_columns', None)\n",
        "pd.set_option('display.max_rows', None)\n",
        "pd.set_option('display.float_format', lambda x: '%.3f' % x)\n",
        "pd.set_option('display.width', 500)"
      ],
      "metadata": {
        "id": "F4QqfpPDxohJ"
      },
      "execution_count": 265,
      "outputs": []
    },
    {
      "cell_type": "code",
      "source": [
        "def check_df(dataframe, head=5):\n",
        "    print('##################### Shape #####################')\n",
        "    print(dataframe.shape)\n",
        "    print('##################### Types #####################')\n",
        "    print(dataframe.dtypes)\n",
        "    print('##################### Head #####################')\n",
        "    print(dataframe.head(head))\n",
        "    print('##################### Tail #####################')\n",
        "    print(dataframe.tail(head))\n",
        "    print('##################### NA #####################')\n",
        "    print(dataframe.isnull().sum())\n",
        "    print('##################### Quantiles #####################')\n",
        "    print(dataframe.describe([0, 0.05, 0.50, 0.95, 0.99, 1]).T)\n",
        "\n",
        "check_df(df)"
      ],
      "metadata": {
        "colab": {
          "base_uri": "https://localhost:8080/"
        },
        "id": "VZWY9VvSvedK",
        "outputId": "9a3d7c3a-5097-45b7-bd0a-377d4f20aeb2"
      },
      "execution_count": 266,
      "outputs": [
        {
          "output_type": "stream",
          "name": "stdout",
          "text": [
            "##################### Shape #####################\n",
            "(1482, 20)\n",
            "##################### Types #####################\n",
            "Diagnosis                       object\n",
            "InitialPCRDiagnosis             object\n",
            "Age                            float64\n",
            "Sex                             object\n",
            "neutrophil                     float64\n",
            "serumLevelsOfWhiteBloodCell    float64\n",
            "lymphocytes                    float64\n",
            "CReactiveProteinLevels          object\n",
            "DurationOfIllness              float64\n",
            "CTscanResults                   object\n",
            "RiskFactors                     object\n",
            "GroundGlassOpacity              object\n",
            "Diarrhea                        object\n",
            "Fever                           object\n",
            "Coughing                        object\n",
            "ShortnessOfBreath               object\n",
            "SoreThroat                      object\n",
            "NauseaVomitting                 object\n",
            "Temperature                    float64\n",
            "Fatigue                         object\n",
            "dtype: object\n",
            "##################### Head #####################\n",
            "  Diagnosis InitialPCRDiagnosis    Age Sex  neutrophil  serumLevelsOfWhiteBloodCell  lymphocytes CReactiveProteinLevels  DurationOfIllness CTscanResults RiskFactors GroundGlassOpacity Diarrhea Fever Coughing ShortnessOfBreath SoreThroat NauseaVomitting  Temperature Fatigue\n",
            "0      H1N1                 NaN 67.000   F         NaN                          NaN          NaN                    NaN                NaN           NaN         NaN                NaN      NaN   Yes      Yes               NaN         No             NaN       38.111      No\n",
            "1      H1N1                 NaN 29.000   M         NaN                          NaN          NaN                    NaN                NaN           NaN         NaN                NaN      NaN   NaN      NaN               NaN        NaN             NaN          NaN     NaN\n",
            "2      H1N1                 NaN 22.000   F         NaN                          NaN          NaN                    NaN                NaN           NaN         NaN                NaN      NaN   NaN      NaN               NaN        NaN             NaN          NaN     NaN\n",
            "3      H1N1                 NaN 20.000   F         NaN                          NaN          NaN                    NaN                NaN           NaN      immuno                NaN      NaN   Yes      Yes               NaN         No             NaN       36.556     Yes\n",
            "4      H1N1                 NaN 21.000   M         NaN                          NaN          NaN                    NaN                NaN           NaN         NaN                NaN      NaN   NaN      NaN               NaN        NaN             NaN          NaN     NaN\n",
            "##################### Tail #####################\n",
            "     Diagnosis InitialPCRDiagnosis   Age  Sex  neutrophil  serumLevelsOfWhiteBloodCell  lymphocytes CReactiveProteinLevels  DurationOfIllness CTscanResults RiskFactors GroundGlassOpacity Diarrhea Fever Coughing ShortnessOfBreath SoreThroat NauseaVomitting  Temperature Fatigue\n",
            "1477   COVID19                 NaN 1.400  NaN         NaN                        9.200          NaN                    9.4                NaN           NaN         NaN                NaN      NaN   NaN      NaN               NaN        NaN             NaN          NaN     NaN\n",
            "1478   COVID19                 NaN 0.830  NaN         NaN                       14.800          NaN                    0.9                NaN           NaN         NaN                NaN      NaN   NaN      NaN               NaN        NaN             NaN          NaN     NaN\n",
            "1479   COVID19                 NaN 3.000  NaN         NaN                       15.000          NaN                    0.7                NaN           NaN         NaN                NaN      NaN   NaN      NaN               NaN        NaN             NaN          NaN     NaN\n",
            "1480   COVID19                 NaN 4.000  NaN         NaN                        6.600          NaN                    0.2                NaN           NaN         NaN                NaN      NaN   NaN      NaN               NaN        NaN             NaN          NaN     NaN\n",
            "1481   COVID19                 NaN 6.000  NaN         NaN                        5.300          NaN                    0.6                NaN           NaN         NaN                NaN      NaN   NaN      NaN               NaN        NaN             NaN          NaN     NaN\n",
            "##################### NA #####################\n",
            "Diagnosis                         0\n",
            "InitialPCRDiagnosis            1378\n",
            "Age                              28\n",
            "Sex                              76\n",
            "neutrophil                     1379\n",
            "serumLevelsOfWhiteBloodCell    1331\n",
            "lymphocytes                    1326\n",
            "CReactiveProteinLevels         1345\n",
            "DurationOfIllness              1395\n",
            "CTscanResults                  1323\n",
            "RiskFactors                    1273\n",
            "GroundGlassOpacity             1389\n",
            "Diarrhea                       1032\n",
            "Fever                           559\n",
            "Coughing                        623\n",
            "ShortnessOfBreath              1407\n",
            "SoreThroat                      812\n",
            "NauseaVomitting                1061\n",
            "Temperature                     854\n",
            "Fatigue                         951\n",
            "dtype: int64\n",
            "##################### Quantiles #####################\n",
            "                               count   mean    std    min     0%     5%    50%    95%    99%   100%    max\n",
            "Age                         1454.000 26.471 21.488  0.000  0.000  1.000 24.000 65.000 78.000 88.000 88.000\n",
            "neutrophil                   103.000  6.854 12.690  0.446  0.446  1.001  3.310 16.050 57.196 93.000 93.000\n",
            "serumLevelsOfWhiteBloodCell  151.000  6.885  4.347  0.500  0.500  2.550  5.690 14.800 19.750 36.070 36.070\n",
            "lymphocytes                  156.000  1.850  3.957  0.130  0.130  0.268  0.905  4.080 27.110 30.600 30.600\n",
            "DurationOfIllness             87.000 13.989  9.043  1.000  1.000  3.000 12.000 30.000 33.560 37.000 37.000\n",
            "Temperature                  628.000 38.068  1.094 35.722 35.722 36.500 38.000 39.943 41.480 42.222 42.222\n"
          ]
        }
      ]
    },
    {
      "cell_type": "markdown",
      "source": [
        "# **Feature Engineering & Visualization**"
      ],
      "metadata": {
        "id": "gKnYLiSXzGTw"
      }
    },
    {
      "cell_type": "code",
      "source": [
        "df.columns = [col.upper() for col in df.columns]"
      ],
      "metadata": {
        "id": "Q_jP0mLfx5ne"
      },
      "execution_count": 267,
      "outputs": []
    },
    {
      "cell_type": "code",
      "source": [
        "df.head()"
      ],
      "metadata": {
        "colab": {
          "base_uri": "https://localhost:8080/",
          "height": 226
        },
        "id": "3dhde7CFx_Qc",
        "outputId": "6136e974-478c-42a6-908e-0814c76c0b29"
      },
      "execution_count": 268,
      "outputs": [
        {
          "output_type": "execute_result",
          "data": {
            "text/plain": [
              "  DIAGNOSIS INITIALPCRDIAGNOSIS    AGE SEX  NEUTROPHIL  SERUMLEVELSOFWHITEBLOODCELL  LYMPHOCYTES CREACTIVEPROTEINLEVELS  DURATIONOFILLNESS CTSCANRESULTS RISKFACTORS GROUNDGLASSOPACITY DIARRHEA FEVER COUGHING SHORTNESSOFBREATH SORETHROAT NAUSEAVOMITTING  TEMPERATURE FATIGUE\n",
              "0      H1N1                 NaN 67.000   F         NaN                          NaN          NaN                    NaN                NaN           NaN         NaN                NaN      NaN   Yes      Yes               NaN         No             NaN       38.111      No\n",
              "1      H1N1                 NaN 29.000   M         NaN                          NaN          NaN                    NaN                NaN           NaN         NaN                NaN      NaN   NaN      NaN               NaN        NaN             NaN          NaN     NaN\n",
              "2      H1N1                 NaN 22.000   F         NaN                          NaN          NaN                    NaN                NaN           NaN         NaN                NaN      NaN   NaN      NaN               NaN        NaN             NaN          NaN     NaN\n",
              "3      H1N1                 NaN 20.000   F         NaN                          NaN          NaN                    NaN                NaN           NaN      immuno                NaN      NaN   Yes      Yes               NaN         No             NaN       36.556     Yes\n",
              "4      H1N1                 NaN 21.000   M         NaN                          NaN          NaN                    NaN                NaN           NaN         NaN                NaN      NaN   NaN      NaN               NaN        NaN             NaN          NaN     NaN"
            ],
            "text/html": [
              "\n",
              "  <div id=\"df-ea2ee9c3-ac94-4447-8408-bc91bf14aedc\" class=\"colab-df-container\">\n",
              "    <div>\n",
              "<style scoped>\n",
              "    .dataframe tbody tr th:only-of-type {\n",
              "        vertical-align: middle;\n",
              "    }\n",
              "\n",
              "    .dataframe tbody tr th {\n",
              "        vertical-align: top;\n",
              "    }\n",
              "\n",
              "    .dataframe thead th {\n",
              "        text-align: right;\n",
              "    }\n",
              "</style>\n",
              "<table border=\"1\" class=\"dataframe\">\n",
              "  <thead>\n",
              "    <tr style=\"text-align: right;\">\n",
              "      <th></th>\n",
              "      <th>DIAGNOSIS</th>\n",
              "      <th>INITIALPCRDIAGNOSIS</th>\n",
              "      <th>AGE</th>\n",
              "      <th>SEX</th>\n",
              "      <th>NEUTROPHIL</th>\n",
              "      <th>SERUMLEVELSOFWHITEBLOODCELL</th>\n",
              "      <th>LYMPHOCYTES</th>\n",
              "      <th>CREACTIVEPROTEINLEVELS</th>\n",
              "      <th>DURATIONOFILLNESS</th>\n",
              "      <th>CTSCANRESULTS</th>\n",
              "      <th>RISKFACTORS</th>\n",
              "      <th>GROUNDGLASSOPACITY</th>\n",
              "      <th>DIARRHEA</th>\n",
              "      <th>FEVER</th>\n",
              "      <th>COUGHING</th>\n",
              "      <th>SHORTNESSOFBREATH</th>\n",
              "      <th>SORETHROAT</th>\n",
              "      <th>NAUSEAVOMITTING</th>\n",
              "      <th>TEMPERATURE</th>\n",
              "      <th>FATIGUE</th>\n",
              "    </tr>\n",
              "  </thead>\n",
              "  <tbody>\n",
              "    <tr>\n",
              "      <th>0</th>\n",
              "      <td>H1N1</td>\n",
              "      <td>NaN</td>\n",
              "      <td>67.000</td>\n",
              "      <td>F</td>\n",
              "      <td>NaN</td>\n",
              "      <td>NaN</td>\n",
              "      <td>NaN</td>\n",
              "      <td>NaN</td>\n",
              "      <td>NaN</td>\n",
              "      <td>NaN</td>\n",
              "      <td>NaN</td>\n",
              "      <td>NaN</td>\n",
              "      <td>NaN</td>\n",
              "      <td>Yes</td>\n",
              "      <td>Yes</td>\n",
              "      <td>NaN</td>\n",
              "      <td>No</td>\n",
              "      <td>NaN</td>\n",
              "      <td>38.111</td>\n",
              "      <td>No</td>\n",
              "    </tr>\n",
              "    <tr>\n",
              "      <th>1</th>\n",
              "      <td>H1N1</td>\n",
              "      <td>NaN</td>\n",
              "      <td>29.000</td>\n",
              "      <td>M</td>\n",
              "      <td>NaN</td>\n",
              "      <td>NaN</td>\n",
              "      <td>NaN</td>\n",
              "      <td>NaN</td>\n",
              "      <td>NaN</td>\n",
              "      <td>NaN</td>\n",
              "      <td>NaN</td>\n",
              "      <td>NaN</td>\n",
              "      <td>NaN</td>\n",
              "      <td>NaN</td>\n",
              "      <td>NaN</td>\n",
              "      <td>NaN</td>\n",
              "      <td>NaN</td>\n",
              "      <td>NaN</td>\n",
              "      <td>NaN</td>\n",
              "      <td>NaN</td>\n",
              "    </tr>\n",
              "    <tr>\n",
              "      <th>2</th>\n",
              "      <td>H1N1</td>\n",
              "      <td>NaN</td>\n",
              "      <td>22.000</td>\n",
              "      <td>F</td>\n",
              "      <td>NaN</td>\n",
              "      <td>NaN</td>\n",
              "      <td>NaN</td>\n",
              "      <td>NaN</td>\n",
              "      <td>NaN</td>\n",
              "      <td>NaN</td>\n",
              "      <td>NaN</td>\n",
              "      <td>NaN</td>\n",
              "      <td>NaN</td>\n",
              "      <td>NaN</td>\n",
              "      <td>NaN</td>\n",
              "      <td>NaN</td>\n",
              "      <td>NaN</td>\n",
              "      <td>NaN</td>\n",
              "      <td>NaN</td>\n",
              "      <td>NaN</td>\n",
              "    </tr>\n",
              "    <tr>\n",
              "      <th>3</th>\n",
              "      <td>H1N1</td>\n",
              "      <td>NaN</td>\n",
              "      <td>20.000</td>\n",
              "      <td>F</td>\n",
              "      <td>NaN</td>\n",
              "      <td>NaN</td>\n",
              "      <td>NaN</td>\n",
              "      <td>NaN</td>\n",
              "      <td>NaN</td>\n",
              "      <td>NaN</td>\n",
              "      <td>immuno</td>\n",
              "      <td>NaN</td>\n",
              "      <td>NaN</td>\n",
              "      <td>Yes</td>\n",
              "      <td>Yes</td>\n",
              "      <td>NaN</td>\n",
              "      <td>No</td>\n",
              "      <td>NaN</td>\n",
              "      <td>36.556</td>\n",
              "      <td>Yes</td>\n",
              "    </tr>\n",
              "    <tr>\n",
              "      <th>4</th>\n",
              "      <td>H1N1</td>\n",
              "      <td>NaN</td>\n",
              "      <td>21.000</td>\n",
              "      <td>M</td>\n",
              "      <td>NaN</td>\n",
              "      <td>NaN</td>\n",
              "      <td>NaN</td>\n",
              "      <td>NaN</td>\n",
              "      <td>NaN</td>\n",
              "      <td>NaN</td>\n",
              "      <td>NaN</td>\n",
              "      <td>NaN</td>\n",
              "      <td>NaN</td>\n",
              "      <td>NaN</td>\n",
              "      <td>NaN</td>\n",
              "      <td>NaN</td>\n",
              "      <td>NaN</td>\n",
              "      <td>NaN</td>\n",
              "      <td>NaN</td>\n",
              "      <td>NaN</td>\n",
              "    </tr>\n",
              "  </tbody>\n",
              "</table>\n",
              "</div>\n",
              "    <div class=\"colab-df-buttons\">\n",
              "\n",
              "  <div class=\"colab-df-container\">\n",
              "    <button class=\"colab-df-convert\" onclick=\"convertToInteractive('df-ea2ee9c3-ac94-4447-8408-bc91bf14aedc')\"\n",
              "            title=\"Convert this dataframe to an interactive table.\"\n",
              "            style=\"display:none;\">\n",
              "\n",
              "  <svg xmlns=\"http://www.w3.org/2000/svg\" height=\"24px\" viewBox=\"0 -960 960 960\">\n",
              "    <path d=\"M120-120v-720h720v720H120Zm60-500h600v-160H180v160Zm220 220h160v-160H400v160Zm0 220h160v-160H400v160ZM180-400h160v-160H180v160Zm440 0h160v-160H620v160ZM180-180h160v-160H180v160Zm440 0h160v-160H620v160Z\"/>\n",
              "  </svg>\n",
              "    </button>\n",
              "\n",
              "  <style>\n",
              "    .colab-df-container {\n",
              "      display:flex;\n",
              "      gap: 12px;\n",
              "    }\n",
              "\n",
              "    .colab-df-convert {\n",
              "      background-color: #E8F0FE;\n",
              "      border: none;\n",
              "      border-radius: 50%;\n",
              "      cursor: pointer;\n",
              "      display: none;\n",
              "      fill: #1967D2;\n",
              "      height: 32px;\n",
              "      padding: 0 0 0 0;\n",
              "      width: 32px;\n",
              "    }\n",
              "\n",
              "    .colab-df-convert:hover {\n",
              "      background-color: #E2EBFA;\n",
              "      box-shadow: 0px 1px 2px rgba(60, 64, 67, 0.3), 0px 1px 3px 1px rgba(60, 64, 67, 0.15);\n",
              "      fill: #174EA6;\n",
              "    }\n",
              "\n",
              "    .colab-df-buttons div {\n",
              "      margin-bottom: 4px;\n",
              "    }\n",
              "\n",
              "    [theme=dark] .colab-df-convert {\n",
              "      background-color: #3B4455;\n",
              "      fill: #D2E3FC;\n",
              "    }\n",
              "\n",
              "    [theme=dark] .colab-df-convert:hover {\n",
              "      background-color: #434B5C;\n",
              "      box-shadow: 0px 1px 3px 1px rgba(0, 0, 0, 0.15);\n",
              "      filter: drop-shadow(0px 1px 2px rgba(0, 0, 0, 0.3));\n",
              "      fill: #FFFFFF;\n",
              "    }\n",
              "  </style>\n",
              "\n",
              "    <script>\n",
              "      const buttonEl =\n",
              "        document.querySelector('#df-ea2ee9c3-ac94-4447-8408-bc91bf14aedc button.colab-df-convert');\n",
              "      buttonEl.style.display =\n",
              "        google.colab.kernel.accessAllowed ? 'block' : 'none';\n",
              "\n",
              "      async function convertToInteractive(key) {\n",
              "        const element = document.querySelector('#df-ea2ee9c3-ac94-4447-8408-bc91bf14aedc');\n",
              "        const dataTable =\n",
              "          await google.colab.kernel.invokeFunction('convertToInteractive',\n",
              "                                                    [key], {});\n",
              "        if (!dataTable) return;\n",
              "\n",
              "        const docLinkHtml = 'Like what you see? Visit the ' +\n",
              "          '<a target=\"_blank\" href=https://colab.research.google.com/notebooks/data_table.ipynb>data table notebook</a>'\n",
              "          + ' to learn more about interactive tables.';\n",
              "        element.innerHTML = '';\n",
              "        dataTable['output_type'] = 'display_data';\n",
              "        await google.colab.output.renderOutput(dataTable, element);\n",
              "        const docLink = document.createElement('div');\n",
              "        docLink.innerHTML = docLinkHtml;\n",
              "        element.appendChild(docLink);\n",
              "      }\n",
              "    </script>\n",
              "  </div>\n",
              "\n",
              "\n",
              "    <div id=\"df-69802fe5-d75f-48b5-b592-00dfef34979a\">\n",
              "      <button class=\"colab-df-quickchart\" onclick=\"quickchart('df-69802fe5-d75f-48b5-b592-00dfef34979a')\"\n",
              "                title=\"Suggest charts\"\n",
              "                style=\"display:none;\">\n",
              "\n",
              "<svg xmlns=\"http://www.w3.org/2000/svg\" height=\"24px\"viewBox=\"0 0 24 24\"\n",
              "     width=\"24px\">\n",
              "    <g>\n",
              "        <path d=\"M19 3H5c-1.1 0-2 .9-2 2v14c0 1.1.9 2 2 2h14c1.1 0 2-.9 2-2V5c0-1.1-.9-2-2-2zM9 17H7v-7h2v7zm4 0h-2V7h2v10zm4 0h-2v-4h2v4z\"/>\n",
              "    </g>\n",
              "</svg>\n",
              "      </button>\n",
              "\n",
              "<style>\n",
              "  .colab-df-quickchart {\n",
              "      --bg-color: #E8F0FE;\n",
              "      --fill-color: #1967D2;\n",
              "      --hover-bg-color: #E2EBFA;\n",
              "      --hover-fill-color: #174EA6;\n",
              "      --disabled-fill-color: #AAA;\n",
              "      --disabled-bg-color: #DDD;\n",
              "  }\n",
              "\n",
              "  [theme=dark] .colab-df-quickchart {\n",
              "      --bg-color: #3B4455;\n",
              "      --fill-color: #D2E3FC;\n",
              "      --hover-bg-color: #434B5C;\n",
              "      --hover-fill-color: #FFFFFF;\n",
              "      --disabled-bg-color: #3B4455;\n",
              "      --disabled-fill-color: #666;\n",
              "  }\n",
              "\n",
              "  .colab-df-quickchart {\n",
              "    background-color: var(--bg-color);\n",
              "    border: none;\n",
              "    border-radius: 50%;\n",
              "    cursor: pointer;\n",
              "    display: none;\n",
              "    fill: var(--fill-color);\n",
              "    height: 32px;\n",
              "    padding: 0;\n",
              "    width: 32px;\n",
              "  }\n",
              "\n",
              "  .colab-df-quickchart:hover {\n",
              "    background-color: var(--hover-bg-color);\n",
              "    box-shadow: 0 1px 2px rgba(60, 64, 67, 0.3), 0 1px 3px 1px rgba(60, 64, 67, 0.15);\n",
              "    fill: var(--button-hover-fill-color);\n",
              "  }\n",
              "\n",
              "  .colab-df-quickchart-complete:disabled,\n",
              "  .colab-df-quickchart-complete:disabled:hover {\n",
              "    background-color: var(--disabled-bg-color);\n",
              "    fill: var(--disabled-fill-color);\n",
              "    box-shadow: none;\n",
              "  }\n",
              "\n",
              "  .colab-df-spinner {\n",
              "    border: 2px solid var(--fill-color);\n",
              "    border-color: transparent;\n",
              "    border-bottom-color: var(--fill-color);\n",
              "    animation:\n",
              "      spin 1s steps(1) infinite;\n",
              "  }\n",
              "\n",
              "  @keyframes spin {\n",
              "    0% {\n",
              "      border-color: transparent;\n",
              "      border-bottom-color: var(--fill-color);\n",
              "      border-left-color: var(--fill-color);\n",
              "    }\n",
              "    20% {\n",
              "      border-color: transparent;\n",
              "      border-left-color: var(--fill-color);\n",
              "      border-top-color: var(--fill-color);\n",
              "    }\n",
              "    30% {\n",
              "      border-color: transparent;\n",
              "      border-left-color: var(--fill-color);\n",
              "      border-top-color: var(--fill-color);\n",
              "      border-right-color: var(--fill-color);\n",
              "    }\n",
              "    40% {\n",
              "      border-color: transparent;\n",
              "      border-right-color: var(--fill-color);\n",
              "      border-top-color: var(--fill-color);\n",
              "    }\n",
              "    60% {\n",
              "      border-color: transparent;\n",
              "      border-right-color: var(--fill-color);\n",
              "    }\n",
              "    80% {\n",
              "      border-color: transparent;\n",
              "      border-right-color: var(--fill-color);\n",
              "      border-bottom-color: var(--fill-color);\n",
              "    }\n",
              "    90% {\n",
              "      border-color: transparent;\n",
              "      border-bottom-color: var(--fill-color);\n",
              "    }\n",
              "  }\n",
              "</style>\n",
              "\n",
              "      <script>\n",
              "        async function quickchart(key) {\n",
              "          const quickchartButtonEl =\n",
              "            document.querySelector('#' + key + ' button');\n",
              "          quickchartButtonEl.disabled = true;  // To prevent multiple clicks.\n",
              "          quickchartButtonEl.classList.add('colab-df-spinner');\n",
              "          try {\n",
              "            const charts = await google.colab.kernel.invokeFunction(\n",
              "                'suggestCharts', [key], {});\n",
              "          } catch (error) {\n",
              "            console.error('Error during call to suggestCharts:', error);\n",
              "          }\n",
              "          quickchartButtonEl.classList.remove('colab-df-spinner');\n",
              "          quickchartButtonEl.classList.add('colab-df-quickchart-complete');\n",
              "        }\n",
              "        (() => {\n",
              "          let quickchartButtonEl =\n",
              "            document.querySelector('#df-69802fe5-d75f-48b5-b592-00dfef34979a button');\n",
              "          quickchartButtonEl.style.display =\n",
              "            google.colab.kernel.accessAllowed ? 'block' : 'none';\n",
              "        })();\n",
              "      </script>\n",
              "    </div>\n",
              "\n",
              "    </div>\n",
              "  </div>\n"
            ],
            "application/vnd.google.colaboratory.intrinsic+json": {
              "type": "dataframe",
              "variable_name": "df",
              "summary": "{\n  \"name\": \"df\",\n  \"rows\": 1482,\n  \"fields\": [\n    {\n      \"column\": \"DIAGNOSIS\",\n      \"properties\": {\n        \"dtype\": \"category\",\n        \"num_unique_values\": 2,\n        \"samples\": [\n          \"COVID19\",\n          \"H1N1\"\n        ],\n        \"semantic_type\": \"\",\n        \"description\": \"\"\n      }\n    },\n    {\n      \"column\": \"INITIALPCRDIAGNOSIS\",\n      \"properties\": {\n        \"dtype\": \"category\",\n        \"num_unique_values\": 2,\n        \"samples\": [\n          \"No\",\n          \"Yes\"\n        ],\n        \"semantic_type\": \"\",\n        \"description\": \"\"\n      }\n    },\n    {\n      \"column\": \"AGE\",\n      \"properties\": {\n        \"dtype\": \"number\",\n        \"std\": 21.48798185026294,\n        \"min\": 0.0,\n        \"max\": 88.0,\n        \"num_unique_values\": 109,\n        \"samples\": [\n          2.33,\n          56.0\n        ],\n        \"semantic_type\": \"\",\n        \"description\": \"\"\n      }\n    },\n    {\n      \"column\": \"SEX\",\n      \"properties\": {\n        \"dtype\": \"category\",\n        \"num_unique_values\": 2,\n        \"samples\": [\n          \"M\",\n          \"F\"\n        ],\n        \"semantic_type\": \"\",\n        \"description\": \"\"\n      }\n    },\n    {\n      \"column\": \"NEUTROPHIL\",\n      \"properties\": {\n        \"dtype\": \"number\",\n        \"std\": 12.690130560438183,\n        \"min\": 0.446,\n        \"max\": 93.0,\n        \"num_unique_values\": 91,\n        \"samples\": [\n          0.702,\n          2.55\n        ],\n        \"semantic_type\": \"\",\n        \"description\": \"\"\n      }\n    },\n    {\n      \"column\": \"SERUMLEVELSOFWHITEBLOODCELL\",\n      \"properties\": {\n        \"dtype\": \"number\",\n        \"std\": 4.346667930101118,\n        \"min\": 0.5,\n        \"max\": 36.07,\n        \"num_unique_values\": 127,\n        \"samples\": [\n          7.97,\n          6.0\n        ],\n        \"semantic_type\": \"\",\n        \"description\": \"\"\n      }\n    },\n    {\n      \"column\": \"LYMPHOCYTES\",\n      \"properties\": {\n        \"dtype\": \"number\",\n        \"std\": 3.956668320131661,\n        \"min\": 0.13,\n        \"max\": 30.6,\n        \"num_unique_values\": 116,\n        \"samples\": [\n          0.7,\n          1.22\n        ],\n        \"semantic_type\": \"\",\n        \"description\": \"\"\n      }\n    },\n    {\n      \"column\": \"CREACTIVEPROTEINLEVELS\",\n      \"properties\": {\n        \"dtype\": \"category\",\n        \"num_unique_values\": 120,\n        \"samples\": [\n          \"1.6\",\n          \"99.6\"\n        ],\n        \"semantic_type\": \"\",\n        \"description\": \"\"\n      }\n    },\n    {\n      \"column\": \"DURATIONOFILLNESS\",\n      \"properties\": {\n        \"dtype\": \"number\",\n        \"std\": 9.043170689163103,\n        \"min\": 1.0,\n        \"max\": 37.0,\n        \"num_unique_values\": 30,\n        \"samples\": [\n          32.0,\n          6.0\n        ],\n        \"semantic_type\": \"\",\n        \"description\": \"\"\n      }\n    },\n    {\n      \"column\": \"CTSCANRESULTS\",\n      \"properties\": {\n        \"dtype\": \"category\",\n        \"num_unique_values\": 2,\n        \"samples\": [\n          \"No\",\n          \"Yes\"\n        ],\n        \"semantic_type\": \"\",\n        \"description\": \"\"\n      }\n    },\n    {\n      \"column\": \"RISKFACTORS\",\n      \"properties\": {\n        \"dtype\": \"category\",\n        \"num_unique_values\": 63,\n        \"samples\": [\n          \"Heart Disease,Renal Disease\",\n          \"hypothyroidism\"\n        ],\n        \"semantic_type\": \"\",\n        \"description\": \"\"\n      }\n    },\n    {\n      \"column\": \"GROUNDGLASSOPACITY\",\n      \"properties\": {\n        \"dtype\": \"category\",\n        \"num_unique_values\": 2,\n        \"samples\": [\n          \"No\",\n          \"Yes\"\n        ],\n        \"semantic_type\": \"\",\n        \"description\": \"\"\n      }\n    },\n    {\n      \"column\": \"DIARRHEA\",\n      \"properties\": {\n        \"dtype\": \"category\",\n        \"num_unique_values\": 2,\n        \"samples\": [\n          \"Yes\",\n          \"No\"\n        ],\n        \"semantic_type\": \"\",\n        \"description\": \"\"\n      }\n    },\n    {\n      \"column\": \"FEVER\",\n      \"properties\": {\n        \"dtype\": \"category\",\n        \"num_unique_values\": 2,\n        \"samples\": [\n          \"No\",\n          \"Yes\"\n        ],\n        \"semantic_type\": \"\",\n        \"description\": \"\"\n      }\n    },\n    {\n      \"column\": \"COUGHING\",\n      \"properties\": {\n        \"dtype\": \"category\",\n        \"num_unique_values\": 2,\n        \"samples\": [\n          \"No\",\n          \"Yes\"\n        ],\n        \"semantic_type\": \"\",\n        \"description\": \"\"\n      }\n    },\n    {\n      \"column\": \"SHORTNESSOFBREATH\",\n      \"properties\": {\n        \"dtype\": \"category\",\n        \"num_unique_values\": 2,\n        \"samples\": [\n          \"Yes\",\n          \"No\"\n        ],\n        \"semantic_type\": \"\",\n        \"description\": \"\"\n      }\n    },\n    {\n      \"column\": \"SORETHROAT\",\n      \"properties\": {\n        \"dtype\": \"category\",\n        \"num_unique_values\": 2,\n        \"samples\": [\n          \"Yes\",\n          \"No\"\n        ],\n        \"semantic_type\": \"\",\n        \"description\": \"\"\n      }\n    },\n    {\n      \"column\": \"NAUSEAVOMITTING\",\n      \"properties\": {\n        \"dtype\": \"category\",\n        \"num_unique_values\": 2,\n        \"samples\": [\n          \"Yes\",\n          \"No\"\n        ],\n        \"semantic_type\": \"\",\n        \"description\": \"\"\n      }\n    },\n    {\n      \"column\": \"TEMPERATURE\",\n      \"properties\": {\n        \"dtype\": \"number\",\n        \"std\": 1.0944675156801715,\n        \"min\": 35.72222222,\n        \"max\": 42.22222222,\n        \"num_unique_values\": 135,\n        \"samples\": [\n          41.11111111,\n          35.72222222\n        ],\n        \"semantic_type\": \"\",\n        \"description\": \"\"\n      }\n    },\n    {\n      \"column\": \"FATIGUE\",\n      \"properties\": {\n        \"dtype\": \"category\",\n        \"num_unique_values\": 2,\n        \"samples\": [\n          \"Yes\",\n          \"No\"\n        ],\n        \"semantic_type\": \"\",\n        \"description\": \"\"\n      }\n    }\n  ]\n}"
            }
          },
          "metadata": {},
          "execution_count": 268
        }
      ]
    },
    {
      "cell_type": "code",
      "source": [
        "df[\"New_INITIAL_BOOL\"] = df[\"INITIALPCRDIAGNOSIS\"].notnull().astype(\"int\")"
      ],
      "metadata": {
        "id": "czrU3VTXyGAY"
      },
      "execution_count": 269,
      "outputs": []
    },
    {
      "cell_type": "code",
      "source": [
        "if df['AGE'].isnull().any():\n",
        "    df['AGE'] = df['AGE'].fillna(df['AGE'].median())"
      ],
      "metadata": {
        "id": "V1KMIg0VNHCT"
      },
      "execution_count": 270,
      "outputs": []
    },
    {
      "cell_type": "code",
      "source": [
        "df.loc[(df[\"AGE\"] < 18), \"NEW_AGE_CAT\"] = \"young\"\n",
        "df.loc[(df[\"AGE\"] >= 18) & (df[\"AGE\"] < 56), \"NEW_AGE_CAT\"] = \"mature\"\n",
        "df.loc[(df[\"AGE\"] >= 56), \"NEW_AGE_CAT\"] = \"senior\""
      ],
      "metadata": {
        "id": "DIym30f22Zv2"
      },
      "execution_count": 271,
      "outputs": []
    },
    {
      "cell_type": "code",
      "source": [
        "df.loc[(df[\"SEX\"] == \"M\") & (df[\"AGE\"] <= 21), \"NEW_SEX_CAT\"] = \"youngmale\"\n",
        "df.loc[(df[\"SEX\"] == \"M\") & ((df[\"AGE\"] > 21) & (df[\"AGE\"]) <= 50), \"NEW_SEX_CAT\"] = \"maturemale\"\n",
        "df.loc[(df[\"SEX\"] == \"M\") & (df[\"AGE\"] > 50), \"NEW_SEX_CAT\"] = \"seniormale\"\n",
        "df.loc[(df[\"SEX\"] == \"F\") & (df[\"AGE\"] <= 21), \"NEW_SEX_CAT\"] = \"youngfemale\"\n",
        "df.loc[(df[\"SEX\"] == \"F\") & ((df[\"AGE\"] > 21) & (df[\"AGE\"]) <= 50), \"NEW_SEX_CAT\"] = \"maturefemale\"\n",
        "df.loc[(df[\"SEX\"] == \"F\") & (df[\"AGE\"] > 50), \"NEW_SEX_CAT\"] = \"seniorfemale\""
      ],
      "metadata": {
        "id": "lqh2WT622ikm"
      },
      "execution_count": 272,
      "outputs": []
    },
    {
      "cell_type": "code",
      "source": [
        "df.head()"
      ],
      "metadata": {
        "colab": {
          "base_uri": "https://localhost:8080/",
          "height": 226
        },
        "id": "Y6fxiJX22mg_",
        "outputId": "94e53016-f505-4863-c79b-31675b4231a9"
      },
      "execution_count": 273,
      "outputs": [
        {
          "output_type": "execute_result",
          "data": {
            "text/plain": [
              "  DIAGNOSIS INITIALPCRDIAGNOSIS    AGE SEX  NEUTROPHIL  SERUMLEVELSOFWHITEBLOODCELL  LYMPHOCYTES CREACTIVEPROTEINLEVELS  DURATIONOFILLNESS CTSCANRESULTS RISKFACTORS GROUNDGLASSOPACITY DIARRHEA FEVER COUGHING SHORTNESSOFBREATH SORETHROAT NAUSEAVOMITTING  TEMPERATURE FATIGUE  New_INITIAL_BOOL NEW_AGE_CAT   NEW_SEX_CAT\n",
              "0      H1N1                 NaN 67.000   F         NaN                          NaN          NaN                    NaN                NaN           NaN         NaN                NaN      NaN   Yes      Yes               NaN         No             NaN       38.111      No                 0      senior  seniorfemale\n",
              "1      H1N1                 NaN 29.000   M         NaN                          NaN          NaN                    NaN                NaN           NaN         NaN                NaN      NaN   NaN      NaN               NaN        NaN             NaN          NaN     NaN                 0      mature    maturemale\n",
              "2      H1N1                 NaN 22.000   F         NaN                          NaN          NaN                    NaN                NaN           NaN         NaN                NaN      NaN   NaN      NaN               NaN        NaN             NaN          NaN     NaN                 0      mature  maturefemale\n",
              "3      H1N1                 NaN 20.000   F         NaN                          NaN          NaN                    NaN                NaN           NaN      immuno                NaN      NaN   Yes      Yes               NaN         No             NaN       36.556     Yes                 0      mature  maturefemale\n",
              "4      H1N1                 NaN 21.000   M         NaN                          NaN          NaN                    NaN                NaN           NaN         NaN                NaN      NaN   NaN      NaN               NaN        NaN             NaN          NaN     NaN                 0      mature    maturemale"
            ],
            "text/html": [
              "\n",
              "  <div id=\"df-3771dc29-fa25-4d7b-9906-eb8e5b6fedcf\" class=\"colab-df-container\">\n",
              "    <div>\n",
              "<style scoped>\n",
              "    .dataframe tbody tr th:only-of-type {\n",
              "        vertical-align: middle;\n",
              "    }\n",
              "\n",
              "    .dataframe tbody tr th {\n",
              "        vertical-align: top;\n",
              "    }\n",
              "\n",
              "    .dataframe thead th {\n",
              "        text-align: right;\n",
              "    }\n",
              "</style>\n",
              "<table border=\"1\" class=\"dataframe\">\n",
              "  <thead>\n",
              "    <tr style=\"text-align: right;\">\n",
              "      <th></th>\n",
              "      <th>DIAGNOSIS</th>\n",
              "      <th>INITIALPCRDIAGNOSIS</th>\n",
              "      <th>AGE</th>\n",
              "      <th>SEX</th>\n",
              "      <th>NEUTROPHIL</th>\n",
              "      <th>SERUMLEVELSOFWHITEBLOODCELL</th>\n",
              "      <th>LYMPHOCYTES</th>\n",
              "      <th>CREACTIVEPROTEINLEVELS</th>\n",
              "      <th>DURATIONOFILLNESS</th>\n",
              "      <th>CTSCANRESULTS</th>\n",
              "      <th>RISKFACTORS</th>\n",
              "      <th>GROUNDGLASSOPACITY</th>\n",
              "      <th>DIARRHEA</th>\n",
              "      <th>FEVER</th>\n",
              "      <th>COUGHING</th>\n",
              "      <th>SHORTNESSOFBREATH</th>\n",
              "      <th>SORETHROAT</th>\n",
              "      <th>NAUSEAVOMITTING</th>\n",
              "      <th>TEMPERATURE</th>\n",
              "      <th>FATIGUE</th>\n",
              "      <th>New_INITIAL_BOOL</th>\n",
              "      <th>NEW_AGE_CAT</th>\n",
              "      <th>NEW_SEX_CAT</th>\n",
              "    </tr>\n",
              "  </thead>\n",
              "  <tbody>\n",
              "    <tr>\n",
              "      <th>0</th>\n",
              "      <td>H1N1</td>\n",
              "      <td>NaN</td>\n",
              "      <td>67.000</td>\n",
              "      <td>F</td>\n",
              "      <td>NaN</td>\n",
              "      <td>NaN</td>\n",
              "      <td>NaN</td>\n",
              "      <td>NaN</td>\n",
              "      <td>NaN</td>\n",
              "      <td>NaN</td>\n",
              "      <td>NaN</td>\n",
              "      <td>NaN</td>\n",
              "      <td>NaN</td>\n",
              "      <td>Yes</td>\n",
              "      <td>Yes</td>\n",
              "      <td>NaN</td>\n",
              "      <td>No</td>\n",
              "      <td>NaN</td>\n",
              "      <td>38.111</td>\n",
              "      <td>No</td>\n",
              "      <td>0</td>\n",
              "      <td>senior</td>\n",
              "      <td>seniorfemale</td>\n",
              "    </tr>\n",
              "    <tr>\n",
              "      <th>1</th>\n",
              "      <td>H1N1</td>\n",
              "      <td>NaN</td>\n",
              "      <td>29.000</td>\n",
              "      <td>M</td>\n",
              "      <td>NaN</td>\n",
              "      <td>NaN</td>\n",
              "      <td>NaN</td>\n",
              "      <td>NaN</td>\n",
              "      <td>NaN</td>\n",
              "      <td>NaN</td>\n",
              "      <td>NaN</td>\n",
              "      <td>NaN</td>\n",
              "      <td>NaN</td>\n",
              "      <td>NaN</td>\n",
              "      <td>NaN</td>\n",
              "      <td>NaN</td>\n",
              "      <td>NaN</td>\n",
              "      <td>NaN</td>\n",
              "      <td>NaN</td>\n",
              "      <td>NaN</td>\n",
              "      <td>0</td>\n",
              "      <td>mature</td>\n",
              "      <td>maturemale</td>\n",
              "    </tr>\n",
              "    <tr>\n",
              "      <th>2</th>\n",
              "      <td>H1N1</td>\n",
              "      <td>NaN</td>\n",
              "      <td>22.000</td>\n",
              "      <td>F</td>\n",
              "      <td>NaN</td>\n",
              "      <td>NaN</td>\n",
              "      <td>NaN</td>\n",
              "      <td>NaN</td>\n",
              "      <td>NaN</td>\n",
              "      <td>NaN</td>\n",
              "      <td>NaN</td>\n",
              "      <td>NaN</td>\n",
              "      <td>NaN</td>\n",
              "      <td>NaN</td>\n",
              "      <td>NaN</td>\n",
              "      <td>NaN</td>\n",
              "      <td>NaN</td>\n",
              "      <td>NaN</td>\n",
              "      <td>NaN</td>\n",
              "      <td>NaN</td>\n",
              "      <td>0</td>\n",
              "      <td>mature</td>\n",
              "      <td>maturefemale</td>\n",
              "    </tr>\n",
              "    <tr>\n",
              "      <th>3</th>\n",
              "      <td>H1N1</td>\n",
              "      <td>NaN</td>\n",
              "      <td>20.000</td>\n",
              "      <td>F</td>\n",
              "      <td>NaN</td>\n",
              "      <td>NaN</td>\n",
              "      <td>NaN</td>\n",
              "      <td>NaN</td>\n",
              "      <td>NaN</td>\n",
              "      <td>NaN</td>\n",
              "      <td>immuno</td>\n",
              "      <td>NaN</td>\n",
              "      <td>NaN</td>\n",
              "      <td>Yes</td>\n",
              "      <td>Yes</td>\n",
              "      <td>NaN</td>\n",
              "      <td>No</td>\n",
              "      <td>NaN</td>\n",
              "      <td>36.556</td>\n",
              "      <td>Yes</td>\n",
              "      <td>0</td>\n",
              "      <td>mature</td>\n",
              "      <td>maturefemale</td>\n",
              "    </tr>\n",
              "    <tr>\n",
              "      <th>4</th>\n",
              "      <td>H1N1</td>\n",
              "      <td>NaN</td>\n",
              "      <td>21.000</td>\n",
              "      <td>M</td>\n",
              "      <td>NaN</td>\n",
              "      <td>NaN</td>\n",
              "      <td>NaN</td>\n",
              "      <td>NaN</td>\n",
              "      <td>NaN</td>\n",
              "      <td>NaN</td>\n",
              "      <td>NaN</td>\n",
              "      <td>NaN</td>\n",
              "      <td>NaN</td>\n",
              "      <td>NaN</td>\n",
              "      <td>NaN</td>\n",
              "      <td>NaN</td>\n",
              "      <td>NaN</td>\n",
              "      <td>NaN</td>\n",
              "      <td>NaN</td>\n",
              "      <td>NaN</td>\n",
              "      <td>0</td>\n",
              "      <td>mature</td>\n",
              "      <td>maturemale</td>\n",
              "    </tr>\n",
              "  </tbody>\n",
              "</table>\n",
              "</div>\n",
              "    <div class=\"colab-df-buttons\">\n",
              "\n",
              "  <div class=\"colab-df-container\">\n",
              "    <button class=\"colab-df-convert\" onclick=\"convertToInteractive('df-3771dc29-fa25-4d7b-9906-eb8e5b6fedcf')\"\n",
              "            title=\"Convert this dataframe to an interactive table.\"\n",
              "            style=\"display:none;\">\n",
              "\n",
              "  <svg xmlns=\"http://www.w3.org/2000/svg\" height=\"24px\" viewBox=\"0 -960 960 960\">\n",
              "    <path d=\"M120-120v-720h720v720H120Zm60-500h600v-160H180v160Zm220 220h160v-160H400v160Zm0 220h160v-160H400v160ZM180-400h160v-160H180v160Zm440 0h160v-160H620v160ZM180-180h160v-160H180v160Zm440 0h160v-160H620v160Z\"/>\n",
              "  </svg>\n",
              "    </button>\n",
              "\n",
              "  <style>\n",
              "    .colab-df-container {\n",
              "      display:flex;\n",
              "      gap: 12px;\n",
              "    }\n",
              "\n",
              "    .colab-df-convert {\n",
              "      background-color: #E8F0FE;\n",
              "      border: none;\n",
              "      border-radius: 50%;\n",
              "      cursor: pointer;\n",
              "      display: none;\n",
              "      fill: #1967D2;\n",
              "      height: 32px;\n",
              "      padding: 0 0 0 0;\n",
              "      width: 32px;\n",
              "    }\n",
              "\n",
              "    .colab-df-convert:hover {\n",
              "      background-color: #E2EBFA;\n",
              "      box-shadow: 0px 1px 2px rgba(60, 64, 67, 0.3), 0px 1px 3px 1px rgba(60, 64, 67, 0.15);\n",
              "      fill: #174EA6;\n",
              "    }\n",
              "\n",
              "    .colab-df-buttons div {\n",
              "      margin-bottom: 4px;\n",
              "    }\n",
              "\n",
              "    [theme=dark] .colab-df-convert {\n",
              "      background-color: #3B4455;\n",
              "      fill: #D2E3FC;\n",
              "    }\n",
              "\n",
              "    [theme=dark] .colab-df-convert:hover {\n",
              "      background-color: #434B5C;\n",
              "      box-shadow: 0px 1px 3px 1px rgba(0, 0, 0, 0.15);\n",
              "      filter: drop-shadow(0px 1px 2px rgba(0, 0, 0, 0.3));\n",
              "      fill: #FFFFFF;\n",
              "    }\n",
              "  </style>\n",
              "\n",
              "    <script>\n",
              "      const buttonEl =\n",
              "        document.querySelector('#df-3771dc29-fa25-4d7b-9906-eb8e5b6fedcf button.colab-df-convert');\n",
              "      buttonEl.style.display =\n",
              "        google.colab.kernel.accessAllowed ? 'block' : 'none';\n",
              "\n",
              "      async function convertToInteractive(key) {\n",
              "        const element = document.querySelector('#df-3771dc29-fa25-4d7b-9906-eb8e5b6fedcf');\n",
              "        const dataTable =\n",
              "          await google.colab.kernel.invokeFunction('convertToInteractive',\n",
              "                                                    [key], {});\n",
              "        if (!dataTable) return;\n",
              "\n",
              "        const docLinkHtml = 'Like what you see? Visit the ' +\n",
              "          '<a target=\"_blank\" href=https://colab.research.google.com/notebooks/data_table.ipynb>data table notebook</a>'\n",
              "          + ' to learn more about interactive tables.';\n",
              "        element.innerHTML = '';\n",
              "        dataTable['output_type'] = 'display_data';\n",
              "        await google.colab.output.renderOutput(dataTable, element);\n",
              "        const docLink = document.createElement('div');\n",
              "        docLink.innerHTML = docLinkHtml;\n",
              "        element.appendChild(docLink);\n",
              "      }\n",
              "    </script>\n",
              "  </div>\n",
              "\n",
              "\n",
              "    <div id=\"df-6e60a676-d164-4dbf-b8eb-f95acfb6d78e\">\n",
              "      <button class=\"colab-df-quickchart\" onclick=\"quickchart('df-6e60a676-d164-4dbf-b8eb-f95acfb6d78e')\"\n",
              "                title=\"Suggest charts\"\n",
              "                style=\"display:none;\">\n",
              "\n",
              "<svg xmlns=\"http://www.w3.org/2000/svg\" height=\"24px\"viewBox=\"0 0 24 24\"\n",
              "     width=\"24px\">\n",
              "    <g>\n",
              "        <path d=\"M19 3H5c-1.1 0-2 .9-2 2v14c0 1.1.9 2 2 2h14c1.1 0 2-.9 2-2V5c0-1.1-.9-2-2-2zM9 17H7v-7h2v7zm4 0h-2V7h2v10zm4 0h-2v-4h2v4z\"/>\n",
              "    </g>\n",
              "</svg>\n",
              "      </button>\n",
              "\n",
              "<style>\n",
              "  .colab-df-quickchart {\n",
              "      --bg-color: #E8F0FE;\n",
              "      --fill-color: #1967D2;\n",
              "      --hover-bg-color: #E2EBFA;\n",
              "      --hover-fill-color: #174EA6;\n",
              "      --disabled-fill-color: #AAA;\n",
              "      --disabled-bg-color: #DDD;\n",
              "  }\n",
              "\n",
              "  [theme=dark] .colab-df-quickchart {\n",
              "      --bg-color: #3B4455;\n",
              "      --fill-color: #D2E3FC;\n",
              "      --hover-bg-color: #434B5C;\n",
              "      --hover-fill-color: #FFFFFF;\n",
              "      --disabled-bg-color: #3B4455;\n",
              "      --disabled-fill-color: #666;\n",
              "  }\n",
              "\n",
              "  .colab-df-quickchart {\n",
              "    background-color: var(--bg-color);\n",
              "    border: none;\n",
              "    border-radius: 50%;\n",
              "    cursor: pointer;\n",
              "    display: none;\n",
              "    fill: var(--fill-color);\n",
              "    height: 32px;\n",
              "    padding: 0;\n",
              "    width: 32px;\n",
              "  }\n",
              "\n",
              "  .colab-df-quickchart:hover {\n",
              "    background-color: var(--hover-bg-color);\n",
              "    box-shadow: 0 1px 2px rgba(60, 64, 67, 0.3), 0 1px 3px 1px rgba(60, 64, 67, 0.15);\n",
              "    fill: var(--button-hover-fill-color);\n",
              "  }\n",
              "\n",
              "  .colab-df-quickchart-complete:disabled,\n",
              "  .colab-df-quickchart-complete:disabled:hover {\n",
              "    background-color: var(--disabled-bg-color);\n",
              "    fill: var(--disabled-fill-color);\n",
              "    box-shadow: none;\n",
              "  }\n",
              "\n",
              "  .colab-df-spinner {\n",
              "    border: 2px solid var(--fill-color);\n",
              "    border-color: transparent;\n",
              "    border-bottom-color: var(--fill-color);\n",
              "    animation:\n",
              "      spin 1s steps(1) infinite;\n",
              "  }\n",
              "\n",
              "  @keyframes spin {\n",
              "    0% {\n",
              "      border-color: transparent;\n",
              "      border-bottom-color: var(--fill-color);\n",
              "      border-left-color: var(--fill-color);\n",
              "    }\n",
              "    20% {\n",
              "      border-color: transparent;\n",
              "      border-left-color: var(--fill-color);\n",
              "      border-top-color: var(--fill-color);\n",
              "    }\n",
              "    30% {\n",
              "      border-color: transparent;\n",
              "      border-left-color: var(--fill-color);\n",
              "      border-top-color: var(--fill-color);\n",
              "      border-right-color: var(--fill-color);\n",
              "    }\n",
              "    40% {\n",
              "      border-color: transparent;\n",
              "      border-right-color: var(--fill-color);\n",
              "      border-top-color: var(--fill-color);\n",
              "    }\n",
              "    60% {\n",
              "      border-color: transparent;\n",
              "      border-right-color: var(--fill-color);\n",
              "    }\n",
              "    80% {\n",
              "      border-color: transparent;\n",
              "      border-right-color: var(--fill-color);\n",
              "      border-bottom-color: var(--fill-color);\n",
              "    }\n",
              "    90% {\n",
              "      border-color: transparent;\n",
              "      border-bottom-color: var(--fill-color);\n",
              "    }\n",
              "  }\n",
              "</style>\n",
              "\n",
              "      <script>\n",
              "        async function quickchart(key) {\n",
              "          const quickchartButtonEl =\n",
              "            document.querySelector('#' + key + ' button');\n",
              "          quickchartButtonEl.disabled = true;  // To prevent multiple clicks.\n",
              "          quickchartButtonEl.classList.add('colab-df-spinner');\n",
              "          try {\n",
              "            const charts = await google.colab.kernel.invokeFunction(\n",
              "                'suggestCharts', [key], {});\n",
              "          } catch (error) {\n",
              "            console.error('Error during call to suggestCharts:', error);\n",
              "          }\n",
              "          quickchartButtonEl.classList.remove('colab-df-spinner');\n",
              "          quickchartButtonEl.classList.add('colab-df-quickchart-complete');\n",
              "        }\n",
              "        (() => {\n",
              "          let quickchartButtonEl =\n",
              "            document.querySelector('#df-6e60a676-d164-4dbf-b8eb-f95acfb6d78e button');\n",
              "          quickchartButtonEl.style.display =\n",
              "            google.colab.kernel.accessAllowed ? 'block' : 'none';\n",
              "        })();\n",
              "      </script>\n",
              "    </div>\n",
              "\n",
              "    </div>\n",
              "  </div>\n"
            ],
            "application/vnd.google.colaboratory.intrinsic+json": {
              "type": "dataframe",
              "variable_name": "df"
            }
          },
          "metadata": {},
          "execution_count": 273
        }
      ]
    },
    {
      "cell_type": "code",
      "source": [
        "df[\"CREACTIVEPROTEINLEVELS\"] = pd.to_numeric(df[\"CREACTIVEPROTEINLEVELS\"], errors='coerce')"
      ],
      "metadata": {
        "id": "fCnCmsAg_lzU"
      },
      "execution_count": 274,
      "outputs": []
    },
    {
      "cell_type": "code",
      "source": [
        "# Analysis of Variables.\n",
        "\n",
        "def grab_col_names(dataframe, cat_th=10, car_th=20):\n",
        "\n",
        "    # cat_cols, cat_but_car\n",
        "    cat_cols = [col for col in dataframe.columns if dataframe[col].dtypes == \"O\"]\n",
        "\n",
        "    num_but_cat = [col for col in dataframe.columns if dataframe[col].nunique() < cat_th and\n",
        "                   dataframe[col].dtypes != \"O\"]\n",
        "\n",
        "    cat_but_car = [col for col in dataframe.columns if dataframe[col].nunique() > car_th and\n",
        "                   dataframe[col].dtypes == \"O\"]\n",
        "\n",
        "    cat_cols = cat_cols + num_but_cat\n",
        "\n",
        "    cat_cols = [col for col in cat_cols if col not in cat_but_car]\n",
        "\n",
        "    num_cols = [col for col in dataframe.columns if dataframe[col].dtypes != \"O\"]\n",
        "\n",
        "    num_cols = [col for col in num_cols if col not in num_but_cat]\n",
        "\n",
        "    print(f\"Observations: {dataframe.shape[0]}\")\n",
        "    print(f\"Variables: {dataframe.shape[1]}\")\n",
        "    print(f'cat_cols: {len(cat_cols)}')\n",
        "    print(f'num_cols: {len(num_cols)}')\n",
        "    print(f'cat_but_car: {len(cat_but_car)}')\n",
        "    print(f'num_but_cat: {len(num_but_cat)}')\n",
        "\n",
        "\n",
        "    return cat_cols, num_cols, cat_but_car, num_but_cat"
      ],
      "metadata": {
        "id": "xx0c84FE_yPy"
      },
      "execution_count": 275,
      "outputs": []
    },
    {
      "cell_type": "code",
      "source": [
        "cat_cols, num_cols, cat_but_car, num_but_cat = grab_col_names(df)"
      ],
      "metadata": {
        "colab": {
          "base_uri": "https://localhost:8080/"
        },
        "id": "UD2QSV_oADmx",
        "outputId": "483080a2-40b1-48b4-b460-a9bb2bc28650"
      },
      "execution_count": 276,
      "outputs": [
        {
          "output_type": "stream",
          "name": "stdout",
          "text": [
            "Observations: 1482\n",
            "Variables: 23\n",
            "cat_cols: 15\n",
            "num_cols: 7\n",
            "cat_but_car: 1\n",
            "num_but_cat: 1\n"
          ]
        }
      ]
    },
    {
      "cell_type": "code",
      "source": [
        "cat_cols"
      ],
      "metadata": {
        "colab": {
          "base_uri": "https://localhost:8080/"
        },
        "id": "_XPqNP06AWMt",
        "outputId": "0a78d3f7-73c4-4fb2-89a8-d6c010200a6a"
      },
      "execution_count": 277,
      "outputs": [
        {
          "output_type": "execute_result",
          "data": {
            "text/plain": [
              "['DIAGNOSIS',\n",
              " 'INITIALPCRDIAGNOSIS',\n",
              " 'SEX',\n",
              " 'CTSCANRESULTS',\n",
              " 'GROUNDGLASSOPACITY',\n",
              " 'DIARRHEA',\n",
              " 'FEVER',\n",
              " 'COUGHING',\n",
              " 'SHORTNESSOFBREATH',\n",
              " 'SORETHROAT',\n",
              " 'NAUSEAVOMITTING',\n",
              " 'FATIGUE',\n",
              " 'NEW_AGE_CAT',\n",
              " 'NEW_SEX_CAT',\n",
              " 'New_INITIAL_BOOL']"
            ]
          },
          "metadata": {},
          "execution_count": 277
        }
      ]
    },
    {
      "cell_type": "code",
      "source": [
        "cat_cols = [col for col in cat_cols if \"INITIALPCRDIAGNOSIS\" not in col]"
      ],
      "metadata": {
        "id": "ukvZ4gOWFY7n"
      },
      "execution_count": 278,
      "outputs": []
    },
    {
      "cell_type": "code",
      "source": [
        "cat_cols"
      ],
      "metadata": {
        "colab": {
          "base_uri": "https://localhost:8080/"
        },
        "id": "d4UQ0l6qFhZv",
        "outputId": "a0cb54c6-a462-497b-9c7e-a49a66821976"
      },
      "execution_count": 279,
      "outputs": [
        {
          "output_type": "execute_result",
          "data": {
            "text/plain": [
              "['DIAGNOSIS',\n",
              " 'SEX',\n",
              " 'CTSCANRESULTS',\n",
              " 'GROUNDGLASSOPACITY',\n",
              " 'DIARRHEA',\n",
              " 'FEVER',\n",
              " 'COUGHING',\n",
              " 'SHORTNESSOFBREATH',\n",
              " 'SORETHROAT',\n",
              " 'NAUSEAVOMITTING',\n",
              " 'FATIGUE',\n",
              " 'NEW_AGE_CAT',\n",
              " 'NEW_SEX_CAT',\n",
              " 'New_INITIAL_BOOL']"
            ]
          },
          "metadata": {},
          "execution_count": 279
        }
      ]
    },
    {
      "cell_type": "code",
      "source": [
        "num_cols"
      ],
      "metadata": {
        "colab": {
          "base_uri": "https://localhost:8080/"
        },
        "id": "J3uO8X38AddQ",
        "outputId": "7df9045c-45c2-4216-a9ea-2d9ea9fff209"
      },
      "execution_count": 280,
      "outputs": [
        {
          "output_type": "execute_result",
          "data": {
            "text/plain": [
              "['AGE',\n",
              " 'NEUTROPHIL',\n",
              " 'SERUMLEVELSOFWHITEBLOODCELL',\n",
              " 'LYMPHOCYTES',\n",
              " 'CREACTIVEPROTEINLEVELS',\n",
              " 'DURATIONOFILLNESS',\n",
              " 'TEMPERATURE']"
            ]
          },
          "metadata": {},
          "execution_count": 280
        }
      ]
    },
    {
      "cell_type": "code",
      "source": [
        "cat_but_car"
      ],
      "metadata": {
        "colab": {
          "base_uri": "https://localhost:8080/"
        },
        "id": "d7XBlFxwAxPp",
        "outputId": "d45aea72-7b4c-4d15-99df-1b55002679ec"
      },
      "execution_count": 281,
      "outputs": [
        {
          "output_type": "execute_result",
          "data": {
            "text/plain": [
              "['RISKFACTORS']"
            ]
          },
          "metadata": {},
          "execution_count": 281
        }
      ]
    },
    {
      "cell_type": "code",
      "source": [
        "num_but_cat"
      ],
      "metadata": {
        "colab": {
          "base_uri": "https://localhost:8080/"
        },
        "id": "bw_voXNxAx6F",
        "outputId": "4cd87e64-428a-43d0-8b19-af96ccbc7281"
      },
      "execution_count": 282,
      "outputs": [
        {
          "output_type": "execute_result",
          "data": {
            "text/plain": [
              "['New_INITIAL_BOOL']"
            ]
          },
          "metadata": {},
          "execution_count": 282
        }
      ]
    },
    {
      "cell_type": "code",
      "source": [
        "# Categorical Summary Function\n",
        "\n",
        "def cat_summary(dataframe, col_name, plot=False):\n",
        "    if dataframe[col_name].dtypes == \"bool\":\n",
        "        dataframe[col_name] = dataframe[col_name].astype(int)\n",
        "\n",
        "        print(pd.DataFrame({col_name: dataframe[col_name].value_counts(),\n",
        "                            \"Ratio\": 100 * dataframe[col_name].value_counts() / len(dataframe)}))\n",
        "        print(\"##########################################\")\n",
        "\n",
        "        if plot:\n",
        "            sns.countplot(x=dataframe[col_name], data=dataframe)\n",
        "            plt.show(block=True)\n",
        "    else:\n",
        "        print(pd.DataFrame({col_name: dataframe[col_name].value_counts(),\n",
        "                            \"Ratio\": 100 * dataframe[col_name].value_counts() / len(dataframe)}))\n",
        "        print(\"##########################################\")\n",
        "\n",
        "        if plot:\n",
        "            sns.countplot(x=dataframe[col_name], data=dataframe)\n",
        "            plt.show(block=True)"
      ],
      "metadata": {
        "id": "1M1pv9RpBxJy"
      },
      "execution_count": 283,
      "outputs": []
    },
    {
      "cell_type": "markdown",
      "source": [
        "# **Visualisasi data Kategori**"
      ],
      "metadata": {
        "id": "Q-j2TH5TFlbQ"
      }
    },
    {
      "cell_type": "code",
      "source": [
        "for col in cat_cols:\n",
        "    cat_summary(df, col, plot=True)"
      ],
      "metadata": {
        "colab": {
          "base_uri": "https://localhost:8080/",
          "height": 1000
        },
        "id": "4kusjUC5ByH5",
        "outputId": "3a035270-ecdc-42d5-fc70-e765d6849b10"
      },
      "execution_count": 284,
      "outputs": [
        {
          "output_type": "stream",
          "name": "stdout",
          "text": [
            "           DIAGNOSIS  Ratio\n",
            "DIAGNOSIS                  \n",
            "H1N1            1072 72.335\n",
            "COVID19          410 27.665\n",
            "##########################################\n"
          ]
        },
        {
          "output_type": "display_data",
          "data": {
            "text/plain": [
              "<Figure size 640x480 with 1 Axes>"
            ],
            "image/png": "[encoded data removed]"
          },
          "metadata": {}
        },
        {
          "output_type": "stream",
          "name": "stdout",
          "text": [
            "     SEX  Ratio\n",
            "SEX            \n",
            "M    748 50.472\n",
            "F    658 44.399\n",
            "##########################################\n"
          ]
        },
        {
          "output_type": "display_data",
          "data": {
            "text/plain": [
              "<Figure size 640x480 with 1 Axes>"
            ],
            "image/png": "[encoded data removed]"
          },
          "metadata": {}
        },
        {
          "output_type": "stream",
          "name": "stdout",
          "text": [
            "               CTSCANRESULTS  Ratio\n",
            "CTSCANRESULTS                      \n",
            "Yes                      144  9.717\n",
            "No                        15  1.012\n",
            "##########################################\n"
          ]
        },
        {
          "output_type": "display_data",
          "data": {
            "text/plain": [
              "<Figure size 640x480 with 1 Axes>"
            ],
            "image/png": "[encoded data removed]"
          },
          "metadata": {}
        },
        {
          "output_type": "stream",
          "name": "stdout",
          "text": [
            "                    GROUNDGLASSOPACITY  Ratio\n",
            "GROUNDGLASSOPACITY                           \n",
            "Yes                                 90  6.073\n",
            "No                                   3  0.202\n",
            "##########################################\n"
          ]
        },
        {
          "output_type": "display_data",
          "data": {
            "text/plain": [
              "<Figure size 640x480 with 1 Axes>"
            ],
            "image/png": "[encoded data removed]"
          },
          "metadata": {}
        },
        {
          "output_type": "stream",
          "name": "stdout",
          "text": [
            "          DIARRHEA  Ratio\n",
            "DIARRHEA                 \n",
            "No             340 22.942\n",
            "Yes            110  7.422\n",
            "##########################################\n"
          ]
        },
        {
          "output_type": "display_data",
          "data": {
            "text/plain": [
              "<Figure size 640x480 with 1 Axes>"
            ],
            "image/png": "[encoded data removed]"
          },
          "metadata": {}
        },
        {
          "output_type": "stream",
          "name": "stdout",
          "text": [
            "       FEVER  Ratio\n",
            "FEVER              \n",
            "Yes      777 52.429\n",
            "No       146  9.852\n",
            "##########################################\n"
          ]
        },
        {
          "output_type": "display_data",
          "data": {
            "text/plain": [
              "<Figure size 640x480 with 1 Axes>"
            ],
            "image/png": "[encoded data removed]"
          },
          "metadata": {}
        },
        {
          "output_type": "stream",
          "name": "stdout",
          "text": [
            "          COUGHING  Ratio\n",
            "COUGHING                 \n",
            "Yes            745 50.270\n",
            "No             114  7.692\n",
            "##########################################\n"
          ]
        },
        {
          "output_type": "display_data",
          "data": {
            "text/plain": [
              "<Figure size 640x480 with 1 Axes>"
            ],
            "image/png": "[encoded data removed]"
          },
          "metadata": {}
        },
        {
          "output_type": "stream",
          "name": "stdout",
          "text": [
            "                   SHORTNESSOFBREATH  Ratio\n",
            "SHORTNESSOFBREATH                          \n",
            "Yes                               45  3.036\n",
            "No                                30  2.024\n",
            "##########################################\n"
          ]
        },
        {
          "output_type": "display_data",
          "data": {
            "text/plain": [
              "<Figure size 640x480 with 1 Axes>"
            ],
            "image/png": "[encoded data removed]"
          },
          "metadata": {}
        },
        {
          "output_type": "stream",
          "name": "stdout",
          "text": [
            "            SORETHROAT  Ratio\n",
            "SORETHROAT                   \n",
            "Yes                407 27.463\n",
            "No                 263 17.746\n",
            "##########################################\n"
          ]
        },
        {
          "output_type": "display_data",
          "data": {
            "text/plain": [
              "<Figure size 640x480 with 1 Axes>"
            ],
            "image/png": "[encoded data removed]"
          },
          "metadata": {}
        },
        {
          "output_type": "stream",
          "name": "stdout",
          "text": [
            "                 NAUSEAVOMITTING  Ratio\n",
            "NAUSEAVOMITTING                        \n",
            "No                           319 21.525\n",
            "Yes                          102  6.883\n",
            "##########################################\n"
          ]
        },
        {
          "output_type": "display_data",
          "data": {
            "text/plain": [
              "<Figure size 640x480 with 1 Axes>"
            ],
            "image/png": "[encoded data removed]"
          },
          "metadata": {}
        },
        {
          "output_type": "stream",
          "name": "stdout",
          "text": [
            "         FATIGUE  Ratio\n",
            "FATIGUE                \n",
            "Yes          348 23.482\n",
            "No           183 12.348\n",
            "##########################################\n"
          ]
        },
        {
          "output_type": "display_data",
          "data": {
            "text/plain": [
              "<Figure size 640x480 with 1 Axes>"
            ],
            "image/png": "[encoded data removed]"
          },
          "metadata": {}
        },
        {
          "output_type": "stream",
          "name": "stdout",
          "text": [
            "             NEW_AGE_CAT  Ratio\n",
            "NEW_AGE_CAT                    \n",
            "mature               675 45.547\n",
            "young                628 42.375\n",
            "senior               179 12.078\n",
            "##########################################\n"
          ]
        },
        {
          "output_type": "display_data",
          "data": {
            "text/plain": [
              "<Figure size 640x480 with 1 Axes>"
            ],
            "image/png": "[encoded data removed]"
          },
          "metadata": {}
        },
        {
          "output_type": "stream",
          "name": "stdout",
          "text": [
            "              NEW_SEX_CAT  Ratio\n",
            "NEW_SEX_CAT                     \n",
            "maturemale            616 41.565\n",
            "maturefemale          553 37.314\n",
            "seniormale            132  8.907\n",
            "seniorfemale          105  7.085\n",
            "##########################################\n"
          ]
        },
        {
          "output_type": "display_data",
          "data": {
            "text/plain": [
              "<Figure size 640x480 with 1 Axes>"
            ],
            "image/png": "[encoded data removed]"
          },
          "metadata": {}
        },
        {
          "output_type": "stream",
          "name": "stdout",
          "text": [
            "                  New_INITIAL_BOOL  Ratio\n",
            "New_INITIAL_BOOL                         \n",
            "0                             1378 92.982\n",
            "1                              104  7.018\n",
            "##########################################\n"
          ]
        },
        {
          "output_type": "display_data",
          "data": {
            "text/plain": [
              "<Figure size 640x480 with 1 Axes>"
            ],
            "image/png": "[encoded data removed]"
          },
          "metadata": {}
        }
      ]
    },
    {
      "cell_type": "code",
      "source": [
        "df.info()"
      ],
      "metadata": {
        "colab": {
          "base_uri": "https://localhost:8080/"
        },
        "id": "H9NGeUSpErBV",
        "outputId": "d6fe5f51-53a5-4288-cf01-49f6d2fb55cd"
      },
      "execution_count": 285,
      "outputs": [
        {
          "output_type": "stream",
          "name": "stdout",
          "text": [
            "<class 'pandas.core.frame.DataFrame'>\n",
            "RangeIndex: 1482 entries, 0 to 1481\n",
            "Data columns (total 23 columns):\n",
            " #   Column                       Non-Null Count  Dtype  \n",
            "---  ------                       --------------  -----  \n",
            " 0   DIAGNOSIS                    1482 non-null   object \n",
            " 1   INITIALPCRDIAGNOSIS          104 non-null    object \n",
            " 2   AGE                          1482 non-null   float64\n",
            " 3   SEX                          1406 non-null   object \n",
            " 4   NEUTROPHIL                   103 non-null    float64\n",
            " 5   SERUMLEVELSOFWHITEBLOODCELL  151 non-null    float64\n",
            " 6   LYMPHOCYTES                  156 non-null    float64\n",
            " 7   CREACTIVEPROTEINLEVELS       136 non-null    float64\n",
            " 8   DURATIONOFILLNESS            87 non-null     float64\n",
            " 9   CTSCANRESULTS                159 non-null    object \n",
            " 10  RISKFACTORS                  209 non-null    object \n",
            " 11  GROUNDGLASSOPACITY           93 non-null     object \n",
            " 12  DIARRHEA                     450 non-null    object \n",
            " 13  FEVER                        923 non-null    object \n",
            " 14  COUGHING                     859 non-null    object \n",
            " 15  SHORTNESSOFBREATH            75 non-null     object \n",
            " 16  SORETHROAT                   670 non-null    object \n",
            " 17  NAUSEAVOMITTING              421 non-null    object \n",
            " 18  TEMPERATURE                  628 non-null    float64\n",
            " 19  FATIGUE                      531 non-null    object \n",
            " 20  New_INITIAL_BOOL             1482 non-null   int64  \n",
            " 21  NEW_AGE_CAT                  1482 non-null   object \n",
            " 22  NEW_SEX_CAT                  1406 non-null   object \n",
            "dtypes: float64(7), int64(1), object(15)\n",
            "memory usage: 266.4+ KB\n"
          ]
        }
      ]
    },
    {
      "cell_type": "code",
      "source": [
        "# Outlier Threshold Calculation Function\n",
        "\n",
        "def outlier_thresholds(dataframe, col_name, q1=0.05, q3=0.95):\n",
        "    quartile1 = dataframe[col_name].quantile(q1)\n",
        "    quartile3 = dataframe[col_name].quantile(q3)\n",
        "    interquantile_range = quartile3 - quartile1\n",
        "    up_limit = quartile3 + 1.5 * interquantile_range\n",
        "    low_limit = quartile1 - 1.5 * interquantile_range\n",
        "    return low_limit, up_limit"
      ],
      "metadata": {
        "id": "lCdwG_THErw5"
      },
      "execution_count": 286,
      "outputs": []
    },
    {
      "cell_type": "code",
      "source": [
        "# Outlier Check Function\n",
        "\n",
        "def check_outlier(dataframe, col_name):\n",
        "    low_limit, up_limit = outlier_thresholds(dataframe, col_name)\n",
        "    if dataframe[(dataframe[col_name] > up_limit) | (dataframe[col_name] < low_limit)].any(axis=None):\n",
        "        return True\n",
        "    else:\n",
        "        return False"
      ],
      "metadata": {
        "id": "0l-u79E0RGOI"
      },
      "execution_count": 287,
      "outputs": []
    },
    {
      "cell_type": "code",
      "source": [
        "# Replace Outliers with Thresholds\n",
        "\n",
        "def replace_with_thresholds(dataframe, variable):\n",
        "    low_limit, up_limit = outlier_thresholds(dataframe, variable)\n",
        "    dataframe.loc[(dataframe[variable] < low_limit), variable] = low_limit\n",
        "    dataframe.loc[(dataframe[variable] > up_limit), variable] = up_limit"
      ],
      "metadata": {
        "id": "uPxnpTOrRRRV"
      },
      "execution_count": 288,
      "outputs": []
    },
    {
      "cell_type": "code",
      "source": [
        "# Visualizing Outliers in a Boxplot\n",
        "\n",
        "def boxplot_outliers(dataframe, col_name):\n",
        "    plt.figure(figsize=(5, 5))\n",
        "    sns.boxplot(x=dataframe[col_name])\n",
        "    plt.show(block=True)"
      ],
      "metadata": {
        "id": "X2ceLuioRayC"
      },
      "execution_count": 289,
      "outputs": []
    },
    {
      "cell_type": "code",
      "source": [
        "for col in num_cols:\n",
        "    print(col, check_outlier(df, col))"
      ],
      "metadata": {
        "colab": {
          "base_uri": "https://localhost:8080/"
        },
        "id": "jNm4nrjgRhEL",
        "outputId": "4e3058cf-1975-45c4-de27-61908f44fe24"
      },
      "execution_count": 290,
      "outputs": [
        {
          "output_type": "stream",
          "name": "stdout",
          "text": [
            "AGE False\n",
            "NEUTROPHIL True\n",
            "SERUMLEVELSOFWHITEBLOODCELL True\n",
            "LYMPHOCYTES True\n",
            "CREACTIVEPROTEINLEVELS False\n",
            "DURATIONOFILLNESS False\n",
            "TEMPERATURE False\n"
          ]
        }
      ]
    },
    {
      "cell_type": "code",
      "source": [
        "for col in num_cols:\n",
        "    print(col, replace_with_thresholds(df, col))"
      ],
      "metadata": {
        "colab": {
          "base_uri": "https://localhost:8080/"
        },
        "id": "lIy5ThB_RkPZ",
        "outputId": "02aa0b6b-6fa4-4f72-a36f-c9a96069f431"
      },
      "execution_count": 291,
      "outputs": [
        {
          "output_type": "stream",
          "name": "stdout",
          "text": [
            "AGE None\n",
            "NEUTROPHIL None\n",
            "SERUMLEVELSOFWHITEBLOODCELL None\n",
            "LYMPHOCYTES None\n",
            "CREACTIVEPROTEINLEVELS None\n",
            "DURATIONOFILLNESS None\n",
            "TEMPERATURE None\n"
          ]
        }
      ]
    },
    {
      "cell_type": "code",
      "source": [
        "for col in num_cols:\n",
        "    print(col, check_outlier(df, col))"
      ],
      "metadata": {
        "colab": {
          "base_uri": "https://localhost:8080/"
        },
        "id": "V1rurkM9Rpmi",
        "outputId": "3b45389e-d89e-4dd6-dfaf-21ff02146932"
      },
      "execution_count": 292,
      "outputs": [
        {
          "output_type": "stream",
          "name": "stdout",
          "text": [
            "AGE False\n",
            "NEUTROPHIL False\n",
            "SERUMLEVELSOFWHITEBLOODCELL False\n",
            "LYMPHOCYTES False\n",
            "CREACTIVEPROTEINLEVELS False\n",
            "DURATIONOFILLNESS False\n",
            "TEMPERATURE False\n"
          ]
        }
      ]
    },
    {
      "cell_type": "code",
      "source": [
        "for col in num_cols:\n",
        "    print(col, boxplot_outliers(df, col))"
      ],
      "metadata": {
        "colab": {
          "base_uri": "https://localhost:8080/",
          "height": 1000
        },
        "id": "ksdoQqlgRuf6",
        "outputId": "433e65e0-eacd-434f-d6b7-5cbb2391025e"
      },
      "execution_count": 293,
      "outputs": [
        {
          "output_type": "display_data",
          "data": {
            "text/plain": [
              "<Figure size 500x500 with 1 Axes>"
            ],
            "image/png": "[encoded data removed]"
          },
          "metadata": {}
        },
        {
          "output_type": "stream",
          "name": "stdout",
          "text": [
            "AGE None\n"
          ]
        },
        {
          "output_type": "display_data",
          "data": {
            "text/plain": [
              "<Figure size 500x500 with 1 Axes>"
            ],
            "image/png": "[encoded data removed]"
          },
          "metadata": {}
        },
        {
          "output_type": "stream",
          "name": "stdout",
          "text": [
            "NEUTROPHIL None\n"
          ]
        },
        {
          "output_type": "display_data",
          "data": {
            "text/plain": [
              "<Figure size 500x500 with 1 Axes>"
            ],
            "image/png": "[encoded data removed]"
          },
          "metadata": {}
        },
        {
          "output_type": "stream",
          "name": "stdout",
          "text": [
            "SERUMLEVELSOFWHITEBLOODCELL None\n"
          ]
        },
        {
          "output_type": "display_data",
          "data": {
            "text/plain": [
              "<Figure size 500x500 with 1 Axes>"
            ],
            "image/png": "[encoded data removed]"
          },
          "metadata": {}
        },
        {
          "output_type": "stream",
          "name": "stdout",
          "text": [
            "LYMPHOCYTES None\n"
          ]
        },
        {
          "output_type": "display_data",
          "data": {
            "text/plain": [
              "<Figure size 500x500 with 1 Axes>"
            ],
            "image/png": "[encoded data removed]"
          },
          "metadata": {}
        },
        {
          "output_type": "stream",
          "name": "stdout",
          "text": [
            "CREACTIVEPROTEINLEVELS None\n"
          ]
        },
        {
          "output_type": "display_data",
          "data": {
            "text/plain": [
              "<Figure size 500x500 with 1 Axes>"
            ],
            "image/png": "[encoded data removed]"
          },
          "metadata": {}
        },
        {
          "output_type": "stream",
          "name": "stdout",
          "text": [
            "DURATIONOFILLNESS None\n"
          ]
        },
        {
          "output_type": "display_data",
          "data": {
            "text/plain": [
              "<Figure size 500x500 with 1 Axes>"
            ],
            "image/png": "[encoded data removed]"
          },
          "metadata": {}
        },
        {
          "output_type": "stream",
          "name": "stdout",
          "text": [
            "TEMPERATURE None\n"
          ]
        }
      ]
    },
    {
      "cell_type": "code",
      "source": [
        "# Analyzing Missing Values in a DataFrame\n",
        "\n",
        "def missing_values_table(dataframe, na_name=False):\n",
        "    na_columns = [col for col in dataframe.columns if dataframe[col].isnull().sum() > 0]\n",
        "\n",
        "    n_miss = dataframe[na_columns].isnull().sum().sort_values(ascending=False)\n",
        "    ratio = (dataframe[na_columns].isnull().sum() / dataframe.shape[0] * 100).sort_values(ascending=False)\n",
        "    missing_df = pd.concat([n_miss, np.round(ratio, 2)], axis=1, keys=['n_miss', 'ratio'])\n",
        "    print(missing_df, end='\\n')\n",
        "\n",
        "    if na_name:\n",
        "        return na_columns"
      ],
      "metadata": {
        "id": "kQt9PTfwUDfi"
      },
      "execution_count": 294,
      "outputs": []
    },
    {
      "cell_type": "code",
      "source": [
        "missing_values_table(df, na_name=False)"
      ],
      "metadata": {
        "colab": {
          "base_uri": "https://localhost:8080/"
        },
        "id": "jWYfAhTxUsr3",
        "outputId": "67290785-7e0d-4ccc-e5a1-c7e6747c1f89"
      },
      "execution_count": 295,
      "outputs": [
        {
          "output_type": "stream",
          "name": "stdout",
          "text": [
            "                             n_miss  ratio\n",
            "SHORTNESSOFBREATH              1407 94.940\n",
            "DURATIONOFILLNESS              1395 94.130\n",
            "GROUNDGLASSOPACITY             1389 93.720\n",
            "NEUTROPHIL                     1379 93.050\n",
            "INITIALPCRDIAGNOSIS            1378 92.980\n",
            "CREACTIVEPROTEINLEVELS         1346 90.820\n",
            "SERUMLEVELSOFWHITEBLOODCELL    1331 89.810\n",
            "LYMPHOCYTES                    1326 89.470\n",
            "CTSCANRESULTS                  1323 89.270\n",
            "RISKFACTORS                    1273 85.900\n",
            "NAUSEAVOMITTING                1061 71.590\n",
            "DIARRHEA                       1032 69.640\n",
            "FATIGUE                         951 64.170\n",
            "TEMPERATURE                     854 57.620\n",
            "SORETHROAT                      812 54.790\n",
            "COUGHING                        623 42.040\n",
            "FEVER                           559 37.720\n",
            "SEX                              76  5.130\n",
            "NEW_SEX_CAT                      76  5.130\n"
          ]
        }
      ]
    },
    {
      "cell_type": "code",
      "source": [
        "df.drop(\"SHORTNESSOFBREATH\", inplace=True, axis=1)"
      ],
      "metadata": {
        "id": "iC7pHW1KVCVD"
      },
      "execution_count": 296,
      "outputs": []
    },
    {
      "cell_type": "code",
      "source": [
        "df.drop(\"DURATIONOFILLNESS\", inplace=True, axis=1)"
      ],
      "metadata": {
        "id": "JSEda9CCVpff"
      },
      "execution_count": 297,
      "outputs": []
    },
    {
      "cell_type": "code",
      "source": [
        "missing_values_table(df, na_name=False)"
      ],
      "metadata": {
        "colab": {
          "base_uri": "https://localhost:8080/"
        },
        "id": "I1GRuWejU4Wm",
        "outputId": "e82a27a9-7551-4458-cc15-651bc21bcc1c"
      },
      "execution_count": 298,
      "outputs": [
        {
          "output_type": "stream",
          "name": "stdout",
          "text": [
            "                             n_miss  ratio\n",
            "GROUNDGLASSOPACITY             1389 93.720\n",
            "NEUTROPHIL                     1379 93.050\n",
            "INITIALPCRDIAGNOSIS            1378 92.980\n",
            "CREACTIVEPROTEINLEVELS         1346 90.820\n",
            "SERUMLEVELSOFWHITEBLOODCELL    1331 89.810\n",
            "LYMPHOCYTES                    1326 89.470\n",
            "CTSCANRESULTS                  1323 89.270\n",
            "RISKFACTORS                    1273 85.900\n",
            "NAUSEAVOMITTING                1061 71.590\n",
            "DIARRHEA                       1032 69.640\n",
            "FATIGUE                         951 64.170\n",
            "TEMPERATURE                     854 57.620\n",
            "SORETHROAT                      812 54.790\n",
            "COUGHING                        623 42.040\n",
            "FEVER                           559 37.720\n",
            "SEX                              76  5.130\n",
            "NEW_SEX_CAT                      76  5.130\n"
          ]
        }
      ]
    },
    {
      "cell_type": "code",
      "source": [
        "# Imputasi SEX berdasarkan AGE\n",
        "\n",
        "# Buat kategori usia\n",
        "df[\"AGE_GROUP\"] = pd.cut(df[\"AGE\"], bins=[0, 12, 18, 35, 50, 100],\n",
        "                         labels=[\"Anak\", \"Remaja\", \"Dewasa Muda\", \"Dewasa\", \"Lansia\"])\n",
        "\n",
        "# Ambil modus gender berdasarkan AGE_GROUP\n",
        "gender_age_map = df.groupby(\"AGE_GROUP\")[\"SEX\"].agg(lambda x: x.mode()[0])\n",
        "\n",
        "# Imputasi berdasarkan kelompok usia\n",
        "df[\"SEX\"] = df.apply(\n",
        "    lambda row: gender_age_map[row[\"AGE_GROUP\"]] if pd.isnull(row[\"SEX\"]) else row[\"SEX\"],\n",
        "    axis=1\n",
        ")\n"
      ],
      "metadata": {
        "colab": {
          "base_uri": "https://localhost:8080/"
        },
        "id": "9suRItJKWpGq",
        "outputId": "2ebf244a-be1c-427f-f315-8b8f0d3f20e1"
      },
      "execution_count": 299,
      "outputs": [
        {
          "output_type": "stream",
          "name": "stderr",
          "text": [
            "<ipython-input-299-8c14e92aae30>:8: FutureWarning: The default of observed=False is deprecated and will be changed to True in a future version of pandas. Pass observed=False to retain current behavior or observed=True to adopt the future default and silence this warning.\n",
            "  gender_age_map = df.groupby(\"AGE_GROUP\")[\"SEX\"].agg(lambda x: x.mode()[0])\n"
          ]
        }
      ]
    },
    {
      "cell_type": "code",
      "source": [
        "df.loc[(df[\"SEX\"] == \"M\") & (df[\"AGE\"] <= 21), \"NEW_SEX_CAT\"] = \"youngmale\"\n",
        "df.loc[(df[\"SEX\"] == \"M\") & ((df[\"AGE\"] > 21) & (df[\"AGE\"]) <= 50), \"NEW_SEX_CAT\"] = \"maturemale\"\n",
        "df.loc[(df[\"SEX\"] == \"M\") & (df[\"AGE\"] > 50), \"NEW_SEX_CAT\"] = \"seniormale\"\n",
        "df.loc[(df[\"SEX\"] == \"F\") & (df[\"AGE\"] <= 21), \"NEW_SEX_CAT\"] = \"youngfemale\"\n",
        "df.loc[(df[\"SEX\"] == \"F\") & ((df[\"AGE\"] > 21) & (df[\"AGE\"]) <= 50), \"NEW_SEX_CAT\"] = \"maturefemale\"\n",
        "df.loc[(df[\"SEX\"] == \"F\") & (df[\"AGE\"] > 50), \"NEW_SEX_CAT\"] = \"seniorfemale\""
      ],
      "metadata": {
        "id": "XJkHjYGWXe1N"
      },
      "execution_count": 300,
      "outputs": []
    },
    {
      "cell_type": "code",
      "source": [
        "missing_values_table(df, na_name=False)"
      ],
      "metadata": {
        "colab": {
          "base_uri": "https://localhost:8080/"
        },
        "id": "IlnYai1uWvIJ",
        "outputId": "69549a55-88c9-4ed6-e7d4-ae27421bd81e"
      },
      "execution_count": 301,
      "outputs": [
        {
          "output_type": "stream",
          "name": "stdout",
          "text": [
            "                             n_miss  ratio\n",
            "GROUNDGLASSOPACITY             1389 93.720\n",
            "NEUTROPHIL                     1379 93.050\n",
            "INITIALPCRDIAGNOSIS            1378 92.980\n",
            "CREACTIVEPROTEINLEVELS         1346 90.820\n",
            "SERUMLEVELSOFWHITEBLOODCELL    1331 89.810\n",
            "LYMPHOCYTES                    1326 89.470\n",
            "CTSCANRESULTS                  1323 89.270\n",
            "RISKFACTORS                    1273 85.900\n",
            "NAUSEAVOMITTING                1061 71.590\n",
            "DIARRHEA                       1032 69.640\n",
            "FATIGUE                         951 64.170\n",
            "TEMPERATURE                     854 57.620\n",
            "SORETHROAT                      812 54.790\n",
            "COUGHING                        623 42.040\n",
            "FEVER                           559 37.720\n",
            "AGE_GROUP                        38  2.560\n"
          ]
        }
      ]
    },
    {
      "cell_type": "code",
      "source": [
        "# Correlation Matrix and Heatmap\n",
        "correlation_matrix = df.corr(numeric_only=True)\n",
        "plt.figure(figsize=(12, 8))\n",
        "sns.heatmap(correlation_matrix, annot=True, cmap='coolwarm', fmt=\".2f\")\n",
        "plt.title('Correlation Matrix Heatmap')\n",
        "plt.show()"
      ],
      "metadata": {
        "colab": {
          "base_uri": "https://localhost:8080/",
          "height": 933
        },
        "id": "4VfYN8OsO2q6",
        "outputId": "89a5a16b-0043-4068-e861-3954a5a184c7"
      },
      "execution_count": 302,
      "outputs": [
        {
          "output_type": "display_data",
          "data": {
            "text/plain": [
              "<Figure size 1200x800 with 2 Axes>"
            ],
            "image/png": "[encoded data removed]"
          },
          "metadata": {}
        }
      ]
    },
    {
      "cell_type": "markdown",
      "source": [
        "# **Evaluasi**"
      ],
      "metadata": {
        "id": "hMNVWyaFb6mM"
      }
    },
    {
      "cell_type": "code",
      "source": [
        "df.info()"
      ],
      "metadata": {
        "colab": {
          "base_uri": "https://localhost:8080/"
        },
        "id": "G6zdu2iBgAVl",
        "outputId": "d751cf28-c319-4f8a-cc56-ee6b78d7c7d3"
      },
      "execution_count": 303,
      "outputs": [
        {
          "output_type": "stream",
          "name": "stdout",
          "text": [
            "<class 'pandas.core.frame.DataFrame'>\n",
            "RangeIndex: 1482 entries, 0 to 1481\n",
            "Data columns (total 22 columns):\n",
            " #   Column                       Non-Null Count  Dtype   \n",
            "---  ------                       --------------  -----   \n",
            " 0   DIAGNOSIS                    1482 non-null   object  \n",
            " 1   INITIALPCRDIAGNOSIS          104 non-null    object  \n",
            " 2   AGE                          1482 non-null   float64 \n",
            " 3   SEX                          1482 non-null   object  \n",
            " 4   NEUTROPHIL                   103 non-null    float64 \n",
            " 5   SERUMLEVELSOFWHITEBLOODCELL  151 non-null    float64 \n",
            " 6   LYMPHOCYTES                  156 non-null    float64 \n",
            " 7   CREACTIVEPROTEINLEVELS       136 non-null    float64 \n",
            " 8   CTSCANRESULTS                159 non-null    object  \n",
            " 9   RISKFACTORS                  209 non-null    object  \n",
            " 10  GROUNDGLASSOPACITY           93 non-null     object  \n",
            " 11  DIARRHEA                     450 non-null    object  \n",
            " 12  FEVER                        923 non-null    object  \n",
            " 13  COUGHING                     859 non-null    object  \n",
            " 14  SORETHROAT                   670 non-null    object  \n",
            " 15  NAUSEAVOMITTING              421 non-null    object  \n",
            " 16  TEMPERATURE                  628 non-null    float64 \n",
            " 17  FATIGUE                      531 non-null    object  \n",
            " 18  New_INITIAL_BOOL             1482 non-null   int64   \n",
            " 19  NEW_AGE_CAT                  1482 non-null   object  \n",
            " 20  NEW_SEX_CAT                  1482 non-null   object  \n",
            " 21  AGE_GROUP                    1444 non-null   category\n",
            "dtypes: category(1), float64(6), int64(1), object(14)\n",
            "memory usage: 244.9+ KB\n"
          ]
        }
      ]
    },
    {
      "cell_type": "code",
      "source": [
        "df.head()"
      ],
      "metadata": {
        "colab": {
          "base_uri": "https://localhost:8080/",
          "height": 226
        },
        "id": "KI0vLzpUglFP",
        "outputId": "f2b75893-e908-4c67-ecfc-cf3150a324a5"
      },
      "execution_count": 314,
      "outputs": [
        {
          "output_type": "execute_result",
          "data": {
            "text/plain": [
              "  DIAGNOSIS INITIALPCRDIAGNOSIS    AGE SEX  NEUTROPHIL  SERUMLEVELSOFWHITEBLOODCELL  LYMPHOCYTES  CREACTIVEPROTEINLEVELS CTSCANRESULTS RISKFACTORS GROUNDGLASSOPACITY DIARRHEA FEVER COUGHING SORETHROAT NAUSEAVOMITTING  TEMPERATURE FATIGUE  New_INITIAL_BOOL NEW_AGE_CAT   NEW_SEX_CAT\n",
              "0      H1N1                 NaN 67.000   F         NaN                          NaN          NaN                     NaN           NaN         NaN                NaN      NaN   Yes      Yes         No             NaN       38.111      No                 0      senior  seniorfemale\n",
              "1      H1N1                 NaN 29.000   M         NaN                          NaN          NaN                     NaN           NaN         NaN                NaN      NaN   NaN      NaN        NaN             NaN          NaN     NaN                 0      mature    maturemale\n",
              "2      H1N1                 NaN 22.000   F         NaN                          NaN          NaN                     NaN           NaN         NaN                NaN      NaN   NaN      NaN        NaN             NaN          NaN     NaN                 0      mature  maturefemale\n",
              "3      H1N1                 NaN 20.000   F         NaN                          NaN          NaN                     NaN           NaN      immuno                NaN      NaN   Yes      Yes         No             NaN       36.556     Yes                 0      mature  maturefemale\n",
              "4      H1N1                 NaN 21.000   M         NaN                          NaN          NaN                     NaN           NaN         NaN                NaN      NaN   NaN      NaN        NaN             NaN          NaN     NaN                 0      mature    maturemale"
            ],
            "text/html": [
              "\n",
              "  <div id=\"df-1fd9a57e-f4be-44b8-b3d2-0f776e816811\" class=\"colab-df-container\">\n",
              "    <div>\n",
              "<style scoped>\n",
              "    .dataframe tbody tr th:only-of-type {\n",
              "        vertical-align: middle;\n",
              "    }\n",
              "\n",
              "    .dataframe tbody tr th {\n",
              "        vertical-align: top;\n",
              "    }\n",
              "\n",
              "    .dataframe thead th {\n",
              "        text-align: right;\n",
              "    }\n",
              "</style>\n",
              "<table border=\"1\" class=\"dataframe\">\n",
              "  <thead>\n",
              "    <tr style=\"text-align: right;\">\n",
              "      <th></th>\n",
              "      <th>DIAGNOSIS</th>\n",
              "      <th>INITIALPCRDIAGNOSIS</th>\n",
              "      <th>AGE</th>\n",
              "      <th>SEX</th>\n",
              "      <th>NEUTROPHIL</th>\n",
              "      <th>SERUMLEVELSOFWHITEBLOODCELL</th>\n",
              "      <th>LYMPHOCYTES</th>\n",
              "      <th>CREACTIVEPROTEINLEVELS</th>\n",
              "      <th>CTSCANRESULTS</th>\n",
              "      <th>RISKFACTORS</th>\n",
              "      <th>GROUNDGLASSOPACITY</th>\n",
              "      <th>DIARRHEA</th>\n",
              "      <th>FEVER</th>\n",
              "      <th>COUGHING</th>\n",
              "      <th>SORETHROAT</th>\n",
              "      <th>NAUSEAVOMITTING</th>\n",
              "      <th>TEMPERATURE</th>\n",
              "      <th>FATIGUE</th>\n",
              "      <th>New_INITIAL_BOOL</th>\n",
              "      <th>NEW_AGE_CAT</th>\n",
              "      <th>NEW_SEX_CAT</th>\n",
              "    </tr>\n",
              "  </thead>\n",
              "  <tbody>\n",
              "    <tr>\n",
              "      <th>0</th>\n",
              "      <td>H1N1</td>\n",
              "      <td>NaN</td>\n",
              "      <td>67.000</td>\n",
              "      <td>F</td>\n",
              "      <td>NaN</td>\n",
              "      <td>NaN</td>\n",
              "      <td>NaN</td>\n",
              "      <td>NaN</td>\n",
              "      <td>NaN</td>\n",
              "      <td>NaN</td>\n",
              "      <td>NaN</td>\n",
              "      <td>NaN</td>\n",
              "      <td>Yes</td>\n",
              "      <td>Yes</td>\n",
              "      <td>No</td>\n",
              "      <td>NaN</td>\n",
              "      <td>38.111</td>\n",
              "      <td>No</td>\n",
              "      <td>0</td>\n",
              "      <td>senior</td>\n",
              "      <td>seniorfemale</td>\n",
              "    </tr>\n",
              "    <tr>\n",
              "      <th>1</th>\n",
              "      <td>H1N1</td>\n",
              "      <td>NaN</td>\n",
              "      <td>29.000</td>\n",
              "      <td>M</td>\n",
              "      <td>NaN</td>\n",
              "      <td>NaN</td>\n",
              "      <td>NaN</td>\n",
              "      <td>NaN</td>\n",
              "      <td>NaN</td>\n",
              "      <td>NaN</td>\n",
              "      <td>NaN</td>\n",
              "      <td>NaN</td>\n",
              "      <td>NaN</td>\n",
              "      <td>NaN</td>\n",
              "      <td>NaN</td>\n",
              "      <td>NaN</td>\n",
              "      <td>NaN</td>\n",
              "      <td>NaN</td>\n",
              "      <td>0</td>\n",
              "      <td>mature</td>\n",
              "      <td>maturemale</td>\n",
              "    </tr>\n",
              "    <tr>\n",
              "      <th>2</th>\n",
              "      <td>H1N1</td>\n",
              "      <td>NaN</td>\n",
              "      <td>22.000</td>\n",
              "      <td>F</td>\n",
              "      <td>NaN</td>\n",
              "      <td>NaN</td>\n",
              "      <td>NaN</td>\n",
              "      <td>NaN</td>\n",
              "      <td>NaN</td>\n",
              "      <td>NaN</td>\n",
              "      <td>NaN</td>\n",
              "      <td>NaN</td>\n",
              "      <td>NaN</td>\n",
              "      <td>NaN</td>\n",
              "      <td>NaN</td>\n",
              "      <td>NaN</td>\n",
              "      <td>NaN</td>\n",
              "      <td>NaN</td>\n",
              "      <td>0</td>\n",
              "      <td>mature</td>\n",
              "      <td>maturefemale</td>\n",
              "    </tr>\n",
              "    <tr>\n",
              "      <th>3</th>\n",
              "      <td>H1N1</td>\n",
              "      <td>NaN</td>\n",
              "      <td>20.000</td>\n",
              "      <td>F</td>\n",
              "      <td>NaN</td>\n",
              "      <td>NaN</td>\n",
              "      <td>NaN</td>\n",
              "      <td>NaN</td>\n",
              "      <td>NaN</td>\n",
              "      <td>immuno</td>\n",
              "      <td>NaN</td>\n",
              "      <td>NaN</td>\n",
              "      <td>Yes</td>\n",
              "      <td>Yes</td>\n",
              "      <td>No</td>\n",
              "      <td>NaN</td>\n",
              "      <td>36.556</td>\n",
              "      <td>Yes</td>\n",
              "      <td>0</td>\n",
              "      <td>mature</td>\n",
              "      <td>maturefemale</td>\n",
              "    </tr>\n",
              "    <tr>\n",
              "      <th>4</th>\n",
              "      <td>H1N1</td>\n",
              "      <td>NaN</td>\n",
              "      <td>21.000</td>\n",
              "      <td>M</td>\n",
              "      <td>NaN</td>\n",
              "      <td>NaN</td>\n",
              "      <td>NaN</td>\n",
              "      <td>NaN</td>\n",
              "      <td>NaN</td>\n",
              "      <td>NaN</td>\n",
              "      <td>NaN</td>\n",
              "      <td>NaN</td>\n",
              "      <td>NaN</td>\n",
              "      <td>NaN</td>\n",
              "      <td>NaN</td>\n",
              "      <td>NaN</td>\n",
              "      <td>NaN</td>\n",
              "      <td>NaN</td>\n",
              "      <td>0</td>\n",
              "      <td>mature</td>\n",
              "      <td>maturemale</td>\n",
              "    </tr>\n",
              "  </tbody>\n",
              "</table>\n",
              "</div>\n",
              "    <div class=\"colab-df-buttons\">\n",
              "\n",
              "  <div class=\"colab-df-container\">\n",
              "    <button class=\"colab-df-convert\" onclick=\"convertToInteractive('df-1fd9a57e-f4be-44b8-b3d2-0f776e816811')\"\n",
              "            title=\"Convert this dataframe to an interactive table.\"\n",
              "            style=\"display:none;\">\n",
              "\n",
              "  <svg xmlns=\"http://www.w3.org/2000/svg\" height=\"24px\" viewBox=\"0 -960 960 960\">\n",
              "    <path d=\"M120-120v-720h720v720H120Zm60-500h600v-160H180v160Zm220 220h160v-160H400v160Zm0 220h160v-160H400v160ZM180-400h160v-160H180v160Zm440 0h160v-160H620v160ZM180-180h160v-160H180v160Zm440 0h160v-160H620v160Z\"/>\n",
              "  </svg>\n",
              "    </button>\n",
              "\n",
              "  <style>\n",
              "    .colab-df-container {\n",
              "      display:flex;\n",
              "      gap: 12px;\n",
              "    }\n",
              "\n",
              "    .colab-df-convert {\n",
              "      background-color: #E8F0FE;\n",
              "      border: none;\n",
              "      border-radius: 50%;\n",
              "      cursor: pointer;\n",
              "      display: none;\n",
              "      fill: #1967D2;\n",
              "      height: 32px;\n",
              "      padding: 0 0 0 0;\n",
              "      width: 32px;\n",
              "    }\n",
              "\n",
              "    .colab-df-convert:hover {\n",
              "      background-color: #E2EBFA;\n",
              "      box-shadow: 0px 1px 2px rgba(60, 64, 67, 0.3), 0px 1px 3px 1px rgba(60, 64, 67, 0.15);\n",
              "      fill: #174EA6;\n",
              "    }\n",
              "\n",
              "    .colab-df-buttons div {\n",
              "      margin-bottom: 4px;\n",
              "    }\n",
              "\n",
              "    [theme=dark] .colab-df-convert {\n",
              "      background-color: #3B4455;\n",
              "      fill: #D2E3FC;\n",
              "    }\n",
              "\n",
              "    [theme=dark] .colab-df-convert:hover {\n",
              "      background-color: #434B5C;\n",
              "      box-shadow: 0px 1px 3px 1px rgba(0, 0, 0, 0.15);\n",
              "      filter: drop-shadow(0px 1px 2px rgba(0, 0, 0, 0.3));\n",
              "      fill: #FFFFFF;\n",
              "    }\n",
              "  </style>\n",
              "\n",
              "    <script>\n",
              "      const buttonEl =\n",
              "        document.querySelector('#df-1fd9a57e-f4be-44b8-b3d2-0f776e816811 button.colab-df-convert');\n",
              "      buttonEl.style.display =\n",
              "        google.colab.kernel.accessAllowed ? 'block' : 'none';\n",
              "\n",
              "      async function convertToInteractive(key) {\n",
              "        const element = document.querySelector('#df-1fd9a57e-f4be-44b8-b3d2-0f776e816811');\n",
              "        const dataTable =\n",
              "          await google.colab.kernel.invokeFunction('convertToInteractive',\n",
              "                                                    [key], {});\n",
              "        if (!dataTable) return;\n",
              "\n",
              "        const docLinkHtml = 'Like what you see? Visit the ' +\n",
              "          '<a target=\"_blank\" href=https://colab.research.google.com/notebooks/data_table.ipynb>data table notebook</a>'\n",
              "          + ' to learn more about interactive tables.';\n",
              "        element.innerHTML = '';\n",
              "        dataTable['output_type'] = 'display_data';\n",
              "        await google.colab.output.renderOutput(dataTable, element);\n",
              "        const docLink = document.createElement('div');\n",
              "        docLink.innerHTML = docLinkHtml;\n",
              "        element.appendChild(docLink);\n",
              "      }\n",
              "    </script>\n",
              "  </div>\n",
              "\n",
              "\n",
              "    <div id=\"df-87ba3202-428f-4771-badd-82da89182d14\">\n",
              "      <button class=\"colab-df-quickchart\" onclick=\"quickchart('df-87ba3202-428f-4771-badd-82da89182d14')\"\n",
              "                title=\"Suggest charts\"\n",
              "                style=\"display:none;\">\n",
              "\n",
              "<svg xmlns=\"http://www.w3.org/2000/svg\" height=\"24px\"viewBox=\"0 0 24 24\"\n",
              "     width=\"24px\">\n",
              "    <g>\n",
              "        <path d=\"M19 3H5c-1.1 0-2 .9-2 2v14c0 1.1.9 2 2 2h14c1.1 0 2-.9 2-2V5c0-1.1-.9-2-2-2zM9 17H7v-7h2v7zm4 0h-2V7h2v10zm4 0h-2v-4h2v4z\"/>\n",
              "    </g>\n",
              "</svg>\n",
              "      </button>\n",
              "\n",
              "<style>\n",
              "  .colab-df-quickchart {\n",
              "      --bg-color: #E8F0FE;\n",
              "      --fill-color: #1967D2;\n",
              "      --hover-bg-color: #E2EBFA;\n",
              "      --hover-fill-color: #174EA6;\n",
              "      --disabled-fill-color: #AAA;\n",
              "      --disabled-bg-color: #DDD;\n",
              "  }\n",
              "\n",
              "  [theme=dark] .colab-df-quickchart {\n",
              "      --bg-color: #3B4455;\n",
              "      --fill-color: #D2E3FC;\n",
              "      --hover-bg-color: #434B5C;\n",
              "      --hover-fill-color: #FFFFFF;\n",
              "      --disabled-bg-color: #3B4455;\n",
              "      --disabled-fill-color: #666;\n",
              "  }\n",
              "\n",
              "  .colab-df-quickchart {\n",
              "    background-color: var(--bg-color);\n",
              "    border: none;\n",
              "    border-radius: 50%;\n",
              "    cursor: pointer;\n",
              "    display: none;\n",
              "    fill: var(--fill-color);\n",
              "    height: 32px;\n",
              "    padding: 0;\n",
              "    width: 32px;\n",
              "  }\n",
              "\n",
              "  .colab-df-quickchart:hover {\n",
              "    background-color: var(--hover-bg-color);\n",
              "    box-shadow: 0 1px 2px rgba(60, 64, 67, 0.3), 0 1px 3px 1px rgba(60, 64, 67, 0.15);\n",
              "    fill: var(--button-hover-fill-color);\n",
              "  }\n",
              "\n",
              "  .colab-df-quickchart-complete:disabled,\n",
              "  .colab-df-quickchart-complete:disabled:hover {\n",
              "    background-color: var(--disabled-bg-color);\n",
              "    fill: var(--disabled-fill-color);\n",
              "    box-shadow: none;\n",
              "  }\n",
              "\n",
              "  .colab-df-spinner {\n",
              "    border: 2px solid var(--fill-color);\n",
              "    border-color: transparent;\n",
              "    border-bottom-color: var(--fill-color);\n",
              "    animation:\n",
              "      spin 1s steps(1) infinite;\n",
              "  }\n",
              "\n",
              "  @keyframes spin {\n",
              "    0% {\n",
              "      border-color: transparent;\n",
              "      border-bottom-color: var(--fill-color);\n",
              "      border-left-color: var(--fill-color);\n",
              "    }\n",
              "    20% {\n",
              "      border-color: transparent;\n",
              "      border-left-color: var(--fill-color);\n",
              "      border-top-color: var(--fill-color);\n",
              "    }\n",
              "    30% {\n",
              "      border-color: transparent;\n",
              "      border-left-color: var(--fill-color);\n",
              "      border-top-color: var(--fill-color);\n",
              "      border-right-color: var(--fill-color);\n",
              "    }\n",
              "    40% {\n",
              "      border-color: transparent;\n",
              "      border-right-color: var(--fill-color);\n",
              "      border-top-color: var(--fill-color);\n",
              "    }\n",
              "    60% {\n",
              "      border-color: transparent;\n",
              "      border-right-color: var(--fill-color);\n",
              "    }\n",
              "    80% {\n",
              "      border-color: transparent;\n",
              "      border-right-color: var(--fill-color);\n",
              "      border-bottom-color: var(--fill-color);\n",
              "    }\n",
              "    90% {\n",
              "      border-color: transparent;\n",
              "      border-bottom-color: var(--fill-color);\n",
              "    }\n",
              "  }\n",
              "</style>\n",
              "\n",
              "      <script>\n",
              "        async function quickchart(key) {\n",
              "          const quickchartButtonEl =\n",
              "            document.querySelector('#' + key + ' button');\n",
              "          quickchartButtonEl.disabled = true;  // To prevent multiple clicks.\n",
              "          quickchartButtonEl.classList.add('colab-df-spinner');\n",
              "          try {\n",
              "            const charts = await google.colab.kernel.invokeFunction(\n",
              "                'suggestCharts', [key], {});\n",
              "          } catch (error) {\n",
              "            console.error('Error during call to suggestCharts:', error);\n",
              "          }\n",
              "          quickchartButtonEl.classList.remove('colab-df-spinner');\n",
              "          quickchartButtonEl.classList.add('colab-df-quickchart-complete');\n",
              "        }\n",
              "        (() => {\n",
              "          let quickchartButtonEl =\n",
              "            document.querySelector('#df-87ba3202-428f-4771-badd-82da89182d14 button');\n",
              "          quickchartButtonEl.style.display =\n",
              "            google.colab.kernel.accessAllowed ? 'block' : 'none';\n",
              "        })();\n",
              "      </script>\n",
              "    </div>\n",
              "\n",
              "    </div>\n",
              "  </div>\n"
            ],
            "application/vnd.google.colaboratory.intrinsic+json": {
              "type": "dataframe",
              "variable_name": "df"
            }
          },
          "metadata": {},
          "execution_count": 314
        }
      ]
    },
    {
      "cell_type": "code",
      "source": [
        "cat_cols = [col for col in cat_cols if \"SHORTNESSOFBREATH\" not in col]"
      ],
      "metadata": {
        "id": "lhCYpq8liG4K"
      },
      "execution_count": 305,
      "outputs": []
    },
    {
      "cell_type": "code",
      "source": [
        "df.drop(\"AGE_GROUP\", inplace=True, axis=1)"
      ],
      "metadata": {
        "id": "im9SbF3RiQ_U"
      },
      "execution_count": 306,
      "outputs": []
    },
    {
      "cell_type": "code",
      "source": [
        "# prompt: Accuracy evaluation\n",
        "\n",
        "# Assuming 'y' is your target variable and 'X' is your feature matrix\n",
        "#  and you have already trained a model, e.g., 'model'\n",
        "\n",
        "# Example: Split data into training and testing sets\n",
        "X = df.drop(cat_cols, axis=1)\n",
        "y = df[\"DIAGNOSIS\"]\n",
        "X_train, X_test, y_train, y_test = train_test_split(X, y, test_size=0.2, random_state=42)\n",
        "\n",
        "\n",
        "# Assuming 'model' is your trained classifier\n",
        "# Example: Using a RandomForestClassifier\n",
        "model = RandomForestClassifier(random_state=42)  # You should replace this with your actual model\n",
        "\n",
        "#Preprocessing\n",
        "def label_encode_columns(dataframe, columns):\n",
        "    le = LabelEncoder()\n",
        "    for col in columns:\n",
        "        if dataframe[col].dtype == 'object':\n",
        "          dataframe[col] = le.fit_transform(dataframe[col])\n",
        "    return dataframe\n",
        "\n",
        "categorical_cols = [col for col in X_train.columns if X_train[col].dtype == 'object']\n",
        "\n",
        "X_train = label_encode_columns(X_train, categorical_cols)\n",
        "X_test = label_encode_columns(X_test, categorical_cols)\n",
        "\n",
        "\n",
        "model.fit(X_train, y_train)\n",
        "y_pred = model.predict(X_test)\n",
        "\n",
        "accuracy = accuracy_score(y_test, y_pred)\n",
        "print(f\"Accuracy: {accuracy}\")\n"
      ],
      "metadata": {
        "colab": {
          "base_uri": "https://localhost:8080/"
        },
        "id": "oHqVIFImgXH0",
        "outputId": "2f5179ff-e5c5-4e7e-c3fa-cf2b0447b13d"
      },
      "execution_count": 311,
      "outputs": [
        {
          "output_type": "stream",
          "name": "stdout",
          "text": [
            "Accuracy: 0.30303030303030304\n"
          ]
        }
      ]
    },
    {
      "cell_type": "code",
      "source": [
        "print(\"\\nEvaluasi Model\")\n",
        "print(\"Akurasi  :\", accuracy_score(y_test, y_pred))\n",
        "print(\"Presisi  :\", precision_score(y_test, y_pred, pos_label='COVID19'))  # Specify pos_label for precision\n",
        "print(\"Recall   :\", recall_score(y_test, y_pred, pos_label='COVID19'))  # Specify pos_label for recall\n",
        "print(\"F1 Score :\", f1_score(y_test, y_pred, pos_label='COVID19'))  # Specify pos_label for F1-score\n",
        "\n",
        "# Convert predictions to probabilities for ROC AUC calculation if necessary\n",
        "y_prob = model.predict_proba(X_test)[:, 1]  # Assuming 'COVID19' is the positive class (index 1)\n",
        "\n",
        "print(\"AUC ROC  :\", roc_auc_score(y_test, y_prob))"
      ],
      "metadata": {
        "colab": {
          "base_uri": "https://localhost:8080/"
        },
        "id": "PL8tCaWFinJB",
        "outputId": "02831036-41e2-4244-f03a-3df424cdff03"
      },
      "execution_count": 317,
      "outputs": [
        {
          "output_type": "stream",
          "name": "stdout",
          "text": [
            "\n",
            "Evaluasi Model\n",
            "Akurasi  : 0.30303030303030304\n",
            "Presisi  : 0.30303030303030304\n",
            "Recall   : 1.0\n",
            "F1 Score : 0.46511627906976744\n",
            "AUC ROC  : 0.8195652173913043\n"
          ]
        }
      ]
    },
    {
      "cell_type": "markdown",
      "source": [
        "![image.png](data:image/png;base64,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)"
      ],
      "metadata": {
        "id": "UKh3U5HPkT-o"
      }
    },
    {
      "cell_type": "markdown",
      "source": [
        "![image.png](data:image/png;base64,iVBORw0KGgoAAAANSUhEUgAAAowAAAC5CAYAAACiG27hAAAAAXNSR0IArs4c6QAAAARnQU1BAACxjwv8YQUAAAAJcEhZcwAADsMAAA7DAcdvqGQAAEMESURBVHhe7d13WBTX/j/wN7AsZRFFBDFWmhWBKBYs4SbYktg2xhKu0atR1PwUNWhysZtGNIIxmkSNJcZyLfGLUWM3CbGgYgG8NqoVUVFQWWGXZff3R2AuM7usu4gl5P16nn0eOefM7MzsObsfz5xzxsrT01MPIiIiIqIKWEsTiIiIiIjKY8BIRERERCYxYCQiIiIikxgwEhEREZFJDBiJiIiIyCQGjERERERkEgNGIiIiIjKJASMRERERmcSAkYiIiIhMYsBIRERERCYxYCQiIiIikxgwEhEREZFJDBiJiIiIyCQGjERERERkEgNGIiIiIjKJASMRERERmcSAkYiIiIhMsvL09NRLE58FuasTHBq7SpMtZi2zhq5Yj/tnLkuziIiIiKgKPPOA0bFRbTT4Vxc4NnGFbQ07abbFrK2tIZPZAACurD2G6z8lSosQERER0RN45gGj54w+qNGgNpzqOcPOxVGabTErKyvY2spgLbNBUf4jnPjXCqiu50mLEREREVElPfMxjFpNCUpKSqAt1qJYU/zkL3UxiouLUaLVokSng1t3P+lb0lMSERGBM2fOICMjAwkJCRg4cKC0iFmqaj9ERET0dDzzgFGvB3RVGDBqNBpoCjV/Bo4aLXR6nfQtzTZq1Cj88ssvOHfuHDIzM5GZmYlz585h69at6Nq1q7R4pSiVSqSkpAj7l77S0tJw6tQprFmzBj169JBu/sLw9PRE//79UbNmTVhZWaFu3bp49913pcUeq6r2Q0RERE/PMw8YAQBlN8H1VfPS6/VCr6VWrZW82eN5enpiy5YtiIqKQosWLeDg4CDkOTg44OWXX8bixYsRFhYm2u5psLGxgYuLC7p27YpFixbhs88+kxZ5Yeh0lQ/Oy6uq/RAREdHT8XwCxheMh4cH6tevDwDIzc3F3r17ERcXh99//x0FBQUAAGdnZ4wcORKenp6SrZ8eOzs79OvXD8OHD5dmPXdZWVnYvHkz8vLyoNfrcevWLaxdu1Za7LGqaj9ERET09DyfgFHoHdRX+mVnJcM/a4Wgs0Pz0rRy+6uEwsJCrF27Fq+++irGjRuHyMhIjBw5EvPmzcPDhw+B0sCyqm5NlykoKEBkZCS8vLwwYsQIHD16FCUlJUK+o6MjXn/9ddE2L4rly5ejbdu28Pb2RnBwMLZs2SItYpaq2g8RERE9Hc8nYHxCDtZy/Nvtbbzu1AbjXF+Hs/X/biFXRk5ODmbPno05c+ZApVKJ8rZt24bbt28DAGQyGVxdn3ztyIrEx8djzJgxSElJEaW/9NJL8Pf3F6URERERPSvPL2A0MhbRnJeDlRxRbgPhK68HADhbeAUPSgr/zK+krKwsHD58WJoMAFCpVM90jJ1KpUJqaqooTSaTQaFQGEyYOXr0KIYMGYJdu3YhLS0NFy9exIQJE4TtFAoFpkyZgvj4eKSmpgqTao4dO4bo6Gh4eHiI3qeMj48PYmJicOLECWG7zMxMnD9/Hjt27EBwcDAAYO3ataIJO9HR0aL9GJtEdPHiRRw6dAhTpkwRyj1uP6jgmDIyMnD27FnExcVBqVRKNzF6vbp27YoFCxYIs7IzMjJw/PhxTJw4Ubo5ERERlXouAaORONCsl6O1Haa7D4KXvC4A4ELRNSzI3SbkPw0hISFwcXEBAKjValy9elVa5LmxtbXFxIkT0bx5c9jY/Ll4uUwmA0oDrHXr1mHcuHFo2LChkG5jYwN3d3cMHjwYq1atQmBgoGif4eHh2LJlC5RKJerUqSNsBwD29vZo3LhxhYFmeQsWLMBHH31kMIlILpejfv36CAgIEJU3Zfjw4di8ebPBMVlZWUGhUCAgIADz5s1DTEwMFAqFdHOBlZUVIiIioFQqhVnZVlZWcHNzw9ixYxEZGSndhIiIiJ5PwCgNA8171bC2x8y6Q9BE7g6U9ix+cWcrtHqtpGzV6tevH2rXrg0AuHPnDk6fPi0tUqUUCgX8/MRrST548MDgNjUAuLi4wN39z+tRnkKhwOeff46AgABYWVlJswXNmjXD5MmThb/DwsLw/vvvo2bNmqJylho6dCh69uwpBLFPYuDAgZg0aRJq1aolzRKRyWTo27cvpk6dKs0SuLm5oU2bNkaviZ2dHV5//fVnOqmJiIjor+LZB4zlYrua1o74pO5QTHDtDTsrW2mMKLxqWDlgRt3BaGj75/jB5EdZ+PL2/0GrKxHHiVUcM86ZMwevv/46rK2toVarsWPHDmRlZUmLVZmQkBAsW7YMzZs3F9J0Oh0SExMNxlai9LGIBQUFiI2NhZeXF6KionDy5EmEh4eLxjzeu3cP8+bNg5eXF2bNmoXc3FygtMetdevWeOONN6BQKDBo0CA4OzsL2xUUFGDdunXo0aMHWrdujblz5yIzM1M0KceYVq1aiXr6UlJS0L9/f3h5eWHSpEn49ddf8ejRI9E2FRkwYIAogL137x5iY2PRunVrjBgxAidPnoS+dKKTjY0NQkNDDXpNy1hbW+PKlSuIiIjAW2+9hcTERGFbAKhduzZatGgh2oaIiIieR8BYTiv7RvCyq4uOimaY5j4I9ta20iKoZaPAHI8wNCgNFk89SkfMnW0owdMbV6hQKLBkyRKEhYXBzs4OJSUl+OWXX7Bo0SJp0Sfm5OSEmJgYZGZmYvXq1ejUqZOoZy41NRVr1qwRbVOmuLgYmzZtwpIlSwAAcXFxOHToENq0aQO5XC6U2bx5M5YtWwYAWLduHY4dOybsw9HREd7e3ujVq5eod02tVmPlypWYNWsW0tPToVKpsGbNGvTv3x/bt28XypnD09NTCEq3b9+OUaNGYcyYMdJiBkJDQ+Hl5SX8XXZMS5YsgUqlQnx8PD7//HNkZ2cLZdzc3PDqq68Kf5dXNhN+586dSEpKwvr16/HgwQMhXyaTwc7uyZ9vTkREVN08v4BRD5xQpeF80XUAgI+dB6a5D4KDlVzoKXSxdsIMj8HwsP3zdmTiozR8dXs7SvQ6g17IqupdLBv79/rrr0Mmk0Gr1WL79u2YPXu2tOhTpdfrkZqairlz5yI9PV2aDZROkElKShKlKRQK0RhDW1tbjB07VjSppHfv3qJtZDIZGjduLAqWbt68aXFgWObcuXOiHtEaNWogPDwcJ0+exNatW81+gk39+vXh6Pi/543fv38fZ8+eFZVJSkpCTk6O8LdcLjd6mx6l21+8eFH4+86dOygsLBT+lsvlaNCggfA3ERER/en5BYzQQ6vXYv6tn3Ch6BoAwNvOAzM8BsPB2hZ1ZDUwu947qCf7c8JJ4qM0fH17O3TQGYkSy0eLlY8aO3TogG+//VYY+1dQUIClS5ciMjLS6C3hp6GoqAiZmZn47rvvMGDAABw/flxaRFBUVIS8vDxRmr+/v8mJHxVxc3MTeiVR2jNZ2dvv69atw86dO6HRaETpdnZ2ePnll/HVV1+ZFYC7urqKJt3odDqjt8OLioqkSZVW/v2IiIjoT88tYCwL8TR6LaJv/YRzhX/OPm4id8cMjyGYUy8MbrI/x9MdU136s2cReoMQUdqxWNlw0cfHB7Nnz4aPjw9Q2sM2a9YsxMbGSotWqfILd3t5eaFly5bo1q0bFixYUKkgVaVSQav93+MRNRoNFi9eLOxf+mrevDkWLlwItVotWj7I2tq6UoFnmaioKERERODw4cMG52Fvb49+/foZ9HRK3b17V3QuFbG3txf+rdfrn+kySERERH8HzydglER7Wl0J5t3aivOlPY1N5O5wsXECABwtuIjFt3f+OTlBGiVW9KqEmTNnolmzZgCA9PR0fPDBB9i2bZu02AsvJSUF+fn5wt9yuRytWrUSlTEmOztb1CNYr149vP3226Iyltq3bx+GDRuGjh07IjY2Fvfu3RPyHB0d4evrKyovdePGDdHkGBcXF4MJLSEhIWjcuLHwt1qtxpUrV0RliIiI6Mk8n4DRCK2+BF/k/ISzhf/7sT9acBFL7uws7Vd8eoYOHSost5Kbm4sFCxaYvBX8oktOThb1sr3yyitYsWIFQkJCgNLe1PHjx2PHjh3CQt/Hjh3DrVu3hG0cHR0xadIkzJgxAz4+PvDw8MD777+PHTt2oG/fvkI5Yz7++GPs3bsX48ePh4+PD1QqFRITE0VjDc1x8OBBZGZmCn/b2dlh2LBhGD58OBQKBXr06IGpU6eKnr5z69Yt0aQeIiIienLPKWAs7QqUPB9aq9Ni/s2fsO7ub1iVux9Lbu8wKGP8VbbLygWWAQEBwu3XkpIS9OzZEzExMUZf4eHhwnafffYZLly4gIsXL2L+/Pnl9vh87dq1SxScyWQyvPbaa1i9ejUyMzOxb98+fPDBB/D19RXG7KWkpGDnzp1Qq9XCdjVr1sTIkSOxb98+HD16FFOmTEHjxo0fu76ira0tfH198cEHH2Dfvn3IzMzEf/7zH7Rs2VIo8+DBA7PWtNy+fbtoJnPdunUxe/ZsnD17FkuXLkXLli2FdRXVajV27txpdM1KIiIiqrxnHzA+5rZxCXTYdf8kDjwQz/59msrPKq5bty6USmWFr65duwplg4KCYGdnB7lcjs6dO6Ndu3ZC3vOUkJCARYsWCestmismJgYbN26s0kkkxhQVFWHjxo2Ij4+XZhnYsGEDVq1ahYcPH0qzRMr2GRMTI80iIiKiJ/TMA0a9Xo8STQl0mr/+xISTJ09CrVZDo9HgyJEjSExMlBZ5brZs2YLw8HDs2LEDubm5otnFZTOxf/jhB/znP/8RbTd37lyMGTMGiYmJePjwobCwdUlJCfLy8vDHH38YLG0jlZycjAsXLqCgoMBg+0OHDmHMmDEWTSb6+uuvMXz4cOzatQt5eXnCuej1ejx8+BCHDx/GmDFjMHfuXOmmREREVAWsPD09TfT3Vb2XJvaEvYsD7Gs7Qu7iCBv7J1/GRCazgUwuQ9H9QlzbdBK3f378rU4iIiIiMs8zDxjrRXSHrZ0ctjXksK1hBxs7GaysDZ/tawlrmQ1sZNbQqDS4+t2vePjf/z35g4iIiIiezDMPGN3f6QiZmzNs5DLY2NnAWmYD2DxhwGhtBStraxTnPsTl2L3SbCIiIiJ6As88YAQAee0aqPmKL2xqOVZ6ZnN5ViU6PEzMQsEly5ZtISIiIqLHey4BIxERERH9dTzzWdJERERE9NfCgJGIiIiITGLASEREREQmMWAkIiIiIpMYMBIRERGRSQwYiYiIiMgkBoxEREREZBIDRiIiIiIyiQEjEREREZnEgJGIiIiITGLASEREREQmMWAkIiIiIpMYMBIRERGRSQwYiYiIiMgkBoxEREREZBIDRiIiIiIyiQEjEREREZnEgJGIiIiITGLASEREREQmMWAkIiIiIpMYMBIRERGRSQwYiYiIiMgkBoxEREREZBIDRiIiIiIyiQEjEREREZnEgJGIiIiITHphA8a1a9ciJSUFSqVSmkXl8Dr9T3W8FtXpnCZPnoyLFy9i7dq1QtrSpUtx8eJFREdHC2nR0dG4ePEiJk+eLKRVRnh4OM6ePYsdO3bA09NTmv3CUCgUiIuLw7lz5zBhwgRptoGKzkuhUCA2Nhbnzp1DZmYm1qxZI9quOlEqlUhJSRHVpeqqqtoDGWfsO6giptpq//79cfDgQWRkZCA5ORl9+/YV5VcHTz1gjI6ORmZmpskPozr9KBKR+ezs7KRJVcbOzg7W1k/9K+6Jubu7QyaTSZMrVNF5TZ06FX369MHdu3exa9cuZGdnS4sQkYQl30EVtdXAwEBMnjwZ9evXx+HDh5GYmIiioiJpsb88w28dIqJnZMSIEWjevDmioqKkWU9s8eLFaNWqFfr06YOsrCxp9gsjKysLffr0QatWrbB48WIhPSIiAocPHzboyajovNq3b49Hjx5h0aJFGD9+/FO5pkTVjbHvIH9/f2zevBnbtm0Tla2orXbt2hV169ZFYmIihg8fjlGjRmHfvn2ibasDBoxERC+gevXqoU6dOkZ7NKT8/f3h5OQElUrFnkWiJ6RQKNCgQQM4ODhIs4xydXWFTCbD9evXpVnVCgNGIqK/OIVCYVZgSURVr6JhItXNX+oMIyMjceHCBZw4cQIDBw4EAOzduxdHjx5FcHCwqKyxQdFlg4dnzJiBbdu2IS0tTdhWoVBg+vTpOHbsGNLS0pCZmYmzZ88iNjYWCoXC6H7HjBmDhIQEZGRkIC0tDfv370e3bt2EshXx8fHBihUrkJycjIyMDGRkZCAhIQH//Oc/ReWioqJw/Phxoczx48crvM3k4OCAFStW4OzZs8jMzMSFCxewdetWdOjQQVoU/fv3x65du5Camiqc54oVK+Dj4yOUqepr9d577+GPP/5AWlpahedi7n4fx9xr0bVrV2zdulWYJJCWloaDBw+if//+Qpng4GAcPXoUe/fuxaBBg3Dw4EHhHI4ePSp8Zp6enjhw4ADOnz+P8PDwcu/ypw8//BCXLl3CihUrADPfuyLG2oExll5/U585zKw3AODh4YGYmBicOXNGaBu7du1CrVq1ROVgwYD+sLAwJCUlISUlBREREYAZ7cjYd0BFysZRh4WFmVV3AGDMmDGIj48Xrkdqairi4+Px3nvvSYsiKirKoF7Pnz9fyC8/jrvsuAcPHgy5XI4JEyYgMzNT+Cyk57V27VqsX78eHh4e8PDwwPr16yu8piEhIThx4gROnz6NN954Q5qNr776Cmlpafjkk08AC+pp2fEPGzYMP/74Iy5cuCCcZ3R0tEH7LdtvWblz585h6dKlJo+9IubUbQDo0KGD6D2NfbbmtvcyZXX99OnTQh08ffo0ZsyYISr3uLZlDisrKyxYsEBoV6mpqdi1a5fBZwEz26qlv2WW1oVJkyYJk0D27t0rKlNe2bX54IMPzD4/6bGUXfcFCxYY1LX33ntP1E4vXLiAH374QciXfgeVb0++vr7IzMxEZrl5GBW1VQAYPHgwMjMzTZ7vX9lfJmAMDw/HsGHDUFhYiK+++gpbtmyRFjFbnz59cPPmTXTt2hWdOnVCQkICwsPD8e6770Kr1WL37t3YuXMn1Go1+vTpg5kzZ0p3gUaNGmHcuHFITU3Ftm3bkJGRAS8vL/z73/82OSNToVBgwYIFeOWVV4Rt4+PjYWNjA3d3d6HcggULMHLkSGi1Wvzyyy/45ZdfYGVlhZEjR2LOnDmifVpZWWHIkCEICAjA4cOH8fPPP+PGjRsIDAzE7NmzRV8SYWFhmDNnDho1aoTDhw8jLi4O165dw6uvvmq0sVXFtXJ1dcXYsWORn5+P7du3Iz4+HgqFAsOGDUNkZKRQztL9GmPJtZgxYwZatmyJlJQUxMXFITk5GY0aNcKUKVMMvshdXFwwdepU3Lt3D9u3b8eZM2fg5uaGiRMnIiQkBFlZWUhISIBcLkdQUJBoWwDo0qULNBoNfv/9d8DC9y6vMu3A3Otfxthnbm69USgUmD9/Pvr16weVSoVffvkFu3fvhrOzMwYNGlSpXrD+/ftjwoQJkMvl+OGHH/D111+b3Y4sYUnd+fLLLxEZGQkXFxfhepw6dQru7u6YMmWK6LrOmTMHI0aMQFFREXbu3ImdO3ciPz8fdevWFcqUl5WVhR07duDMmTPQarU4cuQI4uLisHv3buTk5EiL49ChQ/jll19w//593L9/H7/88gt+/vlnnD17VloU8fHxSElJgbOzM9q3by/K8/f3R5s2bZCXl4cDBw4AFtZTGxsbjB49Go0aNcKePXuwf/9+6PV6vPXWW/h//+//CeVCQkLwxRdfoHXr1khLS0NcXByOHz+O4OBgvPzyy6J9Po65dTskJASxsbFo1aoVkpOTERcXh//+979o3bo15s+fj8DAQNF+H9fey0ycOBH9+/dHbm4utm/fjgMHDkAmk+Gf//wnJk6cKNonKmhb5urSpQu6deuGM2fOYNu2bbh48SJ8fX0xdepU0TGZ21bLmPtbZkldsLW1xaBBg3DkyBH4+/ujZ8+eonxjLDm/RYsWoXXr1sjIyEBcXBz27dsHnU4HpVKJ7777TjjHsWPHIjIyEg4ODtizZw9+/vlnXL161eR3RPn2dOvWLcTFxSEuLg4nT56UFhW1VQA4c+YM4uLisH//fmnRauEvETCGhYXh/fffh16vx4IFC7BhwwZpEbPJ5XLcvn0bU6ZMEX35qtVq7Ny5Ez179kRERAQiIiLwzTffQKPRoG3btgaNzN3dHWvXrsXw4cMRGRmJ8ePH4/Lly3jppZfQvXt3UdnyQkND4enpiStXruBf//oXIiMjMXLkSAwYMAA//fQTUPq/lG7duiEjIwPDhw8Xjmfq1KnIzc3Fa6+9Bn9/f2GfCoUCcrkc77zzDsaNG4fJkyejX79+OHXqFHx9ffHOO+8Apb1gQ4cOhZWVFaKjozFy5EhERkZi4MCBSEhIQNOmTUX/g66qa+Xl5YVNmzahb9++wvl++eWXKCkpQb9+/YRzsXS/xph7LQDg6tWriIqKwjvvvIPIyEgMHz4cKSkpqFOnjsEXoIuLC+Lj4zFw4ECh7JkzZ1C7dm28+uqrAIADBw7g3r17aNGihegHqG/fvmjYsCEuX76MuLg4wML3LlPZdmDu9UcFn7kl9SY8PBzt27dHamoq/vWvfwmf49tvv420tDSLb9uEhIRg6tSpqFWrFlauXInY2FjAzHZkKVN1p2nTphg6dChQ2j67d++OO3fuYMKECcL1eOedd/DJJ59ArVajf//+Qh1o37491Go1vvnmG0yePBkRERHo1atXhStHJCUlYfr06UhNTYVOp8Pp06cRGRmJTz75xOjkneXLl2PDhg0oLCxEYWEhNmzYgI8++kgI+qR+//13FBYWGrSpzp07w83NDSkpKYiPjwcsrKcODg54+PAhRo0ahcmTJ2PMmDHYuHEjUBoMlBk1ahTc3d2xfft2UZ2cN28eNBpNuT0+nqm63bt3b6Fujxo1Cq6urlixYgWGDBki1N+dO3eiXr16Br1Y5rR3AHjw4AHWrl2LHj16COf8008/wcbGxiAgN9a2zCWXy1GvXj1MnDhRqG99+/bFnj17ULduXQwZMgSwsK2WMfe3zJK6YGdnh/Pnz2PWrFlQqVSiPGNMnZ+Hh4foTs7QoUPh4OCAZcuWCZ/7uHHjMGTIEFy6dAnt2rXDsGHDgNIeY2tra2zcuBERERGYPHkyevbsiX//+9+SI/if8u3pwYMHiIyMRGRkJLZu3SotKmqrAJCamorIyEgsWLBAWrRasOzb+zlo3LixMEtw4cKFZv9ImnLx4kWDSvztt99iypQpovSLFy/i/v37UCgUoh9VALh+/TqWLl0q/J2eno6MjAxYW1vDyclJVLa8+/fvQ61Ww83NDW+//baQfu3aNVy7dg0o/eJ2dHREfHw80tPThTLx8fHIzMxErVq14O3tLaRrtVqDsiqVCgcOHEBxcTGaN28OlHbjN2rUCKmpqVi/fr2o7OnTp2FtbW3QO1oV1yo7O9ugsa1ZswaZmZlwcXFBs2bNgErs1xhzrwUAjB49WjQLTqVSITU1FXK5HG5ubkI6ANy9e9eg7Pnz54HSQAOln8+lS5cMvkA7deoEBwcHHDp0SDg3S94bT9gOzL3+ZaSfuSX1JigoCHq9Hjt27BB9Bjk5Ofj9998tCggUpUMUateujR9++AExMTFCnjntyFKm6o5Go4Gvry9Q2j6dnJzw66+/CoFVmQ0bNuDs2bNwc3ND165dgdKgwt7eHsGlwznK9nvx4kXRts9KXFwcbty4gQYNGiA0NFRI79SpE7RardALDgvrqUajwYEDB0TXLykpCSqVCg4ODlAoFAgODoa3tzdycnKwbt060fYbNmzAuXPnRGmPY6pu16lTB82aNUNoaCiaNWtmtGxCQgLUarXo+xRmtneU3s6U3vE5e/YsioqKUKdOHVE6jLQtSyQmJhrUt927d+PBgwfw8fGBQqGwqK2WMfe3zNK6UHa9zFXR+d2/fx+enp6i80tPTxcdM0qPe//+/bCyskLHjh0BAHl5eZDJZGjTpg08PDyEsikpKeW2JHO90AGjXC7HiBEjUKNGDfzwww9VshCtRqPBzZs3pclAac/BmjVrcPDgQSQnJ2P16tWiSlZeTk6OQcO/e/eu0cZTXnx8PPbv3w87OzvMmjULhw4dwr///W/R+7i4uEAmk2H06NHC+ImyV3BwMORyOZo0aSKUV6vVoi/pMnfu3IFWqxW+uMpmcrVt29Zgv+PHj4dcLkeDBg2E7avqWt28edNoz8j9+/dha2srek9L9muMudcCpWPg5s6di+3bt+PEiRP473//i0GDBom2K3P//n0cPnzYIE2r1YqO7+jRo0Dpjy9K/0ccFBSEe/fu4dChQ0I5S977SduBJdff2GduSb2pU6cOHj58KPyPuzy9Xi9NqpC1tTUGDBiAxo0bY9u2bZg3b54o35x2ZClz646LiwuKioqQlpYmLQqU/gDb2toKx7J161bcu3cP/fv3x9GjR/HNN98YHRP5rKhUKiQmJsLJyUmopyEhIWjWrBlu3Lgh9ILDwnqq0WgM6lleXh6KioqE//B5eHjAyckJOTk5SEpKEpUFAJ1OJ00yyZy67ezsDHt7ezRp0gQHDx4U1d958+ZBoVAY3KI0t70rFAq899572LRpE37//XekpKRg3rx5RjsNjLUtlI6Jk7Yr6fhGjUaDy5cvi7aDketrSVstY+5vmSV1obi42KL/uFl6fllZWQbHDACXL1+GRqMRjjsuLg6XL19GcHAwDh48iB9//BE9evSQbkZmeuoBo1qthk6nMzl2SdpYy5SUlCA3NxdyuRx+fn6i/9k9CekPl0KhwJo1a/D555+jTZs20Gq1OHHiBPbs2YN79+6JylaF6dOn41//+hd+++03ODs7Izw8HFu2bBGN01Cr1Th48KAwfqL8Szo+Sa/XQ6vVCn9LqdVq0d9lY3iMvcoHNaiia2XqR0Cn00GlUlVqv8aYey3CwsKwefNmhIWFwdXVFdevX8f+/ftx4sQJ6SYW2bNnD27cuIFmzZohJCQEXbt2hYeHB86fPy+MV7L0vZ+0HZhz/cuTfuZlzK03Op3OoM5ZSqfTITc3F1ZWVmjevLnBxBqY2Y4sYW7dsdSWLVvQr18/rFmzBg8fPkSvXr2wevVqfPDBB9Kiz8yBAweQl5eHoKAgeHp6olOnTnB2dkZiYqJQHyytp5awpKfZFEvqdlZWlkG9LXtVZsyZj48PNm/ejKioKDRt2hSPHj3CkSNHsG/fPhQWFkqLAxW0rW+//Va47Vn2+vjjjw16wYxtW0ar1YrO1dy2ai5L68Lj2pIxlpyfueLj49GvXz8sXLgQOTk5CA4OxpIlS/Dll19Ki5IZnnrAmJ2dDY1Gg+bNmxv9oQsJCYGLiwvy8/ORkZEhyispKcHKlSuRnp6OkJAQfPLJJ0b3oVAoDHr1mjRpArlcLkqrSK9evRAYGIi0tDQolUr07NkTo0ePxk8//WRxpTfX8ePHMWrUKPTs2RP79+9HvXr1MGrUKABAYWEhbGxskJmZafBFEhkZaTA+SdrjWKZ58+awt7cXxsuoVCrodDpotVqDfZa9li9fLt2NSGWulZubm8Hn5unpifr166OoqAjXr1+v1H6NMfdavP7663B0dMSyZcvQuXNnvPXWW5g8efITr6NVNvnF2dkZHTp0wCuvvAK9Xi+6zWfpe5vbDipizvU3xZJ6o1ar4eTkBC8vL+luYG9vb9EYxt27d+PYsWNo3bo15syZY7T30FQ7spS5dScvLw/29vbCLWqpBg0aQK1W48qVK0JaTk4O5s6diy5duuCrr76CVqvF22+/bTD261mJL538UrduXWECxoMHD0TfK5bWU3OUlJRAr9ejXr16BrdGUVpHLGFO3Var1dBqtbCyssKSJUsM6m5kJcec9enTB97e3jh27Bi6dOmCN954A+PGjUN8fLzJQFYqISHBIKjbs2ePKECytbU1OknK19cXzs7OyM/PR0pKikVt1RJPoy6UZ+753b17F1qtVrhFLVX2u1/+uFQqFZYsWYLQ0FBMnz4d+fn56NGjBwYMGCDalh7P/G/vSjpx4gTu3LkDX19fYTmMMmXd+bVr18alS5cM/keF0uBp3rx5yMnJQZ8+fTB37lxRftn4ID8/PyFNUTpWxtyA8aWXXoKdnR3u3r0ruiX1yiuvwMXFRVT2SXl4eIh6S3JycnDgwAEUFhaiZs2aQOlMq5KSEoSEhBjtWZGSy+Xo3Lmz6AfVx8cH3bp1g1arxenTp4HSz+Lu3btGBz6bqzLXqkGDBggLCxOlvfPOO6hfvz6uXr2K+Pj4Su3XGHOvhaurK4qLi0U/6j4+PmjTpo3wd2UlJiaisLAQXbt2RcuWLUWTXVDJ935cOzDFnOtviiX15vz583BwcECPHj1EX+iBgYHo3r27yTsNUnq9Hh9//DEuXbqEjh07Yv78+cI+zWlHljK37pw4cQKFhYV47bXXDHozw8LC0Lp1a9y5c0fofZGOvV21ahVu3boFe3v7x9ZtW1tbo2PhqsKpU6cgk8nQo0cPNGrUSDTZBZWsp49z9uxZ3LlzBy+99JLBD/bo0aPRokULUdrjmFO34+PjcePGDaPv+STq1KkDW1tb3Lx5UxTcvfLKK3B0dBSVfVJWVlZo3769aDKdQqFA7969YWdnV6Xf8cY8jbpQnrnnd+jQIeTk5MDHxwdjx44tt4c/j6d79+7CRDGU/mev/PfQ5s2bkZaWBltbW7i6upbb2jgnJye0a9dOmvy3Zf63dyUlJSXh559/xqhRozBq1Cj06tULqampsLOzQ9OmTeHm5obLly9j1apV0k0F8fHxmDFjBj7//HP069cPADBlyhQAwOHDh+Hn54d3330XzZo1w71799C6dWs4OztXeFtAKiUlBQ8ePEDbtm2xceNG3LhxA40aNYKPj0+VPw8yODgYM2bMwLVr14SBxS+//DJsbW1x7NgxAMCPP/6I4OBgdO7cGRs3bkRiYiIePXoER0dHNGvWDFeuXMGIESOEfWo0Gvj4+GDjxo04c+YMbGxs0LFjR7i6uuLIkSPCem1JSUnYtm0bRo0ahRkzZqB3797Izs6GtbU1vLy84OTkhBkzZphc6qEy10qtVmPSpEno0qULcnNz0ahRIwQEBODRo0fYvHkzVCpVpfZrjLnXIjU1Fc2aNcOkSZOEyQkdO3a0qDezItu3b0dYWBgCAwOh1+uxbds20Q9KZd/bVDswxZzrb4ol9ebnn39Gly5dEBwcLAydsLe3R1BQEFQqlcW3ItPT0zFx4kR8/fXX6Ny5M7777juMGzfOrHZkKXPrzrp16xAYGIh+/fph8eLFOHnyJPLy8vDSSy8hMDAQarUay5YtE8bolQW6Z86cQXFxMRo1aoTGjRsjKSnJZLB++/ZtFBcXo1u3bnB0dETt2rUNBvo/iT179mDAgAEICgqCWq0W9YLjCeqpKWXLkIwdOxajRo1CUFCQEMy1aNECd+/eNdrTVBFz6/Z//vMffPjhhwgPD8crr7wijD9t1KgR6tWrh5iYGNF/6sxx4cIFPHr0CK+//jpcXV2Rl5eHFi1awN3d3eJ6/jharRYuLi5Yvnw5jh07hpKSErz88sto2LAhLl26JEwgsqStWuJp1IXyzD2/rKwsrFq1Ch9++CHGjBmDkJAQpKWlwdHREe3atUPNmjXx888/C+1k2rRpaN68OU6dOoVHjx6hTp06aNOmDbKzs/Hrr79KjuJ/yn6PvL29MXnyZDx69AgZGRkVrmxgTHBwML788ks4ODjgiy++MGsJtBfdU+9hBIDY2FjMmTMHly5dQt26dREaGorOnTtDLpdj9+7diIyMfGwFjo+PxzfffIOHDx+ib9++whiERYsWYf369SgsLESXLl3Qu3dvFBQU4LvvvkNJSYl0N0bFx8dj2bJlyMvLQ7t27dC/f3+4u7vj+++/f+yPqaVycnKQnZ2N5s2bQ6lUCv+DWr58OT7//HOgtAv9ww8/xLZt22BjY4MePXpAqVQiJCQEGo0Gv/32m2ifGo0GS5cuxaNHj9C7d2+8+eabsLW1RVxcHMaNGyc6h5iYGHz11Ve4c+cOgoKCoFQq8eabb6Ju3bpISEgw2stbXmWu1YULF7Bt2zYEBgZCqVQiICAA6enpmDNnjjDbtzL7Ncbca7FkyRIcPnwYtWvXRu/evREaGorTp08bDHSvrPj4eOj1ejx8+BDHjx8X5T3Je1fUDkwx5/o/jrn1JiEhAZGRkUhKSkL9+vXRr18/dOnSBcnJydi1a5d0t2ZJT0/HvHnzkJ2djc6dO+Pbb79Ffn7+Y9uRpcytOygN1L/77juoVCp07doVSqUSgYGBuHjxIqZNmya6runp6XB2dsabb76J/v37o2nTpti/fz+mTZtmsm4vX74chw4dQs2aNdG3b1/Ur1/fZHlLlQ2fkMlkuHPnDo4cOSLKf5J6asqiRYuwYMEC3L59G23btkX//v2F5XGuXr0qLW6SuXV7w4YN+Pzzz5Geni7Umb59+8LLywtJSUlG16x8nHXr1mHTpk3QaDQICQlB3759AQArVqxAcXGxtPgT0el02Lx5MzIzM9GjRw/069cPrq6u+O233xARESG6K2NuW7XE06oLZSw5vw0bNmDatGm4dOkSmjZtCqVSiW7duuHRo0f47rvvRP+JzsjIEHrRlUolgoKCcObMGUybNs3oBLcyKpUKK1euRG5uLjp06IAuXbrAyspKWuxvx8rT07PikaZET0CpVGLu3LlITk7Gu+++K82u1saNG4eIiAgcOXKk0mPqntTf+fpbau3atQgICMDs2bMt7mn6K/vkk08wePBgbNq0yezF8Z+m9evXo23btvjmm2+wePFiaTZVQ9HR0VAqlVi2bBkWLlwozaYXyDPpYST6uwkJCYFWsqYd0YvE09MTwcHByM/Pr3CR72cpMDAQjRo1Em7/EdGLhQEjURXr27cvmjVrZjDZhehF0qtXL9SvX99gssvzMnToUHh4eJg1EYuInj0GjERVZOHChVi2bBlmzJghPI6qKsecEVWFlStX4vvvvxeewVw2medZ+fjjj3HkyBH8+OOPiImJwddff42DBw9CqVQiLy8Pa9asYbshegExYCSqIrVr10b37t1ha2uLlStXih7NRfSiqFevHl577TU8evQIsbGxz7w37/r169DpdGjfvr0wIaNOnTo4cuQIIiMj2StP9ILipBciIiIiMok9jERERERkEgNGIiIiIjKJASMRERERmcSAkYiIiIhMYsBIRERERCYxYCQiIiIikxgwEhEREZFJDBiJiIiIyCQGjERERERkEgNGIiIiIjKJASMRERERmcSAkYiIiIhMYsBIRERERCYxYCQiIiIikxgwEhEREZFJDBiJiIiIyCQGjERERERkEgNGIiIiIjKJASMRERERmcSAkYiIiIhMYsBIRERERCYxYCQiIiIikxgwEhEREZFJVp6ennppIhERET0ZHx8ftGzZEjY2NtKsx8rIyEBKSgrCwsLQtm1babaBtLQ0HDhwAOnp6dIsoirBgJGIiOgpWL58Obp16wYA0Ov1KCwshE6ng1wuh1wuBwAUFRVBq9XC2toaDg4OsLKyAgBs2rQJUVFRiI2NRWhoKGxtbWFvbw+9Xo+ioiKUlJQI72NjYwN7e3toNBrs3r0bM2fOhEqlEvKJqgJvSRMREVWxwMBAtGjRArdu3cKsWbPg7e0NPz8/+Pv74/jx4wCA/Px8TJkyBf7+/vDz80Pnzp1x9OhRaDQa3L59GwDwwQcfICAgAAcOHAAA3L9/H1OnToW/v7/watWqFRYvXgydToc+ffpg5syZomMhqgoMGImIiKpY+/bt4ejoiDVr1mDdunVCuqenJxo2bAgAuH37NuLj44W8nJwcnDp1CgUFBbh8+bKQDgBNmjQBSoPMCxcuiPIA4Pvvv0d2djZsbGzQqVMn+Pv7S4sQPREGjERERFUsKCgI2dnZWLt2rSi9devWcHV1BQCkpqYavXVcUFCAnJwc4e8uXbrA3d0dAJCeno6srKxypf/k7e0NOzs7AIBMJoNCoZAWIXoiDBiJiIiqkL+/P7y9vXHo0CGDgLBVq1ZwcHCARqMxGvjVqVMHGo0GKSkpQlrLli3h7OwMrVZrdBsA8PX1Rc2aNQEADx48EG1PVBUYMBIREVUhhUKBCxcuYN++fdIsNG/eHDKZrMKg7sqVK/jjjz9EgaaXlxfs7OxQUFCA5ORkUfkyHTt2hEKhQHFxscH2RFWBASMREVEVSkhIwPjx45GUlCRKLz9+8d69ezh27JgoH6Uzqz/99FNRWsuWLWFlZVXh+MWwsDB0794der0ehw4dwqJFi6RFiJ4YA0YiIqJnoE2bNo8dvygVHByMOnXqAABu3ryJwMBAKJVKKJVKjBw5EuvXr8fMmTNhY2OD9evXY+LEiWbtl8hSXIeRiIjoGYiKisKIESOg0+mwbNkyLFy4UFrEQHh4OCZNmgQ7OzuD9Rf1ej1ycnJw7NgxrF27lot201PFHkYiIqJnoGXLlibHLxpTNn7x0aNHmDNnjmj9xYCAAPTs2ROzZ89msEhPHQNGIiKip8zT0xP169cHTIxfNKZs/GJeXh4uXbokzSZ6ZhgwEhERPWWVGb9Yfv3FK1eumN0rSfQ0MGAkIiJ6ypo2bWpy/UVjytZf1Ol0yMjIkGYTPVMMGImIiJ6yyoxf9PPzg729PVQqFc6ePSvNJnqmGDASERFVMR8fH/Tt2xdKpRLDhg2Dr68vAEClUqFmzZpQKpUIDg6WbgaFQoFevXph4MCB8PPzAwAUFRXByckJvXr14iP/6LnhsjpEVC14enpi6NChqFWrljRLRKPRIDExEXv37jVrHBlRZSxfvhzdunWTJovk5uYiKioKBw8eFNI+++wzDBkyBFZWVqKyAPDw4UPMnDkT27dvl2YRPXUMGImoWmjXrh2io6Ph7u4Oe3t7yGQy6PV6g7XrbGxsYG9vjwcPHmDr1q0GT9V4nt577z1ERETAzs4Oa9asQXR0tLSISYGBgZg/fz68vb1x8uRJjBw5kkExEVUJ3pImomohMTER3bp1g7+/P7Zu3QoARteua9WqFZYvXw57e3sMHz4cCxYskO7qufHx8UGNGjUgl8vRsmVLafZjeXp6wsPDA1ZWVmjYsCH8/f2lRYiIKoUBIxFVW3q9HlqtVpqMefPm4eTJk7CxsUHPnj0xdOhQaZHnYs+ePUhLS0N2dnalbjvu27cPx48fR35+Pn777TckJCRIixARVQoDRiL6W7p+/TpQOsmgffv20uznIj4+Hj179kSXLl2wZcsWafZjqVQqjB49Gm3atMH06dOl2URElcaAkYj+9lxcXKRJRERUDie9EFG1Ex0djcGDB6OgoACzZ89GXFyctIgwi1Wn02HdunWYM2cOwsPD0axZMzg7O8Pd3R1btmyBl5cXgoKCkJWVhdWrVyMpKUnYR2BgIEaMGIGgoCDY2dkhIyMDGzduNPp+Pj4+eO+999ChQwfUqVMH9+7dQ3JysrDPAQMGoFOnTnB0dETDhg2RnJws6iXs0aMHhgwZAj8/P1hbWyMtLQ23b9+Gra0t3n//fQQGBmLgwIFwdHRE48aNUVBQgAULFhis+Td48GC89dZb8Pb2hlqtxqVLl7B69WocOnRIKCM9ln379mHXrl1499138fLLLwMAjh49ih9++AE5OTnl9k5E1RV7GInobycwMBAtWrQASh+5tm7dOqB0pnWvXr3w2muvoVmzZhg5ciRCQ0NRo0YN9OnTB7Nnzxb2ERYWhlWrVqFz58746aefsHz5ctStWxfz5s3Dl19+KZQDgIEDB2LDhg148803cerUKcyePRspKSl48803sWjRIgQGBqJ169bo2bMnevTogZYtW6JRo0bC9hMmTEBMTAy0Wi0mTpyIkSNH4u7du+jZsydq1KgBAGjQoAFCQ0Px5ptvIjAwED4+PqI1+zw8PLBq1SrMnj0beXl5mDdvHlauXImGDRtiyZIliIiIEMpKj8Xf3x+rV69GkyZNcPbsWdjZ2WH06NGYP38+1wUk+ptgwEhE1ZaVlRUaNGgApVIJpVKJgQMHIjo6Gt988w1eeuklZGZm4uOPP0Z6ejoAYPTo0Wjfvj0yMzMhl8vh5OSEzz77DPn5+aL9hoSEYMKECZDL5Vi8eDEWLlyI5cuXIzY2FiqVCqGhoejdu7dQdtKkSXB2dsaPP/6IqVOnIi4uDi4uLrC2toaLiws8PT0xZ84c+Pn54dixY6L3AoDu3btDpVLhxx9/REJCAlJSUvDRRx/h3LlzQpmdO3eiY8eOWLp0KTQajWh7APjkk0/wyiuv4ODBgxg7diy2bNmCVatWYdy4ccjNzUV4eDiGDx8OAMKxnD59GgAQHByMbdu2Yfjw4Zg+fTqWL1+OgoICBAQEIDQ0VPJOxk2bNg3JyclISUmp1Gvz5s3SXRLRM8SAkYiqLUdHR4wdOxZz587F3LlzMXPmTISGhuLWrVtYsmQJ+vXrh/j4eNE2KpUKOp0OAJCWloZ9+/Zh6tSpiIiIwNSpUwEAQ4YMgbu7O27evImffvpJ2Hb79u24efMmnJ2dERQUBABQKpXw8PDA7du3sW/fPlHZ5ORk7NmzR5Re9t7l2dnZoVatWujatauQplKpkJmZifv374vK6vWGo4yGDh2Kjh07orCwEH/88YcoLz09HadPn4ajoyPefvttUY9hUVERAODatWtYunSpkJ6dnQ2VSgU7Ozt4e3sL6aasWrUK06dPx+zZsyv1epHWyyT6O2LASETVVnFxMVasWCFah7F9+/Z46623sHDhwscuan316lWgNKjauXMn0tPToVAo4OPjAysrK1hbW+Pjjz9GTEyM8LK1tYW1tTVeeukleHp6wt/fH1ZWVrh27RpSyo0n3LJlC5RKJT788EOzjsPW1hajR4/GuXPnsH//fsTExGD9+vUYP368tLgBPz8/ODo64uHDh8Ls8PLKlh5q1KiR0R7DO3fuPPYYHycnJwc7d+5EXFxcpV7lrx0RPXuc9EJE1U7ZpBeNRoNly5Zh4cKF0iIm7d27F76+vti0aROioqJEecHBwYiJiYGHhwcyMjIqDGROnTqFrKwsoeyRI0fw7rvvSosZWLt2LTp37iwq7+Pjg3nz5iEwMFD0yLiHDx9i5cqV+Prrr4W0yZMnY8yYMbh37x4iIyORkJAg7DMnJ0dIK69sGwCi62XsWFDuGtSuXbtS1/dZyMzMlCbRM+bl5SVNor8wBoxEVO08zYDR398fS5YsQYMGDQwCKanyweXjypapKEhD6XjIHj16wM/PDz4+PnBwcMCNGzcwYcIEYfa2sYBxzZo16Nq1a4UB4wcffIDw8HDodDp89dVXWL58OWDiWCoTMHp4eCAoKAi2trbSLLOYCs6J6OnjLWkiIgukpKQgOzsbKA2CjM0SLrv9nZCQgNzcXACAm5ub0bLm+L//+z9MmzYN8fHxmD59Ovr164eRI0fi2rVrcHNzE41tNCYrKws6nQ5OTk7w8PCQZsPNzQ1yuRwFBQW4dOmSNLtKjBw5Ep999pkwntTS14wZM6S7JKJniAEjEZGFfv/9dxQVFcHNzU2YDV1GoVDg008/xciRIwEAhw8fRnFxMRo0aIC3335bVDYwMBC//vorPvzwQ1G6lEKhQHBwsCjgPH78OK5evQqtVmsw8UVq7969yMnJgZ2dHXx9faXZ8PHxgV6vR3JyssEkoKry+eefIyAgQDSe1JLXoEGDpLskomfIxsXFZY40kYjor0ahUCA0NBStW7dGQEAAvLy8oNfrcfXqVTg7O6NevXq4fPmydDOR4OBgBAcHo1OnTqhZsyZu3boFmUxmsO3Jkyfh6emJ1q1bw8vLC5cvXxYmyERHR8PLywuLFi3C9evXkZSUhMDAQHh5eaFJkya4ceMGMjMzoVAoMHnyZDg5OeGrr75CgwYN0KlTJ7Rv3x5169bF7du3oVarUVJSgjfffBOenp6Qy+U4cuQIUBrkDRw4EMXFxVizZg0A4B//+AdatGiBVq1aQa1WIzMzE46OjkhISECtWrXw8ssvo3Hjxrh69aowxu+jjz5Cjx49kJ6ejhkzZuDevXvw9/cXHUt+fj7UajUUCgUCAgLg4+ODDh06wN7eHlevXoWDgwMePHiAgoIC4RoRUfXCMYxEVC2UHy9oTFpaGnr27ClNFikbsydlbFuFQoEpU6agf//+cHJyQlFREaysrJCXl4eYmBhs27ZNKOvh4YGoqCh069YNtra2yM3NhYODA+7evYtPPvkE8fHxwrjL8srGYPbs2RMODg5wcnKCWq3G/fv3Ua9ePRQWFiI2NlaYcT137lw4OTmJ9lF+/OGgQYMwZswY1K9fHxqNBtbW1pDJZDhx4gRiY2OFcZDGjgUAduzYgXbt2hlcY1NP1CGi6oEBIxHRE1AoFOjatSscHByQn5+P3377TVpEUH7iR05OjsHkk4p06dIF6enpePjwofBelmwv5e/vD29vbxQXF+PkyZPV9vF+Pj4+aNmyJWxsbKRZj1U2ySYsLAxt27aVZhtIS0vDgQMHhEXgXxQ+Pj4YOnSo8EQgc5SUlOD333/Hrl27/vLnT1WHASMREVVLZc8LR+mC5oWFhdDpdJDL5ZDL5UDp4uRarRbW1tZwcHAQli0qmyEfGxuL0NBQ2Nrawt7eHnq9HkVFRSgpKRHex8bGBvb29tBoNNi9ezdmzpz5xOtWVpXBgwcjMjISjo6OwvlptVphUfYy5c9fq9Vi9erViI6O/sufP1UdTnohIqJqp+x54bdu3cKsWbPg7e0NPz8/+Pv74/jx4wCA/Px8TJkyBf7+/vDz80Pnzp1x9OhRaDQa3L59GyhdciggIAAHDhwAANy/fx9Tp04VTchp1aoVFi9eDJ1Ohz59+mDmzJmiY3meNm3ahPbt2+PDDz8UJkcdP37cYFKRn58fwsLCcOnSJeh0OiGg/KufP1UdBoxERFTttG/fHo6OjlizZg3WrVsnpHt6eqJhw4YAgNu3b4tmhefk5ODUqVMoKCgwmCDVpEkToDTIvHDhgigPAL7//ntkZ2fDxsYGnTp1gr+/v7SIWcaPH48DBw6gXbt20qwn0qxZMzg6OkKr1eL8+fPSbKA0kPzjjz9QWFj43M6fXlwMGImIqNoJCgpCdnY21q5dK0pv3bo1XF1dAQCpqalGb50WFBSIxnV26dIF7u7uQOljIrOyssqV/pO3tzfs7OwAADKZrNJrbtra2kImk0Emk0mznkjZLPuCggIkJydLswVFRUVQqVR48OCBkPYsz59eXAwYiYioWimb1HPo0CGDgLBVq1ZwcHCARqMxGvjUqVMHGo1G9FSZli1bwtnZGVqt1ug2AODr64uaNWsCAB48ePBCPZVGoVCgadOmgJEewuDgYHz33XeiHs3CwkLcuXNH+Puvfv5UNRgwEhFRtaJQKHDhwgXs27dPmoXmzZtDJpNVGNRcuXIFf/zxhyjQ9PLygp2dncneuY4dO0KhUKC4uNhg++etY8eOqF27NmCkh/Af//gHmjZtCrVaDQC4dOkSdu3aJbo2f/Xzp6rBgJGIiKqVhIQEjB8/XlhXskz58Yv37t3DsWPHRPkonVn96aefitJatmwJKysrg965MmFhYejevTv0ej0OHTqERYsWSYs8V/7+/kZ7CAMDA/GPf/wDOTk5QoC4a9cug2eD/9XPn6oGA0YiIvpbaNOmzWPHL0oFBwejTp06AICbN28iMDAQSqUSSqUSI0eOxPr16zFz5kzY2Nhg/fr1mDhxoln7fZZatGgBuVwOGxsb/POf/0RKSgpSUlKwceNGeHt7Iy0tTbqJoDqcP1UNrsNIRER/C1FRURgxYgR0Oh2WLVtm0JNmTHh4OCZNmgQ7OzuD9Qf1ej1ycnJw7NgxrF27tkoWrZ48eTL69euHqKioSi/MXp5CocDWrVvRtGlT3Lp1C0ePHgUAODo6okOHDrC1tcXHH3+MLVu2SDcFnsP504uLASMREf0tlD36MTc3F1FRUTh48KC0iIEvvvgCAwcOxKNHj0wGVpZ4//334e3tLU0GALi7u6N58+Y4duwYNBqNNFv0FBZzvPHGG/j0009Rq1YtHDp0CMOHDxfyoqOj0blzZ4wfP97oeE48pfOnvybekiYiomrP09MT9evXB0yMXzSmbPxeXl4eLl26JM1+4ZVff/HixYuiPFdXV1y7dq3CYBHV4Pyp6rCHkYiIqr0BAwZg1qxZqFGjBnbu3ImIiAhpEQNdunTBggUL4O7ujiNHjuDdd9+VFqlyVX1LuuzxiPn5+ZgxY4aoZzI4OBgqlarCgPF5nD+9uNjDSERE1V7Tpk1Nrr9oTNn6gzqdDhkZGdLsF55CoYCnpydgZP1FlM4mryhYRDU4f6paDBiJiKjaa9mypcn1F43x8/ODvb09VCoVzp49K81+4YWEhAizwqXrL5rjr37+VLUYMBIRUbXj4+ODvn37QqlUYtiwYfD19QUAqFQq1KxZE0qlEsHBwdLNoFAo0KtXLwwcOBB+fn5A6ePynJyc0KtXr7/EI+/8/f2hVCrRtWtXODk5QafTQaVSQalUonfv3vDw8JBuIqgO509PB8cwEhFRtVM2ds8UY7OlP/vsMwwZMgRWVlaisgDw8OFDzJw5E9u3b5dmVZknHcMYHByMmJiYCoNClUqFefPmYd26ddIs4AU4f3pxMWAkIiJ6QTxpwEj0tPCWNBER0QuiuLgYWq0WWq1WmkX0XLGHkYiIiIhMYg8jEREREZnEgJGIiIiITGLASEREREQmMWAkIiIiIpMYMBIRERGRSQwYiYiIiMgkBoxEREREZBIDRiIiIiIyiQEjEREREZnEgJGIiIiITGLASEREREQmMWAkIiIiIpMYMBIRERGRSQwYiYiIiMgkBoxEREREZBIDRiIiIiIyiQEjEREREZn0/wGJD6rXOipovAAAAABJRU5ErkJggg==)"
      ],
      "metadata": {
        "id": "pHdhkhqVkWGm"
      }
    },
    {
      "cell_type": "markdown",
      "source": [
        "![image.png](data:image/png;base64,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)"
      ],
      "metadata": {
        "id": "YBI-X7ZJkYzK"
      }
    },
    {
      "cell_type": "markdown",
      "source": [
        "![image.png](data:image/png;base64,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)"
      ],
      "metadata": {
        "id": "jamGb4_pka3A"
      }
    }
  ]
}